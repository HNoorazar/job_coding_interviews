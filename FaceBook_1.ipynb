{
 "cells": [
  {
   "cell_type": "code",
   "execution_count": null,
   "metadata": {},
   "outputs": [],
   "source": []
  },
  {
   "cell_type": "markdown",
   "metadata": {},
   "source": [
    "# FaceBook Practice"
   ]
  },
  {
   "cell_type": "markdown",
   "metadata": {},
   "source": [
    "- Sparse vector dot product\n",
    "\n",
    "#### Arrays and Strings\n",
    "1. move zeros (--Done--)\n",
    "2. intersection of two arrays II (--Done--)\n",
    "3. valid palindrome (--Done--)\n",
    "4. valid palindrome II (--Done--)\n",
    "5. maximum size subarray sum equals k (--Done--)\n",
    "6. minimum size subarray sum (--Done--)\n",
    "7. valid parentheses (--Done--)\n",
    "\n",
    "8. 3sum  (--Done-- Facebook_2) \n",
    "9. add binary (--Done--)\n",
    "\n",
    "10. valid number \n",
    "11. trapping rain water\n",
    "\n",
    "#### LinkedList\n",
    "12. reverse linked list (--Done--)\n",
    "13. add two numbers (--Done--)\n",
    "14. remove n_th node from the end of the list (--Done--)\n",
    "15. flatten binary tree to linked list (--Done--)\n",
    "16. intersection of two linked list (--Done-- FB2)\n",
    "17. linked list cycle (--Done--)\n",
    "\n",
    "\n",
    "#### Trees and Graphs\n",
    "18. [Same Tree](https://leetcode.com/problems/same-tree/) (--Done-- FB 1)\n",
    "19. Binary tree paths (--Done--)\n",
    "20. binary tree vertical order traversal (This is BFS) (--Done--)\n",
    "21. validate binary search tree (--Done--)\n",
    "22. construct binary tree from preorder and In-order traversal (--Done--)\n",
    "\n",
    "23. convert binary search tree to sorted\n",
    "24. [diameter of binary tree](https://leetcode.com/problems/diameter-of-binary-tree) (Done - FB 1)\n",
    "25. robot room cleaner\n",
    "26. number of islands (--Done--)\n",
    "27. clone graph\n",
    "\n",
    "#### BackTracking\n",
    "28. letter combination of phone numbers (--Done--)\n",
    "29. permutations (--Done--)\n",
    "30. permutations II (--Done--)\n",
    "31. subsets (--Done--)\n",
    "32. regular expression matching (--Done--)\n",
    "33. wildcard matching (--Done--)\n",
    "34. remove invalid parentheses\n",
    "\n",
    "#### Sorting and searching\n",
    "35. find bad version (--Done--)\n",
    "36. [Merge Sorted Array](Merge Sorted Array) (--Done--)\n",
    "37. merge two sorted lists (--Done--)\n",
    "38. search in rotated sorted array (--Done-- FB2)\n",
    "39. search in rotated sorted array II (--Done-- FB2)\n",
    "40. smallest range (--Done--)\n",
    "41. merge intervals (--Done--)\n",
    "\n",
    "42. merge k sorted lists\n",
    "\n",
    "#### Dynamic Programming\n",
    "43. decode ways (--Done--)\n",
    "44. best time to buy and sell stock\n",
    "45. minimum window subsequence (--Done--)\n",
    "46. maximum sum of 3 non-overlapping s …\n",
    "\n",
    "#### Design\n",
    "47. sparse matrix multiplication (--Done--)\n",
    "48. add and search word data structure (--Done--, but does not work on leetcode. Copied from Wikipedia, Trie definition)\n",
    "\n",
    "49. Flatten nested list iterator\n",
    "50. binary search tree iterator\n",
    "\n",
    "LRU Cache\n",
    "read N characters given read4\n",
    "read N characters given read4 II\n",
    "read N characters given read4\n",
    "read N characters given read4 II\n",
    "\n",
    "#### Others\n",
    "find celebrity\n",
    "task scheduler\n",
    "divide two integers (--Done--)\n",
    "integer to english words\n",
    "minimum window substring (--Done--)\n",
    "Kth largest element in an array (--Done--)"
   ]
  },
  {
   "cell_type": "code",
   "execution_count": null,
   "metadata": {},
   "outputs": [],
   "source": [
    "import numpy as np"
   ]
  },
  {
   "cell_type": "markdown",
   "metadata": {},
   "source": [
    "#### Sparse vector dot product\n",
    "\n",
    "I was asked this question in Facebook interview.\n",
    "My solution is of ```O(len(v1) + len(v2))``` in terms of time complexity.\n",
    "\n",
    "where ```v1``` and ```v2``` are sparse vectors in $\\mathbb{R}^n$. They are saved as list of tuples (or linked list)\n",
    "Where each item is consist of ```index (position)``` and ```value``` of the vector at the given position. (Of course I am assuming the tuples are sorted increasilngly according to the indices.)\n",
    "\n",
    "Follow Up: What if we know ```len(v1) > len(v2)```.\n",
    "\n",
    "(I am told) The reason for rejection was that my solution is not the most optimal one!\n",
    "You will never know the motivation of the decision!\n",
    "I think it is mentioned in the ''cracking the coding interview'' book that at facebook 3 interviewers interview a candidate, each submit an score to a hiring manager, and then the deicion is made. It did not happen to me! I was rejected after first interview!\n",
    "\n",
    "I think there are two possible system that Facebook or Google or Microsoft can implement.\n",
    "     \n",
    "     1. One is that they could put a system in place that works like the leetcode.com that evaluates your code real time.\n",
    "     2. collecting data on interviewers and learning their decision pattern. For example if one as a recruiter rejects candidates for any reason other than a technical reason be detected. (Use features such as race, color, name, etc. of a candidate and a target variable rejection/acceptance.) I donot know how this would work out!\n"
   ]
  },
  {
   "cell_type": "code",
   "execution_count": 1,
   "metadata": {},
   "outputs": [],
   "source": [
    "def sparse_dot_product(vec1, vec2):\n",
    "    \"\"\"\n",
    "    input: vec1 and vec2 list of tuples \n",
    "           representing sparse vectors\n",
    "\n",
    "    outut: The dot product of the two vectors.\n",
    "    \"\"\"\n",
    "\n",
    "    len1 = len(vec1)\n",
    "    len2 = len(vec2)\n",
    "    if (len1==0) or (len2==0):\n",
    "        raise ValueError('One of the vectors is empty!')\n",
    "\n",
    "    pointer1 = 0\n",
    "    pointer2 = 0\n",
    "    product = 0\n",
    "\n",
    "    while (pointer1 < len1) and (pointer2 < len2):\n",
    "        if vec1[pointer1][0] == vec2[pointer2][0]:\n",
    "            product += (vec1[pointer1][1] * vec2[pointer2][1])\n",
    "            pointer1 += 1\n",
    "            pointer2 += 1\n",
    "        elif vec1[pointer1][0] < vec2[pointer2][0]:\n",
    "            pointer1 += 1\n",
    "        elif vec2[pointer2][0] < vec1[pointer1][0]:\n",
    "            pointer2 += 1\n",
    "    return product"
   ]
  },
  {
   "cell_type": "code",
   "execution_count": 2,
   "metadata": {},
   "outputs": [
    {
     "data": {
      "text/plain": [
       "20"
      ]
     },
     "execution_count": 2,
     "metadata": {},
     "output_type": "execute_result"
    }
   ],
   "source": [
    "vec1 = [(2, 4), (3, 1), (11, 23), (20, 1)]\n",
    "vec2 = [(1, 10), (2, 5), (10, 3)]\n",
    "sparse_dot_product(vec1, vec2)"
   ]
  },
  {
   "cell_type": "code",
   "execution_count": 12,
   "metadata": {},
   "outputs": [],
   "source": [
    "# Returns number of pairs in arr[0..n-1] \n",
    "# with sum equal to 'sum'\n",
    "def get_pairs_count(arr, summ):\n",
    "    mapp = {}\n",
    "    arr_len = len(arr)\n",
    "    # Store counts of all elements in map mapp\n",
    "    # This count be done via count function of python.\n",
    "    # for purpose of awareness of time compexity, lets do a for loop.\n",
    "    for ii in range(0, arr_len):\n",
    "        if not(str(arr[ii]) in mapp):\n",
    "            mapp[str(arr[ii])] = 1\n",
    "        else:\n",
    "            mapp[str(arr[ii])] += 1\n",
    "\n",
    "    twice_count = 0\n",
    "\n",
    "    # Iterate through each element and increment\n",
    "    # the count (Notice that every pair is \n",
    "    # counted twice)\n",
    "    for ii in range(0, arr_len):\n",
    "        if str(summ - arr[ii]) in mapp:\n",
    "            twice_count += mapp[str(summ - arr[ii])]\n",
    "\n",
    "        # if (arr[i], arr[i]) pair satisfies the\n",
    "        # condition, then we need to ensure that\n",
    "        # the count is decreased by one such \n",
    "        # that the (arr[i], arr[i]) pair is not\n",
    "        # considered\n",
    "        if (summ - arr[ii] == arr[ii]):\n",
    "            twice_count -= 1\n",
    "\n",
    "    # return the half of twice_count\n",
    "    return int(twice_count / 2) "
   ]
  },
  {
   "cell_type": "code",
   "execution_count": 21,
   "metadata": {},
   "outputs": [
    {
     "name": "stdout",
     "output_type": "stream",
     "text": [
      "Count of pairs is [2].\n"
     ]
    }
   ],
   "source": [
    "# Driver function \n",
    "arr = [3, 3, 1, 5]\n",
    "summ = 6\n",
    "\n",
    "print(\"Count of pairs is [{}].\".format(get_pairs_count(arr, summ)))"
   ]
  },
  {
   "cell_type": "markdown",
   "metadata": {},
   "source": [
    "## Trees and Graphs"
   ]
  },
  {
   "cell_type": "markdown",
   "metadata": {},
   "source": [
    "### [diameter of binary tree](https://leetcode.com/problems/diameter-of-binary-tree)\n",
    "\n",
    "Given a binary tree, you need to compute the length of the diameter of the tree. The diameter of a binary tree is the length of the longest path between any two nodes in a tree. This path may or may not pass through the root.\n",
    "\n",
    "Example:\n",
    "Given a binary tree \n",
    "\n",
    "          1\n",
    "         / \\\n",
    "        2   3\n",
    "       / \\     \n",
    "      4   5    \n",
    "\n",
    "Return ```3```, which is the length of the path `[4,2,1,3]` or `[5,2,1,3]`.\n",
    "\n",
    "Note: The length of path between two nodes is represented by the number of edges between them"
   ]
  },
  {
   "cell_type": "code",
   "execution_count": 7,
   "metadata": {},
   "outputs": [],
   "source": [
    "def binary_tree_diameter(root):\n",
    "    curr_diameter = 1\n",
    "    diameter(root, curr_diameter)\n",
    "    return curr_diameter - 1\n",
    "\n",
    "def diameter(node, curr_diameter):\n",
    "    if type(node)!=tree_node: \n",
    "        return 0\n",
    "    left_diameter = diameter(node.left)\n",
    "    right_diameter = diameter(node.right)\n",
    "    curr_diameter = max(curr_diameter, left_diameter + right_diameter + 1)\n",
    "    return max(left_diameter, right_diameter) + 1"
   ]
  },
  {
   "cell_type": "code",
   "execution_count": null,
   "metadata": {},
   "outputs": [],
   "source": [
    "def diameter_of_binary_tree(self, root):\n",
    "    \"\"\"\n",
    "    :type root: TreeNode\n",
    "    :rtype: int\n",
    "    \"\"\"\n",
    "    self.ans = 0\n",
    "    def depth(node):\n",
    "        if not node: return 0\n",
    "        L = depth(node.left)\n",
    "        R = depth(node.right)\n",
    "        self.ans = max(self.ans, L+R)\n",
    "        return max(L, R) + 1\n",
    "\n",
    "    depth(root)\n",
    "    return self.ans\n"
   ]
  },
  {
   "cell_type": "markdown",
   "metadata": {},
   "source": [
    "### Binary Seach tree"
   ]
  },
  {
   "cell_type": "code",
   "execution_count": 8,
   "metadata": {},
   "outputs": [],
   "source": [
    "# insert operation in binary search tree \n",
    "# a node in a BST \n",
    "class tree_node:\n",
    "    def __init__(self, key):\n",
    "        self.left = None\n",
    "        self.right = None\n",
    "        self.value = key\n",
    "\n",
    "def insert(root, node):\n",
    "    if root is None:\n",
    "        root = node\n",
    "    else:\n",
    "        if root.value < node.value:\n",
    "            if root.right is None:\n",
    "                root.right = node\n",
    "            else:\n",
    "                insert(root.right, node)\n",
    "        else:\n",
    "            if root.left is None:\n",
    "                root.left = node\n",
    "            else:\n",
    "                insert(root.left, node)\n",
    "\n",
    "# search a given key in BST\n",
    "def search(root, key):\n",
    "     \n",
    "    # Base Cases: root is null or key is present at root\n",
    "    if root is None or root.val == key:\n",
    "        output = root\n",
    "    \n",
    "    elif root.val < key:\n",
    "        # Key is greater than root's key\n",
    "        output =  search(root.right, key)\n",
    "    else:\n",
    "        # Key is smaller than root's key\n",
    "        output = search(root.left,key)\n",
    "    return output"
   ]
  },
  {
   "cell_type": "markdown",
   "metadata": {},
   "source": [
    "### Binary Search"
   ]
  },
  {
   "cell_type": "code",
   "execution_count": 30,
   "metadata": {},
   "outputs": [],
   "source": [
    "def binary_search(arr, query):\n",
    "    \"\"\"\n",
    "    arr: a given list we want to find an element in\n",
    "    query: a given number we want to find in arr\n",
    "    \"\"\"\n",
    "    # the index of left boundary of sub-list\n",
    "    left = 0\n",
    "    \n",
    "    # the index of right boundary of sub-list\n",
    "    right = len(arr)-1\n",
    "    \n",
    "    while (left <= right):\n",
    "        mid = int((left+right)/2)\n",
    "        \n",
    "        if query==arr[mid]:\n",
    "            return mid\n",
    "        \n",
    "        elif query<arr[mid]:\n",
    "            right = mid-1\n",
    "            \n",
    "        elif query>arr[mid]:\n",
    "            left = mid+1\n",
    "\n",
    "    print ('**Bad News** The query is not in the list!!!')\n",
    "    # return 'not_found'"
   ]
  },
  {
   "cell_type": "code",
   "execution_count": 31,
   "metadata": {},
   "outputs": [
    {
     "name": "stdout",
     "output_type": "stream",
     "text": [
      "**Bad News** The query is not in the list!!!\n"
     ]
    }
   ],
   "source": [
    "binary_search([1, 2, 3, 4, 5], 20)"
   ]
  },
  {
   "cell_type": "markdown",
   "metadata": {},
   "source": [
    "###  [Flatten Binary Tree to Linked List.](https://leetcode.com/problems/flatten-binary-tree-to-linked-list/)\n",
    "\n",
    "Given a binary tree, flatten it to a linked list in-place.\n",
    "\n",
    "For example, given the following tree:\n",
    "\n",
    "        1                      \n",
    "       / \\\n",
    "      2   5\n",
    "     / \\   \\\n",
    "    3   4   6\n",
    "    \n",
    "    1 - 2 - 3 - 4 - 5- 6"
   ]
  },
  {
   "cell_type": "code",
   "execution_count": null,
   "metadata": {},
   "outputs": [],
   "source": [
    "def flatten_binary_tree(tree_root):\n",
    "    # use a list as a stack for depth first search.\n",
    "    future_stack = [tree_root]\n",
    "    \n",
    "    while len(future_stack) != 0:\n",
    "        current_node = future_stack.pop()\n",
    "        \n",
    "        if current_node != None:\n",
    "            if current_node.right != None:\n",
    "                future_stack.append(current_node.right)\n",
    "\n",
    "            if current_node.left != None:\n",
    "                future_stack.append(current_node.left)\n",
    "\n",
    "            if len(future_stack) != 0:\n",
    "                current_node.right = future_stack[-1]\n",
    "\n",
    "            current_node.left = None\n",
    "            \n",
    "#### Recursion (very not intuitive)\n",
    "def flat(node):\n",
    "    if node is None:\n",
    "        return None\n",
    "    left = flat(node.left)\n",
    "    right = flat(node.right)\n",
    "\n",
    "    node.left = None\n",
    "    head = node\n",
    "    node.right = left\n",
    "    while node.right:\n",
    "        node = node.right\n",
    "\n",
    "    node.right = right\n",
    "    return head\n"
   ]
  },
  {
   "cell_type": "markdown",
   "metadata": {},
   "source": [
    "### [Same Tree](https://leetcode.com/problems/same-tree/)\n",
    "\n",
    "Given two binary trees, write a function to check if they are the same or not.\n",
    "\n",
    "Two binary trees are considered the same if they are structurally identical and the nodes have the same value.\n",
    "\n",
    "**Example 1**:\n",
    "\n",
    "**Input**:\n",
    "         \n",
    "           1         1\n",
    "          / \\       / \\\n",
    "         2   3     2   3\n",
    "         \n",
    "        [1,2,3],   [1,2,3]\n",
    "\n",
    "**Output**: true\n",
    "\n",
    "----------------\n",
    "**Example 2**:\n",
    "\n",
    "**Input**:   \n",
    " \n",
    "           1         1\n",
    "          /           \\\n",
    "         2             2\n",
    "\n",
    "        [1,2],     [1,null,2]\n",
    "\n",
    "**Output**: false\n",
    "\n",
    "--------------------\n",
    "**Example 3**:\n",
    "**Input**: \n",
    "\n",
    "           1         1\n",
    "          / \\       / \\\n",
    "         2   1     1   2\n",
    "\n",
    "        [1,2,1],   [1,1,2]\n",
    "\n",
    "**Output**: false\n"
   ]
  },
  {
   "cell_type": "code",
   "execution_count": 32,
   "metadata": {},
   "outputs": [],
   "source": [
    "def same_binary_tree(tree_1, tree_2):\n",
    "    if (tree_1.val == None) and (tree_2.val == None):\n",
    "        return True\n",
    "    elif (tree_1.val != None) and (tree_2.val == None):\n",
    "        return False\n",
    "    elif (tree_1.val != None) and (tree_2.val == None):\n",
    "        return False\n",
    "    elif (tree_1.val != tree_2.val):\n",
    "        return False\n",
    "    \n",
    "    flatten_binary_tree(tree_1)\n",
    "    flatten_binary_tree(tree_2)\n",
    "    \n",
    "    tree_1_list = [tree_1.val]\n",
    "    while tree_1.right != None:\n",
    "        current =  tree_1.right\n",
    "        tree_1_list = tree_1.append[current.val]\n",
    "        \n",
    "    tree_2_list = [tree_2.val]\n",
    "    while tree_2.right != None:\n",
    "        current =  tree2.right\n",
    "        tree_2_list = tree_2.append[current.val]\n",
    "    \n",
    "    if tree_2_list == tree_1_list:\n",
    "        return True\n",
    "    else:\n",
    "        return False"
   ]
  },
  {
   "cell_type": "code",
   "execution_count": null,
   "metadata": {},
   "outputs": [],
   "source": [
    "## Needs to get fixed. (it is half way there) \n",
    "## I wrote this with the mentality that\n",
    "## we will never enter to the None location!\n",
    "def same_binary_tree(tree_1, tree_2):\n",
    "    if (tree_1 == None) and (tree_2 == None):\n",
    "        return True\n",
    "    elif (tree_1 != None) and (tree_2 == None):\n",
    "        return False\n",
    "    elif (tree_1 != None) and (tree_2 == None):\n",
    "        return False\n",
    "\n",
    "    stack_1 = [tree_1]\n",
    "    stack_2 = [tree_2]\n",
    "    while (len(stack_1) != 0) and (len(stack_2) != 0):\n",
    "        current_1 = stack_1.pop()\n",
    "        current_2 = stack_2.pop()\n",
    "\n",
    "        if current_1.val != current_2.val:\n",
    "            return False\n",
    "\n",
    "        if (current_1.left != None) and (current_2.left != None):\n",
    "            stack_1.append(current_1.left)\n",
    "            stack_2.append(current_2.left)\n",
    "        elif (current_1.left == None) and (current_2.left == None):\n",
    "            pass\n",
    "        else:\n",
    "            return False\n",
    "\n",
    "        if (current_1.right != None) and (current_2.right != None):\n",
    "            stack_1.append(current_1.right)\n",
    "            stack_2.append(current_2.right)\n",
    "        elif (current_1.right == None) and (current_2.right == None):\n",
    "            pass\n",
    "        else:\n",
    "            return False\n",
    "\n",
    "    if (len(stack_1) != 0) or (len(stack_2) != 0):\n",
    "            return False\n",
    "\n",
    "    return True"
   ]
  },
  {
   "cell_type": "markdown",
   "metadata": {},
   "source": [
    "### [Binary Tree Paths](https://leetcode.com/problems/binary-tree-paths/)\n",
    "\n",
    "Given a binary tree, return all root-to-leaf paths.\n",
    "\n",
    "**Example**:\n",
    "\n",
    "**Input**:\n",
    "\n",
    "       1\n",
    "     /   \\\n",
    "    2     3\n",
    "     \\\n",
    "      5\n",
    "\n",
    "**Output**: ```[\"1->2->5\", \"1->3\"]```"
   ]
  },
  {
   "cell_type": "code",
   "execution_count": null,
   "metadata": {},
   "outputs": [],
   "source": [
    "# The logic here is True but on leetcode\n",
    "# \"Line 27: AttributeError: 'NoneType' object has no attribute 'append'\"\n",
    "# Why the hell this is not working?!\n",
    "# \n",
    "def binary_tree_paths(root):\n",
    "    if not root:\n",
    "        return []\n",
    "    \n",
    "    all_paths = []\n",
    "    curr_path = []\n",
    "    growing_paths = [(root, curr_path)]\n",
    "    \n",
    "    while len(growing_paths) != 0:\n",
    "        curr_node, curr_path = growing_paths.pop()\n",
    "        if (curr_node.left == None) and (curr_node.right == None):\n",
    "            all_paths.append(curr_path.append(curr_node.val))\n",
    "\n",
    "        if curr_node.right != None:\n",
    "            growing_paths.append((curr_node.right, curr_path.append(curr_node.val)))\n",
    "        \n",
    "        if curr_node.left != None:\n",
    "            growing_paths.append((curr_node.left, curr_path.append(curr_node.val)))  \n",
    "    return all_paths\n",
    "\n",
    "\"\"\"\n",
    "    if not root:\n",
    "        return []\n",
    "\n",
    "    paths = []\n",
    "    stack = [(root, str(root.val))]\n",
    "    while stack:\n",
    "        node, path = stack.pop()\n",
    "        if not node.left and not node.right:\n",
    "            paths.append(path)\n",
    "        if node.left:\n",
    "            stack.append((node.left, path + '->' + str(node.left.val)))\n",
    "        if node.right:\n",
    "            stack.append((node.right, path + '->' + str(node.right.val)))\n",
    "\n",
    "    return paths\n",
    "\"\"\""
   ]
  },
  {
   "cell_type": "markdown",
   "metadata": {},
   "source": [
    "#### [Binary Tree Level Order Traversal](https://leetcode.com/problems/binary-tree-level-order-traversal/)\n",
    "Binary Tree vertical Order Traversal\n",
    "\n",
    "Given a binary tree, return the level order traversal of its nodes' values. (i.e., from left to right, level by level).\n",
    "\n",
    "For example:\n",
    "Given binary tree ```[3,9,20,null,null,15,7]```, \n",
    "\n",
    "      3\n",
    "     / \\\n",
    "    9  20\n",
    "      /  \\\n",
    "     15   7\n",
    "   \n",
    "return its level order traversal as:\n",
    "\n",
    "    [\n",
    "     [3], \n",
    "     [9,20],\n",
    "     [15,7]\n",
    "    ]\n"
   ]
  },
  {
   "cell_type": "code",
   "execution_count": 361,
   "metadata": {},
   "outputs": [],
   "source": [
    "def binary_tree_level_order_traversal(root):\n",
    "    level_nodes = []\n",
    "    if root == None:\n",
    "        return level_nodes\n",
    "    \n",
    "    next_que = [root]\n",
    "    current_que = []\n",
    "    while len(next_que) != 0:\n",
    "        current_paths = [x.val for x in next_que]\n",
    "        level_nodes.append(current_paths)\n",
    "        \n",
    "        # update the queues\n",
    "        current_que = next_que\n",
    "        next_que = []\n",
    "        while len(current_que) != 0:\n",
    "            # deque the current_que. \n",
    "            # You can use queues of python as well.\n",
    "            current_node = current_que[0]\n",
    "            current_que.remove(current_que[0])\n",
    "\n",
    "            if current_node.left != None:\n",
    "                next_que.append(current_node.left)\n",
    "\n",
    "            if current_node.right != None:\n",
    "                next_que.append(current_node.right)\n",
    "    return level_nodes"
   ]
  },
  {
   "cell_type": "markdown",
   "metadata": {},
   "source": [
    "### validate binary search tree\n",
    "\n",
    "Given a binary tree, determine if it is a valid binary search tree (BST).\n",
    "\n",
    "Assume a BST is defined as follows:\n",
    "\n",
    "The left subtree of a node contains only nodes with keys less than the node's key.\n",
    "The right subtree of a node contains only nodes with keys greater than the node's key.\n",
    "Both the left and right subtrees must also be binary search trees.\n",
    "\n",
    "-----------\n",
    "\n",
    "**Input**:\n",
    "\n",
    "     2\n",
    "    / \\\n",
    "    1  3\n",
    "**Output**: ```true```\n",
    "\n",
    "-----------\n",
    "\n",
    "**Input**:\n",
    "\n",
    "      5\n",
    "     / \\\n",
    "    1   4\n",
    "       / \\\n",
    "      3   6\n",
    "**Output**: ```false```\n",
    "\n",
    "**Explanation**: The input is: ```[5,1,4,null,null,3,6]```. The root node's value\n",
    "             is 5 but its right child's value is 4."
   ]
  },
  {
   "cell_type": "code",
   "execution_count": 362,
   "metadata": {},
   "outputs": [],
   "source": [
    "def is_valid_BST(root, supremum = float('inf'), infimum = float('-inf')):\n",
    "        if not root:\n",
    "            return True\n",
    "        if root.val <= infimum or root.val >= supremum:\n",
    "            return False\n",
    "        \n",
    "        return is_valid_BST(root.left, min(supremum, root.val), infimum) and \\\n",
    "               is_valid_BST(root.right, supremum, max(root.val, infimum))"
   ]
  },
  {
   "cell_type": "markdown",
   "metadata": {},
   "source": [
    "### Construct binary tree from preorder and Inorder Traversal\n",
    "\n",
    "Given preorder and inorder traversal of a tree, construct the binary tree.\n",
    "\n",
    "Note:\n",
    "You may assume that duplicates do not exist in the tree.\n",
    "\n",
    "For example, given:\n",
    "\n",
    "**preorder** = `[3,9,20,15,7]`\n",
    "\n",
    "**inorder** = `[9,3,15,20,7]`\n",
    "\n",
    "Return the following binary tree:\n",
    "\n",
    "      3\n",
    "     / \\\n",
    "    9  20\n",
    "       / \\\n",
    "      15  7"
   ]
  },
  {
   "cell_type": "code",
   "execution_count": 58,
   "metadata": {},
   "outputs": [],
   "source": [
    "def cunstruct_tree(inorder, preorder):\n",
    "    if len(inorder)==0:\n",
    "        return None\n",
    "    \n",
    "    elif len(inorder)==1:\n",
    "        return tree_node(inorder[0])\n",
    "    \n",
    "    else:\n",
    "        root_value = preorder[0]\n",
    "        root = tree_node(root_value)\n",
    "        root_idx_in_inorder = inorder.index(root_value)\n",
    "        if root_idx_in_inorder==0:\n",
    "            left_subtree_inorder = []\n",
    "            left_subtree_preorder = []\n",
    "            \n",
    "            right_subtree_inorder = inorder[1:]\n",
    "            right_subtree_preorder = preorder[1:]\n",
    "            \n",
    "        else:\n",
    "            left_subtree_inorder = inorder[:root_idx_in_inorder]\n",
    "            right_subtree_inorder = inorder[root_idx_in_inorder+1:]\n",
    "            \n",
    "            left_subtree_preorder = preorder[1:root_idx_in_inorder+1]\n",
    "            right_subtree_preorder = preorder[root_idx_in_inorder+1:]\n",
    "        \"\"\"\n",
    "        left_child = inorder[root_idx_in_inorder-1]\n",
    "        # left_child_idx = preorder.index(left_child)\n",
    "        left_child_idx = root_idx_in_inorder\n",
    "        \"\"\"\n",
    "        root.left = cunstruct_tree(left_subtree_inorder, left_subtree_preorder)\n",
    "        root.right = cunstruct_tree(right_subtree_inorder, right_subtree_preorder)\n",
    "        \n",
    "    return root"
   ]
  },
  {
   "cell_type": "code",
   "execution_count": 11,
   "metadata": {},
   "outputs": [],
   "source": [
    "preorder = [7,10,4,3,1,2,8,11]\n",
    "inorder = [4,10,3,1,7,11,8,2]"
   ]
  },
  {
   "cell_type": "code",
   "execution_count": 12,
   "metadata": {},
   "outputs": [],
   "source": [
    "a = cunstruct_tree(inorder, preorder)"
   ]
  },
  {
   "cell_type": "code",
   "execution_count": 50,
   "metadata": {},
   "outputs": [],
   "source": [
    "preorder = [3,9,20,15,7]\n",
    "inorder = [9,3,15,20,7]\n",
    "b = cunstruct_tree(inorder, preorder)"
   ]
  },
  {
   "cell_type": "markdown",
   "metadata": {},
   "source": [
    "### Convert Sorted Array to Binary Search Tree\n",
    "construct a binary search tree from sorted array.\n",
    "\n",
    "Given an array where elements are sorted in ascending order, convert it to a height balanced BST.\n",
    "\n",
    "For this problem, a height-balanced binary tree is defined as a binary tree in which the depth of the two subtrees of every node never differ by more than 1.\n",
    "\n",
    "Given the sorted array: `[-10, -3, 0, 5, 9]`,\n",
    "\n",
    "One possible answer is: `[0, -3, 9, -10, null, 5]`, which represents the following height balanced BST:\n",
    "\n",
    "        0\n",
    "       / \\\n",
    "     -3   9\n",
    "     /   /\n",
    "    -10  5"
   ]
  },
  {
   "cell_type": "code",
   "execution_count": 271,
   "metadata": {},
   "outputs": [],
   "source": [
    "def binary_search_from_sorted_array(arr):\n",
    "    arr_len = len(arr)\n",
    "    \n",
    "    if arr_len==0:\n",
    "        return\n",
    "    \n",
    "    if arr_len==1:\n",
    "        return tree_node(arr[0])\n",
    "\n",
    "    # find median to make it root. \n",
    "    # Everything on right of median is greater than median and\n",
    "    # will go to the right subtree, same for left.\n",
    "    if len(arr)%2 == 0:\n",
    "        idx = int((arr_len/2) - 1)\n",
    "        median = arr[idx]\n",
    "    else:\n",
    "        idx = int(arr_len/2)\n",
    "        median = arr[idx]\n",
    "    \n",
    "    head = tree_node(median)\n",
    "    head.right = binary_search_from_sorted_array(arr[idx+1:])\n",
    "    head.left = binary_search_from_sorted_array(arr[:idx])\n",
    "    \n",
    "    return head"
   ]
  },
  {
   "cell_type": "code",
   "execution_count": 273,
   "metadata": {},
   "outputs": [],
   "source": [
    "arr = [-10, -3, 0, 5, 9, 10]\n",
    "root = binary_search_from_sorted_array(arr)"
   ]
  },
  {
   "cell_type": "code",
   "execution_count": 284,
   "metadata": {},
   "outputs": [
    {
     "data": {
      "text/plain": [
       "-3"
      ]
     },
     "execution_count": 284,
     "metadata": {},
     "output_type": "execute_result"
    }
   ],
   "source": [
    "root.left.right.value"
   ]
  },
  {
   "cell_type": "markdown",
   "metadata": {},
   "source": [
    "### [Number of Islands](https://leetcode.com/problems/number-of-islands)\n",
    "\n",
    "Given a 2d grid map of '1's (land) and '0's (water), count the number of islands. An island is surrounded by water and is formed by connecting adjacent lands horizontally or vertically. You may assume all four edges of the grid are all surrounded by water.\n",
    "\n",
    "**Input**:\n",
    "\n",
    "11110\n",
    "\n",
    "11010\n",
    "\n",
    "11000\n",
    "\n",
    "00000\n",
    "\n",
    "**Output**: 1\n",
    "\n",
    "-----------------\n",
    "**Input**:\n",
    "\n",
    "11000\n",
    "\n",
    "11000\n",
    "\n",
    "00100\n",
    "\n",
    "00011\n",
    "\n",
    "**Output**: 3"
   ]
  },
  {
   "cell_type": "code",
   "execution_count": 59,
   "metadata": {},
   "outputs": [],
   "source": [
    "def find_no_islands(grid):\n",
    "    no_rows = len(grid)\n",
    "    no_cols = len(grid[0])\n",
    "    if no_rows ==0:\n",
    "        return 0\n",
    "    \n",
    "    island_count = 0\n",
    "    for row in range(no_rows):\n",
    "        for col in range(no_cols):\n",
    "            if grid[row][col]==1:\n",
    "                island_count += 1\n",
    "                kill_the_island(grid, row, col)\n",
    "    return island_count\n",
    "    \n",
    "def kill_the_island(grid, i, j):\n",
    "    no_rows = len(grid)\n",
    "    no_cols = len(grid[0])\n",
    "    if (i<0 or j<0 or i>=no_rows or j>=no_cols or (grid[i][j]!=1)):\n",
    "        return\n",
    "    \n",
    "    grid[i][j]=0\n",
    "    kill_the_island(grid, i-1, j)\n",
    "    kill_the_island(grid, i+1, j)\n",
    "    kill_the_island(grid, i, j-1)\n",
    "    kill_the_island(grid, i, j+1)"
   ]
  },
  {
   "cell_type": "code",
   "execution_count": 60,
   "metadata": {},
   "outputs": [],
   "source": [
    "A = [[1, 1, 1, 1, 0], [1, 1, 0, 1, 0], [1, 1, 0, 0, 0], [0, 0, 0, 0, 0]]"
   ]
  },
  {
   "cell_type": "code",
   "execution_count": 61,
   "metadata": {},
   "outputs": [
    {
     "data": {
      "text/plain": [
       "1"
      ]
     },
     "execution_count": 61,
     "metadata": {},
     "output_type": "execute_result"
    }
   ],
   "source": [
    "find_no_islands(A)"
   ]
  },
  {
   "cell_type": "markdown",
   "metadata": {},
   "source": [
    "# Back Tracking\n",
    "BackTracking"
   ]
  },
  {
   "cell_type": "markdown",
   "metadata": {},
   "source": [
    "### Letter Combination of Phone Numbers\n",
    "\n",
    "Given a string containing digits from `2-9` inclusive, return all possible letter combinations that the number could represent.\n",
    "\n",
    "A mapping of digit to letters (just like on the telephone buttons) is given below. Note that 1 does not map to any letters.\n",
    "\n",
    "**Input**: `23`\n",
    "\n",
    "**Output**: `[\"ad\", \"ae\", \"af\", \"bd\", \"be\", \"bf\", \"cd\", \"ce\", \"cf\"]`."
   ]
  },
  {
   "cell_type": "code",
   "execution_count": 64,
   "metadata": {},
   "outputs": [],
   "source": [
    "def letter_combinations(digits):\n",
    "    two = ['a', 'b', 'c']\n",
    "    three = ['d', 'e', 'f']\n",
    "    four = ['g', 'h', 'i']\n",
    "    five = ['j', 'k', 'l']\n",
    "    six = ['m', 'n', 'o']\n",
    "    seven = ['p', 'q', 'r', 's']\n",
    "    eight = ['t', 'u', 'v']\n",
    "    nine = ['w', 'x', 'y', 'z']\n",
    "    \n",
    "    digits_letter_list = [two, three, four, five, six, seven, eight, nine]\n",
    "    digit_list = [2, 3, 4, 5, 6, 7, 8, 9]\n",
    "\n",
    "    if '1' in digits:\n",
    "        print ('Thers is no letter on 1 botton')\n",
    "        return None\n",
    "    \n",
    "    if len(digits) == 0:\n",
    "        return []\n",
    "    \n",
    "    if len(digits) == 1:\n",
    "        return digits_letter_list[digit_list.index(int(digits))]\n",
    "    \n",
    "    if len(digits) >= 2:\n",
    "        letters_list = [digits_letter_list[digit_list.index(int(digits))] for digits in digits ]\n",
    "        while len(letters_list) != 1:\n",
    "            second = letters_list.pop()\n",
    "            first = letters_list.pop()\n",
    "            new = []\n",
    "            for f_letter in first:\n",
    "                for s_letter in second:\n",
    "                    new.append(f_letter + s_letter)\n",
    "            letters_list.append(new)\n",
    "        return letters_list[0]"
   ]
  },
  {
   "cell_type": "code",
   "execution_count": 65,
   "metadata": {},
   "outputs": [
    {
     "data": {
      "text/plain": [
       "['ad', 'ae', 'af', 'bd', 'be', 'bf', 'cd', 'ce', 'cf']"
      ]
     },
     "execution_count": 65,
     "metadata": {},
     "output_type": "execute_result"
    }
   ],
   "source": [
    "letter_combinations('23')"
   ]
  },
  {
   "cell_type": "markdown",
   "metadata": {},
   "source": [
    "### [Permuations](https://leetcode.com/problems/permutations/)\n",
    "\n",
    "Given a collection of **distinct** integers, return all possible permutations.\n",
    "\n",
    "**Input**: ```[1,2,3]```\n",
    "\n",
    "**Output**:\n",
    "```\n",
    "[\n",
    "  [1,2,3],\n",
    "  [1,3,2],\n",
    "  [2,1,3],\n",
    "  [2,3,1],\n",
    "  [3,1,2],\n",
    "  [3,2,1]\n",
    "]\n",
    "```"
   ]
  },
  {
   "cell_type": "code",
   "execution_count": null,
   "metadata": {},
   "outputs": [],
   "source": [
    "# This is wrong.\n",
    "def permute(arr):\n",
    "    arr_len = len(arr)\n",
    "    permutation_list = []\n",
    "    curr = arr.copy()\n",
    "    \n",
    "    while not(arr in permutation_list):\n",
    "        for right_pointer in reversed(range(1, arr_len)):\n",
    "            curr = curr.copy()\n",
    "            curr[right_pointer], curr[right_pointer-1] = curr[right_pointer-1], curr[right_pointer]\n",
    "            permutation_list.append(curr)\n",
    "    return permutation_list"
   ]
  },
  {
   "cell_type": "code",
   "execution_count": null,
   "metadata": {},
   "outputs": [],
   "source": [
    "arr = [1, 2, 3, 4]\n",
    "permute(arr)"
   ]
  },
  {
   "cell_type": "code",
   "execution_count": null,
   "metadata": {},
   "outputs": [],
   "source": [
    "# copied off leetcode.\n",
    "def permute(self, nums):\n",
    "    perms = [[]]   \n",
    "    for n in nums:\n",
    "        new_perms = []\n",
    "        for perm in perms:\n",
    "            for i in xrange(len(perm)+1):   \n",
    "                new_perms.append(perm[:i] + [n] + perm[i:])   ###insert n\n",
    "        perms = new_perms\n",
    "    return perms"
   ]
  },
  {
   "cell_type": "markdown",
   "metadata": {},
   "source": [
    "Given a collection of numbers that might contain duplicates, return all possible unique permutations.\n",
    "\n",
    "\n",
    "Input: ```[1,1,2]```\n",
    "Output:\n",
    "```\n",
    "[\n",
    "  [1,1,2],\n",
    "  [1,2,1],\n",
    "  [2,1,1]\n",
    "]\n",
    "```"
   ]
  },
  {
   "cell_type": "code",
   "execution_count": 83,
   "metadata": {},
   "outputs": [],
   "source": [
    "# This is wrong\n",
    "def permute_II(arr):\n"
   ]
  },
  {
   "cell_type": "code",
   "execution_count": 552,
   "metadata": {},
   "outputs": [],
   "source": [
    "l = []"
   ]
  },
  {
   "cell_type": "code",
   "execution_count": 554,
   "metadata": {},
   "outputs": [
    {
     "data": {
      "text/plain": [
       "[10]"
      ]
     },
     "execution_count": 554,
     "metadata": {},
     "output_type": "execute_result"
    }
   ],
   "source": [
    "l[:0] + [10] + l[0:]"
   ]
  },
  {
   "cell_type": "markdown",
   "metadata": {},
   "source": [
    "### Subsets\n",
    "\n",
    "Given a set of **distinct** integers, nums, return all possible subsets (the power set).\n",
    "\n",
    "Note: The solution set must not contain duplicate subsets.\n",
    "\n",
    "Example:\n",
    "\n",
    "**Input**: nums = ```[1,2,3]```\n",
    "\n",
    "**Output**:\n",
    "```\n",
    "[\n",
    "  [3],\n",
    "  [1],\n",
    "  [2],\n",
    "  [1,2,3],\n",
    "  [1,3],\n",
    "  [2,3],\n",
    "  [1,2],\n",
    "  []\n",
    "]\n",
    "```"
   ]
  },
  {
   "cell_type": "code",
   "execution_count": 86,
   "metadata": {},
   "outputs": [],
   "source": [
    "def subset(arr):\n",
    "    \"\"\"\n",
    "    input arr: a list of unique numbers. (a set)\n",
    "    output: a list, containing all subsets of arr.\n",
    "    \"\"\"\n",
    "    subsets_set = [[]]\n",
    "    for element in arr:\n",
    "        current_subsets = []\n",
    "        for a_subset in subsets_set:\n",
    "            current_subsets.append(a_subset + [element])\n",
    "        subsets_set.extend(current_subsets)\n",
    "    return subsets_set"
   ]
  },
  {
   "cell_type": "code",
   "execution_count": 87,
   "metadata": {},
   "outputs": [
    {
     "data": {
      "text/plain": [
       "[[], [1], [2], [1, 2], [3], [1, 3], [2, 3], [1, 2, 3]]"
      ]
     },
     "execution_count": 87,
     "metadata": {},
     "output_type": "execute_result"
    }
   ],
   "source": [
    "subset([1, 2, 3])"
   ]
  },
  {
   "cell_type": "markdown",
   "metadata": {},
   "source": [
    "### Find permutations of one string `s` in another string `b`.\n",
    "Anagram\n",
    "\n",
    "Given a string ```s``` and a non-empty string ```p```, find all the start indices of ```p```'s anagrams in ```s```.\n",
    "\n",
    "Strings consists of lowercase English letters only and the length of both strings ```s``` and ```p``` will not be larger than 20,100.\n",
    "\n",
    "The order of output does not matter.\n",
    "\n",
    "----------\n",
    "**Example 1**\n",
    "\n",
    "Input:\n",
    "s: ```\"cbaebabacd\"``` p: ```\"abc\"```\n",
    "\n",
    "Output:\n",
    "```[0, 6]```\n",
    "\n",
    "----------\n",
    "**Example 2**\n",
    "\n",
    "Input:\n",
    "s: ```\"abab\"``` p: ```\"ab\"```\n",
    "\n",
    "Output:\n",
    "```[0, 1, 2]```\n",
    "\n"
   ]
  },
  {
   "cell_type": "code",
   "execution_count": 102,
   "metadata": {},
   "outputs": [],
   "source": [
    "def find_anagrams(string, pattern):\n",
    "    \"\"\"\n",
    "    input: string is a string \n",
    "           pattern: is a string with a size\n",
    "           either shorter or equal to that of string.\n",
    "\n",
    "    Given a string \"string\" and a non-empty \n",
    "    string \"pattern\", find all the start indices \n",
    "    of \"pattern\"'s anagrams in \"string\".\n",
    "    \n",
    "    WE CAN USE Counter function of Python.\n",
    "    from collections import Counter\n",
    "\n",
    "    def find_anagrams(s, p)\n",
    "        res = []\n",
    "        pCounter = Counter(p)\n",
    "        sCounter = Counter(s[:len(p)-1])\n",
    "        for i in range(len(p)-1,len(s)):\n",
    "            # include a new char in the window\n",
    "            sCounter[s[i]] += 1   \n",
    "            \n",
    "            # This step is O(1), since there are at most 26 English letters\n",
    "            if sCounter == pCounter:\n",
    "                # append the starting index\n",
    "                res.append(i-len(p)+1)\n",
    "                \n",
    "            # decrease the count of oldest char in the window\n",
    "            sCounter[s[i-len(p)+1]] -= 1\n",
    "            if sCounter[s[i-len(p)+1]] == 0:\n",
    "            \n",
    "                # remove the count if it is 0\n",
    "                del sCounter[s[i-len(p)+1]]   \n",
    "    \"\"\"\n",
    "    if len(pattern) > len(string):\n",
    "        return []\n",
    "    starting_idx = []\n",
    "    window_size = len(pattern)\n",
    "    steps_count = len(string) - len(pattern) + 1\n",
    "    pattern_dict = form_dict(pattern)\n",
    "    \n",
    "    for current_idx in range(steps_count):\n",
    "        current_window = string[current_idx : current_idx + window_size]\n",
    "        is_it = check_equality(current_window, pattern_dict)\n",
    "        if is_it:\n",
    "            starting_idx.append(current_idx)\n",
    "    return starting_idx\n",
    "\n",
    "def check_equality(string, pattern_dict):\n",
    "    string_dict = form_dict(string)\n",
    "    if string_dict == pattern_dict:\n",
    "        return True\n",
    "    else:\n",
    "        return False\n",
    "\n",
    "def form_dict(string):\n",
    "    str_dict = {}\n",
    "    for letter in string:\n",
    "        if letter in str_dict:\n",
    "            str_dict[letter] += 1\n",
    "        else:\n",
    "            str_dict[letter] = 1\n",
    "    return str_dict"
   ]
  },
  {
   "cell_type": "code",
   "execution_count": 101,
   "metadata": {},
   "outputs": [
    {
     "data": {
      "text/plain": [
       "[0, 1, 2]"
      ]
     },
     "execution_count": 101,
     "metadata": {},
     "output_type": "execute_result"
    }
   ],
   "source": [
    "find_anagrams('abab','ab')"
   ]
  },
  {
   "cell_type": "code",
   "execution_count": 86,
   "metadata": {},
   "outputs": [
    {
     "data": {
      "text/plain": [
       "False"
      ]
     },
     "execution_count": 86,
     "metadata": {},
     "output_type": "execute_result"
    }
   ],
   "source": [
    "key in A"
   ]
  },
  {
   "cell_type": "markdown",
   "metadata": {},
   "source": [
    "### Regular Expression Matching\n",
    "\n",
    "Given an input string (```sting```) and a pattern (```pattern```), implement regular expression matching with support for ```.``` and ```*```.\n",
    "\n",
    "   1. ```.``` Matches any single character.\n",
    "   2. ```*``` Matches zero or more of the preceding element.\n",
    "\n",
    "the matching should cover the entire input string (not partial).\n",
    "\n",
    "**Note**:\n",
    "\n",
    "   1. ```s``` could be empty and contains only lowercase letters a-z.\n",
    "   2. ```p``` could be empty and contains only lowercase letters a-z, and characters like ```.``` or ```*```.\n",
    "\n",
    "\n",
    "**Examples**\n",
    "\n",
    "----------\n",
    "```a.b``` matches ```acb```, ```aab```, ```axb```, \n",
    "\n",
    "and does not match ```ab```, ```acby```, ```cb```\n",
    "\n",
    "----------\n",
    "\n",
    "```a*b``` matches ```b```, ```ab```, ```aab```, ```aaab```, \n",
    "\n",
    "and does not match ```a```, ```acb\n",
    "\n",
    "------------\n",
    "```a*b.*y``` matches ```by```, ```bly```, ```ably```, ```ablmy```\n",
    "\n",
    "and does not match ```ay```, ```ab```"
   ]
  },
  {
   "cell_type": "markdown",
   "metadata": {},
   "source": [
    "             /\n",
    "             |  if str[i]==pattern[j] or pattern[j]== '.'\n",
    "             |       T[i-1][j-1] \n",
    "             |\n",
    "             |\n",
    "             /  if pattern[j] == *\n",
    "    T[i][j]= \\      T[i][j-2]  for zero occurance \n",
    "             |      T[i-1][j]  if str[i]==pattern[j-1] or pattern[j-1]=='.'\n",
    "             |\n",
    "             | False\n",
    "             \\"
   ]
  },
  {
   "cell_type": "code",
   "execution_count": 7,
   "metadata": {},
   "outputs": [],
   "source": [
    "# From youtube lesson\n",
    "def match_regular_expression(string, pattern):\n",
    "    \"\"\" \n",
    "    work with example: text = xaabyc\n",
    "                    pattern = xa*b.c\n",
    "                    \n",
    "    We are duing truth table kind of thing here.\n",
    "    \"\"\"\n",
    "    str_len = len(string)\n",
    "    pat_len = len(pattern)\n",
    "    \n",
    "    # initiate the truth table\n",
    "    truth_table = [x[:] for x in [[None] * (pat_len+1)] * (str_len+1)]\n",
    "    truth_table[0][0] = True\n",
    "    truth_table[0][1:] = [False for x in truth_table[0][1:]]\n",
    "    for row in range(1, str_len+1):\n",
    "        truth_table[row][0] = False\n",
    " \n",
    "    # deal with patterns like x*y* or x* \n",
    "    for ii in range(1, pat_len+1):\n",
    "        if pattern[ii-1] == '*':\n",
    "            truth_table[0][ii] = truth_table[0][ii-2]\n",
    "\n",
    "    for ii in range(1, str_len+1):\n",
    "        for jj in range(1, pat_len+1):\n",
    "            if (pattern[jj-1] == '.') or (pattern[jj-1] == string[ii-1]):\n",
    "                truth_table[ii][jj] = truth_table[ii-1][jj-1]\n",
    "            \n",
    "            elif (pattern[jj-1] == '*'):\n",
    "                truth_table[ii][jj] = truth_table[ii][jj-2]\n",
    "                if (pattern[jj-2] == '.') or (pattern[jj-2] == string[ii-1]):\n",
    "                    truth_table[ii][jj] = truth_table[ii][jj] or truth_table[ii-1][jj]\n",
    "                    \n",
    "            else:\n",
    "                truth_table[ii][jj] = False\n",
    "    return truth_table[str_len][pat_len]"
   ]
  },
  {
   "cell_type": "code",
   "execution_count": 3,
   "metadata": {},
   "outputs": [
    {
     "data": {
      "text/plain": [
       "True"
      ]
     },
     "execution_count": 3,
     "metadata": {},
     "output_type": "execute_result"
    }
   ],
   "source": [
    "string = 'ablmy'\n",
    "pattern = 'a*b.*y'\n",
    "match_regular_expression(string, pattern)"
   ]
  },
  {
   "cell_type": "code",
   "execution_count": 4,
   "metadata": {},
   "outputs": [],
   "source": [
    "# From leetcode Dynamic Programin\n",
    "def reg_ex_match(text, pattern):\n",
    "    memo = {}\n",
    "    def dp(i, j):\n",
    "        if (i, j) not in memo:\n",
    "            if j == len(pattern):\n",
    "                ans = i == len(text)\n",
    "            else:\n",
    "                first_match = i < len(text) and pattern[j] in {text[i], '.'}\n",
    "                if j+1 < len(pattern) and pattern[j+1] == '*':\n",
    "                    ans = dp(i, j+2) or first_match and dp(i+1, j)\n",
    "                else:\n",
    "                    ans = first_match and dp(i+1, j+1)\n",
    "\n",
    "            memo[i, j] = ans\n",
    "        return memo[i, j]\n",
    "\n",
    "    return dp(0, 0)\n",
    "\n",
    "# From leetcode recursive\n",
    "\n",
    "def reg_ex_match(text, pattern):\n",
    "    if not pattern:\n",
    "        return not text\n",
    "\n",
    "    first_match = bool(text) and pattern[0] in {text[0], '.'}\n",
    "\n",
    "    if len(pattern) >= 2 and pattern[1] == '*':\n",
    "        return (self.isMatch(text, pattern[2:]) or\n",
    "                first_match and self.isMatch(text[1:], pattern))\n",
    "    else:\n",
    "        return first_match and self.isMatch(text[1:], pattern[1:])"
   ]
  },
  {
   "cell_type": "markdown",
   "metadata": {},
   "source": [
    "### Wild Card Matching\n",
    "\n",
    "Given an input string ```s``` and a pattern ```p```, implement wildcard pattern matching with support for ```?``` and ```*```.\n",
    "\n",
    "   1. ```?``` Matches any single character.\n",
    "   2. ```*``` Matches any sequence of characters (including the empty sequence).\n",
    "\n",
    "The matching should cover the entire input string (not partial).\n",
    "\n",
    "Note:\n",
    "\n",
    "   1. ```s``` could be empty and contains only lowercase letters a-z.\n",
    "   2. ```p``` could be empty and contains only lowercase letters a-z, and characters like ```?``` or ```*```.\n",
    "\n",
    "---------------\n",
    "** Example 1**:\n",
    "**Input**:\n",
    "   1. ```s = \"aa\"```\n",
    "   2. ```p = \"a\"```\n",
    "\n",
    "**Output**: false\n",
    "\n",
    "Explanation: \"a\" does not match the entire string \"aa\".\n",
    "\n",
    "---------------\n",
    "** Example 2**:\n",
    "**Input**:\n",
    "   1. ```s = \"aa\"```\n",
    "   2. ```p = \"*\"```\n",
    "\n",
    "**Output**: true\n",
    "\n",
    "Explanation: ```*``` matches any sequence."
   ]
  },
  {
   "cell_type": "code",
   "execution_count": 230,
   "metadata": {},
   "outputs": [],
   "source": [
    "def wild_card_match(string , pattern):\n",
    "\n",
    "    # replace multiple * with one *\n",
    "    string = list(string)\n",
    "    pattern = list(pattern)\n",
    "    is_first = True\n",
    "    \n",
    "    \n",
    "    remove_extra_starts(pattern)\n",
    "    \n",
    "    str_len = len(string)\n",
    "    pat_len = len(pattern)\n",
    "\n",
    "    # initiate the truth table (double check size of the matrix)\n",
    "    truth_table = [x[:] for x in [[None] * (pat_len+1)] * (str_len+1)]\n",
    "    \n",
    "    if (pat_len > 0 and pattern[0] == '*'):\n",
    "        truth_table[0][1] = True\n",
    "\n",
    "    truth_table[0][0] = True\n",
    "\n",
    "    for i in range(1, str_len+1):\n",
    "        for j in range(1, pat_len+1):\n",
    "            if (pattern[j-1] == '?' or string[i-1] == pattern[j-1]):\n",
    "                truth_table[i][j] = truth_table[i-1][j-1]\n",
    "            elif (pattern[j-1] == '*'):\n",
    "                truth_table[i][j] = truth_table[i-1][j] or truth_table[i][j-1]\n",
    "\n",
    "    return truth_table\n",
    "\n",
    "def remove_extra_starts(text):\n",
    "    # first extract indices of extra stars.\n",
    "    # then remove them from right-to-left.\n",
    "    extra_star_idx = []\n",
    "\n",
    "    for ii in range(len(text)):\n",
    "        if text[ii]=='*':\n",
    "            if text[ii+1]=='*':\n",
    "                extra_star_idx.append(ii+1)\n",
    "    for ii in reversed(extra_star_idx):\n",
    "        del text[ii]"
   ]
  },
  {
   "cell_type": "code",
   "execution_count": 231,
   "metadata": {},
   "outputs": [],
   "source": [
    "string = 'axyb'\n",
    "pattern = 'b'\n",
    "A = wild_card_match(string , pattern)"
   ]
  },
  {
   "cell_type": "code",
   "execution_count": 232,
   "metadata": {},
   "outputs": [
    {
     "data": {
      "text/plain": [
       "[[True, None], [None, None], [None, None], [None, None], [None, None]]"
      ]
     },
     "execution_count": 232,
     "metadata": {},
     "output_type": "execute_result"
    }
   ],
   "source": [
    "A"
   ]
  },
  {
   "cell_type": "markdown",
   "metadata": {},
   "source": [
    "### Merge Sort"
   ]
  },
  {
   "cell_type": "code",
   "execution_count": 102,
   "metadata": {},
   "outputs": [],
   "source": [
    "def merge_sort(given_list):\n",
    "    if len(given_list)>1:\n",
    "        mid = len(given_list)//2\n",
    "        left_half = given_list[:mid]\n",
    "        right_half = given_list[mid:]\n",
    "\n",
    "        merge_sort(left_half)\n",
    "        merge_sort(right_half)\n",
    "        merge_half(given_list, left_half, right_half)\n",
    "\n",
    "def merge_half(given_list, left_half, right_half):\n",
    "        left_start = 0\n",
    "        right_start = 0\n",
    "        idx = 0\n",
    "        while left_start < len(left_half) and right_start < len(right_half):\n",
    "            if left_half[left_start] < right_half[right_start]:\n",
    "                given_list[idx] = left_half[left_start]\n",
    "                left_start += 1\n",
    "            else:\n",
    "                given_list[idx] = right_half[right_start]\n",
    "                right_start += 1\n",
    "            idx += 1\n",
    "\n",
    "        while left_start < len(left_half):\n",
    "            given_list[idx] = left_half[left_start]\n",
    "            left_start +=1\n",
    "            idx += 1\n",
    "\n",
    "        while right_start < len(right_half):\n",
    "            given_list[idx] = right_half[right_start]\n",
    "            right_start += 1\n",
    "            idx += 1"
   ]
  },
  {
   "cell_type": "code",
   "execution_count": 105,
   "metadata": {},
   "outputs": [
    {
     "name": "stdout",
     "output_type": "stream",
     "text": [
      "Given array is  [5, 1, 7, 3, 2, 10, 4]\n",
      "Sorted array is  [1, 2, 3, 4, 5, 7, 10]\n"
     ]
    }
   ],
   "source": [
    "# Driver code\n",
    "a = [5, 1, 7, 3, 2, 10, 4]\n",
    "print(\"Given array is \", a)\n",
    "merge_sort(a)\n",
    "print(\"Sorted array is \", a)"
   ]
  },
  {
   "cell_type": "markdown",
   "metadata": {},
   "source": [
    "### Quick Sort"
   ]
  },
  {
   "cell_type": "code",
   "execution_count": 28,
   "metadata": {},
   "outputs": [],
   "source": [
    "# Low and high are given because we want to sort the array in place\n",
    "def quick_sort(arr, low, high):\n",
    "    \"\"\"\n",
    "     arr: a given list to be sorted\n",
    "     low: left end point of subarray to be partitioned\n",
    "     high: right end point of subarray to be partitioned\n",
    "    \"\"\"\n",
    "    if low < high:\n",
    "        # Wall is the place pivot will sit on, \n",
    "        # after partitioning is over, so that\n",
    "        # smaller items are on its left and \n",
    "        # greater items are on its right.\n",
    "        wall = partition(arr, low, high)\n",
    "        \n",
    "        quick_sort(arr, low, wall-1)\n",
    "        quick_sort(arr, wall+1, high)\n",
    "\n",
    "def partition(arr, low, high):\n",
    "    # swap elements that are smaller than pivot \n",
    "    # to the left, and greatre elements to the right\n",
    "    # of an imaginary wall, then sit the pivot on the wall.\n",
    "    left_pointer = low - 1\n",
    "    pivot = arr[high]\n",
    "\n",
    "    for right_pointer in range(low, high):\n",
    "        if arr[right_pointer] < pivot:\n",
    "            left_pointer += 1\n",
    "            arr[left_pointer], arr[right_pointer] = arr[right_pointer], arr[left_pointer]\n",
    "    arr[left_pointer+1], arr[high] = arr[high], arr[left_pointer+1]\n",
    "    return left_pointer+1"
   ]
  },
  {
   "cell_type": "code",
   "execution_count": 29,
   "metadata": {},
   "outputs": [
    {
     "data": {
      "text/plain": [
       "[0, 1, 2, 2, 5, 22, 30]"
      ]
     },
     "execution_count": 29,
     "metadata": {},
     "output_type": "execute_result"
    }
   ],
   "source": [
    "arr = [1, 0, 30, 2, 22, 5, 2]\n",
    "low = 0\n",
    "high = len(arr)-1\n",
    "quick_sort(arr, low, high)\n",
    "arr"
   ]
  },
  {
   "cell_type": "markdown",
   "metadata": {},
   "source": [
    "### BFS "
   ]
  },
  {
   "cell_type": "code",
   "execution_count": null,
   "metadata": {},
   "outputs": [],
   "source": [
    "graph = {'A': set(['B', 'C']),\n",
    "         'B': set(['A', 'D', 'E']),\n",
    "         'C': set(['A', 'F']),\n",
    "         'D': set(['B']),\n",
    "         'E': set(['B', 'F']),\n",
    "         'F': set(['C', 'E'])}\n",
    "\n",
    "def breadth_first_search(graph, root): \n",
    "    visited, queue = set(), collections.deque([root])\n",
    "    while queue: \n",
    "        vertex = queue.popleft()\n",
    "        for neighbour in graph[vertex]: \n",
    "            if neighbour not in visited: \n",
    "                visited.add(neighbour) \n",
    "                queue.append(neighbour)\n",
    "    return visited"
   ]
  },
  {
   "cell_type": "markdown",
   "metadata": {},
   "source": [
    "### DFS"
   ]
  },
  {
   "cell_type": "code",
   "execution_count": 120,
   "metadata": {},
   "outputs": [
    {
     "name": "stdout",
     "output_type": "stream",
     "text": [
      "{'E'}\n",
      "{'E', 'B'}\n",
      "{'E', 'A', 'B'}\n",
      "{'C', 'E', 'A', 'B'}\n",
      "{'A', 'F', 'E', 'C', 'B'}\n",
      "{'A', 'F', 'E', 'D', 'C', 'B'}\n"
     ]
    },
    {
     "data": {
      "text/plain": [
       "{'A', 'B', 'C', 'D', 'E', 'F'}"
      ]
     },
     "execution_count": 120,
     "metadata": {},
     "output_type": "execute_result"
    }
   ],
   "source": [
    "graph = {'A': set(['B', 'C']),\n",
    "         'B': set(['A', 'D', 'E']),\n",
    "         'C': set(['A', 'F']),\n",
    "         'D': set(['B']),\n",
    "         'E': set(['B', 'F']),\n",
    "         'F': set(['C', 'E'])}\n",
    "\n",
    "def dfs(graph, start):\n",
    "    visited, stack = set(), [start]\n",
    "    while stack:\n",
    "        vertex = stack.pop()\n",
    "        if vertex not in visited:\n",
    "            visited.add(vertex)\n",
    "            stack.extend(graph[vertex] - visited)\n",
    "    return visited\n",
    "\n",
    "dfs(graph, 'E') # {'E', 'D', 'F', 'A', 'C', 'B'}"
   ]
  },
  {
   "cell_type": "markdown",
   "metadata": {},
   "source": [
    "### is Unique\n",
    "Implement an algorithm to determine if a string has all unique characters. What if you cannot use additional data structures."
   ]
  },
  {
   "cell_type": "code",
   "execution_count": 110,
   "metadata": {},
   "outputs": [],
   "source": [
    "# first with additional data structure: Use dictionary as hash table\n",
    "def is_unique_by_dict(string):\n",
    "    length = len(string)\n",
    "    hash_table = {}\n",
    "    counter = 0\n",
    "    for letter in string:\n",
    "        if letter in hash_table:\n",
    "            print ('\\'' + letter + '\\''+ ' is a repeated character.')\n",
    "            return\n",
    "        else:\n",
    "            hash_table[letter] = letter\n",
    "            \n",
    "    print ('all character are unique!')\n",
    "\n",
    "is_unique_by_dict('aabcdef')"
   ]
  },
  {
   "cell_type": "code",
   "execution_count": 112,
   "metadata": {},
   "outputs": [],
   "source": [
    "def is_unique_by_False(string):\n",
    "    new_list = [0] * 128\n",
    "    for letter in string:\n",
    "        if new_list[ord(letter)] ==1:\n",
    "            return 'There is a dubpicalte.'\n",
    "        else: \n",
    "            new_list[ord(letter)] = 1\n",
    "    return 'All are Unique.'\n",
    "is_unique_by_False('abcdef')"
   ]
  },
  {
   "cell_type": "code",
   "execution_count": 114,
   "metadata": {},
   "outputs": [],
   "source": [
    "# or sort the string [in O(nlog(n))] and then compare in linear time.\n",
    "def is_unique(string):\n",
    "    numeric_list = [None] * len(string)\n",
    "    counter = 0\n",
    "    # convert the letters to numbers in O(n) time\n",
    "    # where n is length of string.\n",
    "    for letter in string:\n",
    "        numeric_list[counter] = ord(letter)\n",
    "        counter += 1\n",
    "\n",
    "    # now do a binary search on sub lists of numeric list.\n",
    "    pointer = len(numeric_list) - 1\n",
    "    query = numeric_list[-1]\n",
    "    while pointer>0:\n",
    "        output = binary_search(numeric_list[:pointer-1], query)\n",
    "        if output == 'not_found':\n",
    "            pointer -= 1\n",
    "            query = numeric_list[pointer]\n",
    "        else:\n",
    "            print ('The letter ' + '\\'' + chr(query) + '\\'' + ' is a repeated letter.')\n",
    "            pointer = 0\n",
    "is_unique_by_False('aabcdef')"
   ]
  },
  {
   "cell_type": "markdown",
   "metadata": {},
   "source": [
    "### Move Zeros\n",
    "\n",
    "Given an array `nums`, write a function to move all `0`'s to the end of it while maintaining the relative order of the non-zero elements.\n",
    "\n",
    "**Input**: `[0,1,0,3,12]`\n",
    "\n",
    "**Output**: `[1,3,12,0,0]`"
   ]
  },
  {
   "cell_type": "code",
   "execution_count": 125,
   "metadata": {},
   "outputs": [],
   "source": [
    "def move_zeros(arr):\n",
    "    \"\"\"\n",
    "    start from the end of the array. (The element before the last element.)\n",
    "    and move to the left. whenever you \n",
    "    see a zero, move it all the way to the \n",
    "    end of the array(move it to the right pointer.)\n",
    "    \"\"\"\n",
    "    right_pointer = len(arr)-1\n",
    "    for left_pointer in reversed(range(len(arr)-1)):\n",
    "        if arr[left_pointer] == 0:\n",
    "            move_all_the_way(arr, left_pointer, right_pointer)\n",
    "    return arr\n",
    "\n",
    "def move_all_the_way(arr, left_pointer, right_pointer):\n",
    "    for idx in range(1, right_pointer - left_pointer+1):\n",
    "        arr[left_pointer+idx], arr[left_pointer+idx-1] = arr[left_pointer+idx-1], arr[left_pointer+idx]\n",
    "        right_pointer -= 1"
   ]
  },
  {
   "cell_type": "code",
   "execution_count": 126,
   "metadata": {},
   "outputs": [
    {
     "data": {
      "text/plain": [
       "[1, 3, 10, 0, 0]"
      ]
     },
     "execution_count": 126,
     "metadata": {},
     "output_type": "execute_result"
    }
   ],
   "source": [
    "arr = [0, 1, 3, 0, 10]\n",
    "move_zeros(arr)"
   ]
  },
  {
   "cell_type": "code",
   "execution_count": 127,
   "metadata": {},
   "outputs": [],
   "source": [
    "def move_zeros(arr):\n",
    "    left_pointer = 0\n",
    "    for moving_pointer in range(len(arr)):\n",
    "        if arr[moving_pointer] != 0:\n",
    "            arr[left_pointer], arr[moving_pointer] = arr[moving_pointer], arr[left_pointer]\n",
    "            left_pointer += 1\n",
    "    return arr"
   ]
  },
  {
   "cell_type": "code",
   "execution_count": 128,
   "metadata": {},
   "outputs": [
    {
     "data": {
      "text/plain": [
       "[300, 1, 3, 10, 1, 2, 3, 0, 0, 0]"
      ]
     },
     "execution_count": 128,
     "metadata": {},
     "output_type": "execute_result"
    }
   ],
   "source": [
    "move_zeros([300, 1, 3, 0, 10, 0, 0, 1, 2, 3])"
   ]
  },
  {
   "cell_type": "markdown",
   "metadata": {},
   "source": [
    "###  Intersection of two arrays II\n",
    "\n",
    "Given two arrays, write a function to compute their intersection.\n",
    "\n",
    "**Example**:\n",
    "\n",
    "**Given** \n",
    "  1. ```nums1 = [1, 2, 2, 1]```, \n",
    "  2. ```nums2 = [2, 2]```, \n",
    "\n",
    "**return** ```[2, 2]```."
   ]
  },
  {
   "cell_type": "code",
   "execution_count": null,
   "metadata": {},
   "outputs": [],
   "source": [
    "def intersection_II(arr1, arr2):\n",
    "    arr1_dict = count_items(arr1)\n",
    "    arr2_dict = count_items(arr2)\n",
    "    intersection = []\n",
    "    \n",
    "    if len(arr1_dict) < len(arr2_dict):\n",
    "        for key in arr1_dict:\n",
    "            if key in arr2_dict:\n",
    "                no_rept = min(arr1_dict[key], arr2_dict[key])\n",
    "                intersection.extend([int(key)]*no_rept)\n",
    "    else:\n",
    "        for key in arr2_dict:\n",
    "            if key in arr1_dict:\n",
    "                no_rept = min(arr1_dict[key], arr2_dict[key])\n",
    "                intersection.extend([int(key)]*no_rept)        \n",
    "    return intersection\n",
    "\n",
    "def count_items(arr):\n",
    "    arr_counter = {}\n",
    "    for ii in range(len(arr)):\n",
    "        if str(arr[ii]) in arr_counter:\n",
    "            arr_counter[str(arr[ii])] += 1\n",
    "        else:\n",
    "            arr_counter[str(arr[ii])] = 1\n",
    "    return arr_counter"
   ]
  },
  {
   "cell_type": "code",
   "execution_count": null,
   "metadata": {},
   "outputs": [],
   "source": [
    "nums1 = [1, 2, 2, 1]\n",
    "nums2 = [2, 2]\n",
    "intersection_II(nums1, nums2)"
   ]
  },
  {
   "cell_type": "markdown",
   "metadata": {},
   "source": [
    "###  Intersection of two arrays II with sorted arrays\n",
    "Example:\n",
    "\n",
    "`nums1 = [1, 2, 2, 3]`,\n",
    "\n",
    "`nums2 = [2, 2]`,\n",
    "\n",
    "`return [2, 2]`."
   ]
  },
  {
   "cell_type": "code",
   "execution_count": 133,
   "metadata": {},
   "outputs": [],
   "source": [
    "def intersect_ii_sorted_arrays(arr1, arr2):\n",
    "    \"\"\"\n",
    "    arr1 and arr2 are sorted arrays\n",
    "    output: intersection of the two\n",
    "    \"\"\"\n",
    "    intersection = []\n",
    "    idx1 = 0\n",
    "    idx2 = 0\n",
    "    while idx1<len(arr1) and idx2<len(arr2):\n",
    "        if arr1[idx1] == arr2[idx2]:\n",
    "            intersection.append(arr1[idx1])\n",
    "            idx1 += 1\n",
    "            idx2 += 1\n",
    "        elif arr1[idx1] > arr2[idx2]:\n",
    "            idx2 += 1\n",
    "        else:\n",
    "            idx1 += 1\n",
    "    return intersection\n",
    "intersect_ii_sorted_arrays([1, 2, 2, 3, 4, 5, 5], [2, 2, 3, 4, 5, 6, 7, 8])"
   ]
  },
  {
   "cell_type": "markdown",
   "metadata": {},
   "source": [
    "### intersection I\n",
    "```nums1 = [1, 2, 2, 1]```\n",
    "\n",
    "```nums2 = [2, 2]```\n",
    "\n",
    "```return [2]```"
   ]
  },
  {
   "cell_type": "code",
   "execution_count": 129,
   "metadata": {},
   "outputs": [],
   "source": [
    "def intersection_I(arr1, arr2):\n",
    "    arr1_dict = item_dict(arr1)\n",
    "    arr2_dict = item_dict(arr2)\n",
    "    \n",
    "    intersection = [None] * min(len(arr1_dict), len(arr2_dict))\n",
    "    counter = 0\n",
    "    if len(arr1_dict) < len(arr2_dict):\n",
    "        for key in arr1_dict:\n",
    "            if key in arr2_dict:\n",
    "                intersection[counter] = arr2_dict[key]\n",
    "                counter += 1\n",
    "    else:\n",
    "        for key in arr2_dict:\n",
    "            if key in arr1_dict:\n",
    "                intersection[counter] = arr1_dict[key]\n",
    "                counter += 1\n",
    "    return intersection[:counter]\n",
    "\n",
    "def item_dict(arr):\n",
    "    \"\"\"\n",
    "     output : a dictionary with (key, value) where key=value are items in arr\n",
    "    \"\"\"\n",
    "    arr_dict = {}\n",
    "    for ii in range(len(arr)):\n",
    "        if not(str(arr[ii]) in arr_dict):\n",
    "            arr_dict[str(arr[ii])] = arr[ii]\n",
    "    return arr_dict"
   ]
  },
  {
   "cell_type": "code",
   "execution_count": 130,
   "metadata": {},
   "outputs": [
    {
     "data": {
      "text/plain": [
       "[2]"
      ]
     },
     "execution_count": 130,
     "metadata": {},
     "output_type": "execute_result"
    }
   ],
   "source": [
    "nums1 = [1, 2, 2, 1]\n",
    "nums2 = [2, 2]\n",
    "intersection_I(nums1, nums2)"
   ]
  },
  {
   "cell_type": "code",
   "execution_count": null,
   "metadata": {},
   "outputs": [],
   "source": [
    "class Solution {\n",
    "public:\n",
    "    int trap(int A[], int n) {\n",
    "        int left=0; \n",
    "        int right=n-1;\n",
    "        int res=0;\n",
    "        int maxleft=0, \n",
    "        int maxright=0;\n",
    "        while(left<=right){\n",
    "            if(A[left]<=A[right]):\n",
    "                if(A[left]>=maxleft):\n",
    "                    maxleft=A[left];\n",
    "                else:\n",
    "                    res+=maxleft-A[left];\n",
    "                left++;\n",
    "            }\n",
    "            else{\n",
    "                if(A[right]>=maxright) \n",
    "                    maxright=A[right];\n",
    "                else \n",
    "                    res+=maxright-A[right];\n",
    "                right--;\n",
    "            }\n",
    "        }\n",
    "        return res;\n",
    "    }\n",
    "};"
   ]
  },
  {
   "cell_type": "code",
   "execution_count": null,
   "metadata": {},
   "outputs": [],
   "source": [
    "a = \"Mr John Smith    \""
   ]
  },
  {
   "cell_type": "code",
   "execution_count": null,
   "metadata": {},
   "outputs": [],
   "source": [
    "def URLify(string, string_len):\n",
    "    total_len = len(string)\n",
    "    empty_space = total_len - string_len  "
   ]
  },
  {
   "cell_type": "code",
   "execution_count": null,
   "metadata": {},
   "outputs": [],
   "source": [
    "len(a)"
   ]
  },
  {
   "cell_type": "code",
   "execution_count": null,
   "metadata": {},
   "outputs": [],
   "source": [
    "def URLify(string, text_len):\n",
    "    \"\"\"\n",
    "      in python 'str' object does not support item assignment.\n",
    "      So, we have to convert them to a list.\n",
    "    \"\"\"\n",
    "    string = list(string)\n",
    "    string_len = len(string)\n",
    "    right_pointer = string_len - 1\n",
    "    \n",
    "    for left_pointer in reversed(range(text_len)):\n",
    "        if string[left_pointer] != ' ':\n",
    "            string[right_pointer] = string[left_pointer]\n",
    "            right_pointer -= 1\n",
    "        else:\n",
    "            string[right_pointer] = '0'\n",
    "            string[right_pointer - 1] = '2'\n",
    "            string[right_pointer - 2] = '%'\n",
    "            right_pointer -= 3\n",
    "    \"\".join(string)\n",
    "    return string"
   ]
  },
  {
   "cell_type": "code",
   "execution_count": null,
   "metadata": {},
   "outputs": [],
   "source": [
    "def no_validation(string):\n",
    "    try:\n",
    "        float(string.strip())\n",
    "        return True\n",
    "    except:\n",
    "        return False"
   ]
  },
  {
   "cell_type": "markdown",
   "metadata": {},
   "source": [
    "### Minimum length of subarray with sum s.\n",
    "\n",
    "Given an array of ```n``` positive integers and a positive integer ```s```, find the minimal length \n",
    "of a contiguous subarray of which the ```sum = s```."
   ]
  },
  {
   "cell_type": "code",
   "execution_count": 135,
   "metadata": {},
   "outputs": [],
   "source": [
    "def subarray_sum(arr, s):\n",
    "    \"\"\"\n",
    "    input:\n",
    "       arr: list of positive numbers\n",
    "       s: an integer\n",
    "    output: \n",
    "       minimum length of subarray with sum s.   \n",
    "\n",
    "    We could also sort the arr in O(NlogN), \n",
    "    and then go till we hit a number grater than s and then stop.\n",
    "    \"\"\"\n",
    "    arr_len = len(arr)\n",
    "    minimum_length = arr_len + 1\n",
    "    if arr_len==0:\n",
    "        print (\"arrray is empty!\")\n",
    "        return 0\n",
    "    \n",
    "    if s in arr:\n",
    "        return 1\n",
    "    \n",
    "    for start_idx in range(arr_len - 1):\n",
    "        accum = arr[start_idx]\n",
    "        far_right = start_idx\n",
    "        while (accum < s and (far_right < len(arr)-1) ):\n",
    "            far_right += 1\n",
    "            accum += arr[far_right]\n",
    "            if accum == s:\n",
    "                minimum_length = min(minimum_length, far_right - start_idx+1)\n",
    "\n",
    "    if minimum_length < arr_len:\n",
    "        return minimum_length\n",
    "    else:\n",
    "        return 0"
   ]
  },
  {
   "cell_type": "code",
   "execution_count": 146,
   "metadata": {},
   "outputs": [
    {
     "data": {
      "text/plain": [
       "0"
      ]
     },
     "execution_count": 146,
     "metadata": {},
     "output_type": "execute_result"
    }
   ],
   "source": [
    "subarray_sum([1, 2, 12, 3, 4, 12, 4], 11)"
   ]
  },
  {
   "cell_type": "markdown",
   "metadata": {},
   "source": [
    "### Maximum length of subarray with sum `k`.\n",
    "Maximum size subarray sum equals `k`"
   ]
  },
  {
   "cell_type": "code",
   "execution_count": 371,
   "metadata": {},
   "outputs": [],
   "source": [
    "def max_len_subarray_sum(arr, k):\n",
    "    \"\"\"\n",
    "      input:\n",
    "       arr: list of numbers (may contain negative numbers)\n",
    "       k: an integer\n",
    "      \n",
    "      output: \n",
    "        maximum length of subarray with sum k.\n",
    "    \"\"\"\n",
    "    arr_len = len(arr)\n",
    "    max_length = 0\n",
    "    if arr_len == 0:\n",
    "        print (\"arrray is empty!\")\n",
    "        return 0\n",
    "\n",
    "    for start_idx in range(arr_len - 1):\n",
    "        accum = arr[start_idx]\n",
    "        far_right = start_idx\n",
    "        while (far_right < arr_len-1):\n",
    "            far_right += 1\n",
    "            accum += arr[far_right]\n",
    "            if accum == k:\n",
    "                max_length = max(max_length, far_right-start_idx+1)\n",
    "\n",
    "    if max_length < arr_len:\n",
    "        return max_length\n",
    "    else:\n",
    "        return 0"
   ]
  },
  {
   "cell_type": "code",
   "execution_count": 372,
   "metadata": {},
   "outputs": [
    {
     "data": {
      "text/plain": [
       "3"
      ]
     },
     "execution_count": 372,
     "metadata": {},
     "output_type": "execute_result"
    }
   ],
   "source": [
    "max_len_subarray_sum([1, -1, 3, 3], 3)"
   ]
  },
  {
   "cell_type": "code",
   "execution_count": 374,
   "metadata": {},
   "outputs": [
    {
     "data": {
      "text/plain": [
       "4"
      ]
     },
     "execution_count": 374,
     "metadata": {},
     "output_type": "execute_result"
    }
   ],
   "source": [
    "max_len_subarray_sum([1, -1, 5, -2, 3, 3], 3)"
   ]
  },
  {
   "cell_type": "code",
   "execution_count": 1,
   "metadata": {},
   "outputs": [
    {
     "ename": "SyntaxError",
     "evalue": "invalid syntax (<ipython-input-1-3726f5f835a4>, line 1)",
     "output_type": "error",
     "traceback": [
      "\u001b[0;36m  File \u001b[0;32m\"<ipython-input-1-3726f5f835a4>\"\u001b[0;36m, line \u001b[0;32m1\u001b[0m\n\u001b[0;31m    Hosseinpublic ListNode reverse_list_recursuve(ListNode head) {\u001b[0m\n\u001b[0m                         ^\u001b[0m\n\u001b[0;31mSyntaxError\u001b[0m\u001b[0;31m:\u001b[0m invalid syntax\n"
     ]
    }
   ],
   "source": [
    "public ListNode reverse_list_recursuve(ListNode head) {\n",
    "    if (head == null || head.next == null) return head;\n",
    "    ListNode p = reverseList(head.next);\n",
    "    head.next.next = head;\n",
    "    head.next = null;\n",
    "    return p;\n",
    "}"
   ]
  },
  {
   "cell_type": "code",
   "execution_count": 131,
   "metadata": {},
   "outputs": [],
   "source": [
    "def sortDates(dates):\n",
    "    # Write your code here\n",
    "    months = [\"Jan\", \"Feb\", \"Mar\", \"Apr\", \"May\",\n",
    "              \"Jun\", \"Jul\", \"Aug\", \"Sep\", \"Oct\",\n",
    "              \"Nov\", \"Dec\"]        \n",
    "    def is_smaller(date1, date2):\n",
    "        date1 = date1.split(\" \")\n",
    "        date2 = date2.split(\" \")\n",
    "        # print (int(date1[2]) < int(date2[2]))\n",
    "        months = [\"Jan\", \"Feb\", \"Mar\", \"Apr\", \"May\",\n",
    "                  \"Jun\", \"Jul\", \"Aug\", \"Sep\", \"Oct\",\n",
    "                  \"Nov\", \"Dec\"]\n",
    "        smaller = False\n",
    "        if int(date1[2])<int(date2[2]):\n",
    "            smaller = True\n",
    "        elif (int(date1[2])==int(date2[2])):\n",
    "            if months.index(date1[1]) < months.index(date2[1]):\n",
    "                smaller = True\n",
    "            elif (int(date1[0]) < int(date2[0])):\n",
    "                smaller = True\n",
    "        return smaller\n",
    "    \n",
    "    def quick_sort(arr, low, high):\n",
    "        if low<high:\n",
    "            wall = partition(arr, low, high)\n",
    "            quick_sort(arr, low, wall-1)\n",
    "            quick_sort(arr, wall+1, high)\n",
    "    \n",
    "    def partition(arr, low, high):\n",
    "        # swap elements that are smaller than pivot \n",
    "        # to the left, and greatre elements to the right\n",
    "        # of an imaginary wall, then sit the pivot on the wall.\n",
    "        left_pointer = low - 1\n",
    "        pivot = arr[high]\n",
    "\n",
    "        for right_pointer in range(low, high):\n",
    "            if is_smaller(arr[right_pointer], pivot):\n",
    "                left_pointer += 1\n",
    "                arr[left_pointer], arr[right_pointer] = arr[right_pointer], arr[left_pointer]\n",
    "        arr[left_pointer+1], arr[high] = arr[high], arr[left_pointer+1]\n",
    "        return left_pointer+1\n",
    "        \n",
    "    start = 0\n",
    "    end = len(dates)-1\n",
    "    quick_sort(dates, start, end)\n",
    "    return dates\n"
   ]
  },
  {
   "cell_type": "code",
   "execution_count": 132,
   "metadata": {},
   "outputs": [
    {
     "data": {
      "text/plain": [
       "['06 Jan 1933', '28 Jul 1963', '04 Nov 2039', '20 Oct 2052']"
      ]
     },
     "execution_count": 132,
     "metadata": {},
     "output_type": "execute_result"
    }
   ],
   "source": [
    "dates = ['20 Oct 2052', \"06 Jan 1933\", \"28 Jul 1963\", \"04 Nov 2039\"]\n",
    "a = sortDates(dates)\n",
    "a"
   ]
  },
  {
   "cell_type": "code",
   "execution_count": 1,
   "metadata": {},
   "outputs": [],
   "source": [
    "def findSchedules(workHours, dayHours, pattern):\n",
    "    pattern_list = list(pattern)\n",
    "    pattern_list = [0 if x=='?' else int(x) for x in pattern_list]\n",
    "    worked = sum(pattern_list)\n",
    "    time_left = workHours - worked\n",
    "    if pattern_list.count(0)*dayHours < time_left:\n",
    "        raise ValueError (\"Not doable!\")\n",
    "    \n",
    "    # doable case\n",
    "    "
   ]
  },
  {
   "cell_type": "code",
   "execution_count": 4,
   "metadata": {},
   "outputs": [],
   "source": [
    "pattern = \"??88?8?\""
   ]
  },
  {
   "cell_type": "code",
   "execution_count": 5,
   "metadata": {},
   "outputs": [],
   "source": [
    "pattern_list = list(pattern)"
   ]
  },
  {
   "cell_type": "code",
   "execution_count": 7,
   "metadata": {},
   "outputs": [
    {
     "data": {
      "text/plain": [
       "[0, 0, 8, 8, 0, 8, 0]"
      ]
     },
     "execution_count": 7,
     "metadata": {},
     "output_type": "execute_result"
    }
   ],
   "source": [
    "pattern_list = [0 if x=='?' else int(x) for x in pattern_list]\n",
    "pattern_list"
   ]
  },
  {
   "cell_type": "code",
   "execution_count": 18,
   "metadata": {},
   "outputs": [
    {
     "data": {
      "text/plain": [
       "4"
      ]
     },
     "execution_count": 18,
     "metadata": {},
     "output_type": "execute_result"
    }
   ],
   "source": [
    "pattern.count('?')"
   ]
  },
  {
   "cell_type": "code",
   "execution_count": 22,
   "metadata": {},
   "outputs": [
    {
     "data": {
      "text/plain": [
       "24"
      ]
     },
     "execution_count": 22,
     "metadata": {},
     "output_type": "execute_result"
    }
   ],
   "source": [
    "sum(pattern_list)"
   ]
  },
  {
   "cell_type": "code",
   "execution_count": 28,
   "metadata": {},
   "outputs": [],
   "source": [
    "l = [[1, 3, 3], [1,2,3]]"
   ]
  },
  {
   "cell_type": "code",
   "execution_count": 29,
   "metadata": {},
   "outputs": [],
   "source": [
    "l.sort()"
   ]
  },
  {
   "cell_type": "code",
   "execution_count": 30,
   "metadata": {},
   "outputs": [
    {
     "data": {
      "text/plain": [
       "[[1, 2, 3], [1, 3, 3]]"
      ]
     },
     "execution_count": 30,
     "metadata": {},
     "output_type": "execute_result"
    }
   ],
   "source": [
    "l"
   ]
  },
  {
   "cell_type": "code",
   "execution_count": null,
   "metadata": {},
   "outputs": [],
   "source": []
  }
 ],
 "metadata": {
  "kernelspec": {
   "display_name": "Python 3",
   "language": "python",
   "name": "python3"
  },
  "language_info": {
   "codemirror_mode": {
    "name": "ipython",
    "version": 3
   },
   "file_extension": ".py",
   "mimetype": "text/x-python",
   "name": "python",
   "nbconvert_exporter": "python",
   "pygments_lexer": "ipython3",
   "version": "3.6.8"
  }
 },
 "nbformat": 4,
 "nbformat_minor": 2
}
