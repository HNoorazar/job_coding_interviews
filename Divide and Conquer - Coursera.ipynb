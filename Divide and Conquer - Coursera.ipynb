{
 "cells": [
  {
   "cell_type": "markdown",
   "metadata": {},
   "source": [
    "#### Divide and Conquer - Coursera"
   ]
  },
  {
   "cell_type": "code",
   "execution_count": 1,
   "metadata": {},
   "outputs": [],
   "source": [
    "file = open(\"/Users/hn/Documents/Learning/divide-conquer/week_2.txt\", \"r\") "
   ]
  },
  {
   "cell_type": "code",
   "execution_count": 2,
   "metadata": {},
   "outputs": [],
   "source": [
    "with open(\"/Users/hn/Documents/Learning/divide-conquer/week_2.txt\") as f:\n",
    "    data = f.readlines()\n",
    "    data = [int(x) for x in data]"
   ]
  },
  {
   "cell_type": "code",
   "execution_count": 21,
   "metadata": {},
   "outputs": [],
   "source": [
    "# sys.setrecursionlimit(1500)\n",
    "\n",
    "def sort_count_inversions(A):\n",
    "    len_A = len(A)\n",
    "    if len_A == 0:\n",
    "        raise valueError(\"A is empty\")\n",
    "    elif len_A == 1:\n",
    "        return A, 0\n",
    "    else:\n",
    "        B, left_count = sort_count_inversions(A[:int(len_A/2)])\n",
    "        C, right_count = sort_count_inversions(A[int(len_A/2):])\n",
    "        D, split_count = merge_count_split_inv(B, C)\n",
    "        inversion_count = left_count + right_count + split_count\n",
    "    return D, inversion_count\n",
    "\n",
    "def merge_count_split_inv(B, C):\n",
    "    len_b = len(B)\n",
    "    D = [0] * (len(B) + len(C))\n",
    "    B_pointer = 0\n",
    "    C_pointer = 0\n",
    "    split_counter = 0\n",
    "    for ii in range(len(D)):\n",
    "        if (B_pointer <= (len_b-1)) and (C_pointer <= (len(C)-1)):\n",
    "            if (B[B_pointer] < C[C_pointer]):\n",
    "                D[ii] = B[B_pointer]\n",
    "                B_pointer += 1\n",
    "            else:\n",
    "                D[ii] = C[C_pointer]\n",
    "                C_pointer += 1\n",
    "                split_counter += (len_b - B_pointer)\n",
    "        else:\n",
    "            if (B_pointer > (len_b-1)) and (C_pointer <= (len(C)-1)):\n",
    "                D[ii:] = C[C_pointer:]\n",
    "                return D, split_counter\n",
    "            elif (B_pointer <= (len_b-1)) and (C_pointer > (len(C)-1)):\n",
    "                D[ii:] = B[B_pointer:]\n",
    "                return D, split_counter\n",
    "    return D, split_counter"
   ]
  },
  {
   "cell_type": "code",
   "execution_count": null,
   "metadata": {},
   "outputs": [],
   "source": []
  },
  {
   "cell_type": "code",
   "execution_count": 1,
   "metadata": {},
   "outputs": [],
   "source": [
    "with open(\"/Users/hn/Documents/Learning/divide-conquer/quick_sort.txt\") as quick_sort_list:\n",
    "    data = quick_sort_list.readlines()\n",
    "    data = [int(x) for x in data]"
   ]
  },
  {
   "cell_type": "code",
   "execution_count": 24,
   "metadata": {},
   "outputs": [],
   "source": [
    "def find_median(A):\n",
    "    minvalue = min(A)\n",
    "    maxvalue = max(A)\n",
    "    for i in range(3):\n",
    "        if A[i] != minvalue and A[i] != maxvalue:\n",
    "            return A[i]\n",
    "\n",
    "def choose_pivot(A, flag):\n",
    "    n = len(A)\n",
    "    first = A[0]\n",
    "    final = A[n-1]\n",
    "    if n/2*2==n:\n",
    "        k = n/2 - 1\n",
    "        middle = A[int(k)]\n",
    "    elif n/2*2<n:\n",
    "        k = n/2\n",
    "        middle = A[int(k)]\n",
    "    else:\n",
    "        print ('error in choose_pivot to choose middle element of A')\n",
    "\n",
    "    B = [first, middle, final]\n",
    "    med = find_median(B)\n",
    "    if med==B[0]:\n",
    "        position = 0\n",
    "    elif med==B[1]:\n",
    "        position = k\n",
    "    else:\n",
    "        position = n-1\n",
    "        \n",
    "    if flag==1:\n",
    "        return 0\n",
    "    if flag==2:\n",
    "        return n-1\n",
    "    if flag==3:\n",
    "        return position\n",
    "    else:\n",
    "        print ('wrong flag')\n",
    "\n",
    "def Swap(A, first, second):\n",
    "    second_value = A[int(second)]\n",
    "    first_value = A[int(first)]\n",
    "    A[int(first)] = second_value\n",
    "    A[int(second)] = first_value\n",
    "    return A\n",
    "\n",
    "def Partition(A):\n",
    "    pivot = A[0]\n",
    "    r = len(A)\n",
    "    i = 1\n",
    "    for j in range(1,r):\n",
    "        if A[j]<pivot:\n",
    "            A = Swap(A, i, j)\n",
    "            i +=1\n",
    "    A = Swap(A, 0, i-1)\n",
    "    return A, int(i-1)\n",
    "    \n",
    "def quick_sort(A, flag):\n",
    "    n = len(A)\n",
    "    \n",
    "    if n>1:\n",
    "        p = choose_pivot(A,flag)\n",
    "        A = Swap(A,0, int(p))\n",
    "        A, pivot_position = Partition(A)\n",
    "        A[:pivot_position],left = QuickSort(A[:pivot_position], flag)\n",
    "        A[pivot_position+1:],right = QuickSort(A[pivot_position+1:],flag)\n",
    "        \n",
    "        return A, left+right+n-1\n",
    "    else:\n",
    "        return A,0"
   ]
  },
  {
   "cell_type": "code",
   "execution_count": 27,
   "metadata": {},
   "outputs": [
    {
     "name": "stdout",
     "output_type": "stream",
     "text": [
      "162085 164123 138382\n"
     ]
    }
   ],
   "source": [
    "class QuickSorter(object):\n",
    "    def __init__(self, input_file=None):\n",
    "        self._comparisons = 0\n",
    "        self._array = []\n",
    "        self._inversions = 0\n",
    "        self.read_input(input_file)\n",
    "\n",
    "    @property\n",
    "    def comparisons(self):\n",
    "        return self._comparisons\n",
    "\n",
    "    @property\n",
    "    def array(self):\n",
    "        return self._array\n",
    "\n",
    "    @array.setter\n",
    "    def array(self, arr):\n",
    "        self._array = arr\n",
    "\n",
    "    def read_input(self, input_file=None):\n",
    "        if input_file is None:\n",
    "            self._array = [int(elem) for elem in input().split()]\n",
    "            return\n",
    "        with open(input_file) as numbers:\n",
    "            for number in numbers:\n",
    "                self._array.append(int(number))\n",
    "\n",
    "    def sort(self):\n",
    "        if len(self._array) <= 1:\n",
    "            return\n",
    "        self._qsort(0, len(self._array) - 1)\n",
    "\n",
    "    def _qsort(self, start, end):\n",
    "        if start >= end:\n",
    "            return\n",
    "        pivot = self.partition(start, end)\n",
    "        self._qsort(start, pivot - 1)\n",
    "        self._qsort(pivot + 1, end)\n",
    "\n",
    "    def partition(self, start, end):\n",
    "        self._comparisons += end - start\n",
    "        pivot = start\n",
    "        for i in range(start + 1, end + 1):\n",
    "            if self._array[i] < self._array[start]:\n",
    "                pivot += 1\n",
    "                self._array[i], self._array[pivot] = self._array[pivot], self._array[i]\n",
    "        self._array[start], self._array[pivot] = self._array[pivot], self._array[start]\n",
    "        return pivot\n",
    "\n",
    "\n",
    "class QuickSorterFirstElementPivot(QuickSorter):\n",
    "    def partition(self, start, end):\n",
    "        return super(QuickSorterFirstElementPivot, self).partition(start, end)\n",
    "\n",
    "\n",
    "class QuickSorterLastElementPivot(QuickSorter):\n",
    "    def partition(self, start, end):\n",
    "        self._array[start], self._array[end] = self._array[end], self._array[start]\n",
    "        return super(QuickSorterLastElementPivot, self).partition(start, end)\n",
    "\n",
    "\n",
    "class QuickSorterMedianElementPivot(QuickSorter):\n",
    "    def partition(self, start, end):\n",
    "        self._choose_median_pivot(start, end)\n",
    "        return super(QuickSorterMedianElementPivot, self).partition(start, end)\n",
    "\n",
    "    def _choose_median_pivot(self, start, end):\n",
    "        length = end - start + 1\n",
    "        median_index = length // 2 - 1 if length % 2 == 0 else length // 2\n",
    "        median = start + median_index\n",
    "        if self._array[start] <= self._array[median] <= self._array[end] or self._array[end] <= self._array[median] <= \\\n",
    "                self._array[start]:\n",
    "            self._array[start], self._array[median] = self._array[median], self._array[start]\n",
    "        elif self._array[median] <= self._array[end] <= self._array[start] or self._array[start] <= self._array[end] <= \\\n",
    "                self._array[median]:\n",
    "            self._array[start], self._array[end] = self._array[end], self._array[start]\n",
    "\n",
    "if __name__ == '__main__':\n",
    "    sorters = (QuickSorterFirstElementPivot('/Users/hn/Documents/Learning/divide-conquer/quick_sort.txt'),\n",
    "               QuickSorterLastElementPivot('/Users/hn/Documents/Learning/divide-conquer/quick_sort.txt'),\n",
    "               QuickSorterMedianElementPivot('/Users/hn/Documents/Learning/divide-conquer/quick_sort.txt'))\n",
    "    for sorter in sorters:\n",
    "        sorter.sort()\n",
    "    print(sorters[0].comparisons, sorters[1].comparisons, sorters[2].comparisons)"
   ]
  },
  {
   "cell_type": "code",
   "execution_count": 28,
   "metadata": {},
   "outputs": [],
   "source": [
    "class Celsius:\n",
    "    def __init__(self, temperature = 0):\n",
    "        self.temperature = temperature\n",
    "\n",
    "    def to_fahrenheit(self):\n",
    "        return (self.temperature * 1.8) + 32"
   ]
  },
  {
   "cell_type": "code",
   "execution_count": 34,
   "metadata": {},
   "outputs": [],
   "source": [
    "m = Celsius()"
   ]
  },
  {
   "cell_type": "code",
   "execution_count": 35,
   "metadata": {},
   "outputs": [
    {
     "data": {
      "text/plain": [
       "0"
      ]
     },
     "execution_count": 35,
     "metadata": {},
     "output_type": "execute_result"
    }
   ],
   "source": [
    "m.temperature"
   ]
  },
  {
   "cell_type": "code",
   "execution_count": 37,
   "metadata": {},
   "outputs": [],
   "source": [
    "class Celsius:\n",
    "    def __init__(self, temperature = 0):\n",
    "        self.set_temperature(temperature)\n",
    "\n",
    "    def to_fahrenheit(self):\n",
    "        return (self.get_temperature() * 1.8) + 32\n",
    "\n",
    "    # new update\n",
    "    def get_temperature(self):\n",
    "        return self._temperature\n",
    "\n",
    "    def set_temperature(self, value):\n",
    "        if value < -273:\n",
    "            raise ValueError(\"Temperature below -273 is not possible\")\n",
    "        self._temperature = value"
   ]
  },
  {
   "cell_type": "code",
   "execution_count": 38,
   "metadata": {},
   "outputs": [],
   "source": [
    "m = Celsius(10)"
   ]
  },
  {
   "cell_type": "code",
   "execution_count": 42,
   "metadata": {},
   "outputs": [
    {
     "data": {
      "text/plain": [
       "10"
      ]
     },
     "execution_count": 42,
     "metadata": {},
     "output_type": "execute_result"
    }
   ],
   "source": [
    "m.get_temperature()"
   ]
  },
  {
   "cell_type": "code",
   "execution_count": null,
   "metadata": {},
   "outputs": [],
   "source": [
    "\n",
    "from random import randint\n",
    "\n",
    "\n",
    "class KargerMinCutter:\n",
    "    def __init__(self, graph_file):\n",
    "        self._graph = {}\n",
    "        self._total_edges = 0\n",
    "        with open(graph_file) as file:\n",
    "            for index, line in enumerate(file):\n",
    "                numbers = [int(number) for number in line.split()]\n",
    "                self._graph[numbers[0]] = numbers[1:]\n",
    "                self._total_edges += len(numbers[1:])\n",
    "\n",
    "    def find_min_cut(self):\n",
    "        min_cut = 0\n",
    "        while len(self._graph) > 2:\n",
    "            v1, v2 = self._pick_random_edge()\n",
    "            self._total_edges -= len(self._graph[v1])\n",
    "            self._total_edges -= len(self._graph[v2])\n",
    "            self._graph[v1].extend(self._graph[v2])\n",
    "            for vertex in self._graph[v2]:\n",
    "                self._graph[vertex].remove(v2)\n",
    "                self._graph[vertex].append(v1)\n",
    "            self._graph[v1] = list(filter(lambda v: v != v1, self._graph[v1]))\n",
    "            self._total_edges += len(self._graph[v1])\n",
    "            self._graph.pop(v2)\n",
    "        for edges in self._graph.values():\n",
    "            min_cut = len(edges)\n",
    "        return min_cut\n",
    "\n",
    "    def _pick_random_edge(self):\n",
    "        rand_edge = randint(0, self._total_edges - 1)\n",
    "        for vertex, vertex_edges in self._graph.items():\n",
    "            if len(vertex_edges) <= rand_edge:\n",
    "                rand_edge -= len(vertex_edges)\n",
    "            else:\n",
    "                from_vertex = vertex\n",
    "                to_vertex = vertex_edges[rand_edge]\n",
    "                return from_vertex, to_vertex\n",
    "\n",
    "if __name__ == \"__main__\":\n",
    "    min_cut = 99999\n",
    "    for i in range(40000):\n",
    "        min_cutter = KargerMinCutter('/Users/hn/Documents/Learning/divide-conquer/min_cut.txt')\n",
    "        cut = min_cutter.find_min_cut()\n",
    "        if cut < min_cut:\n",
    "            min_cut = cut\n",
    "print(min_cut)"
   ]
  },
  {
   "cell_type": "code",
   "execution_count": null,
   "metadata": {},
   "outputs": [],
   "source": []
  }
 ],
 "metadata": {
  "kernelspec": {
   "display_name": "Python 3",
   "language": "python",
   "name": "python3"
  },
  "language_info": {
   "codemirror_mode": {
    "name": "ipython",
    "version": 3
   },
   "file_extension": ".py",
   "mimetype": "text/x-python",
   "name": "python",
   "nbconvert_exporter": "python",
   "pygments_lexer": "ipython3",
   "version": "3.6.5"
  }
 },
 "nbformat": 4,
 "nbformat_minor": 2
}
