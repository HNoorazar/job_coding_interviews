{
 "cells": [
  {
   "cell_type": "markdown",
   "metadata": {},
   "source": [
    "# Amazon - Leetcode"
   ]
  },
  {
   "cell_type": "markdown",
   "metadata": {},
   "source": [
    "Amazon LeetCode\n",
    "\n",
    "1. 3Sum (Done in FaceBook)\n",
    "2. Subsets (Done in FaceBook)\n",
    "3. Linked List Cycle (Done in FaceBook)\n",
    "4. Number of Islands (Done in FaceBook)\n",
    "5. Add Two Numbers (Done in FaceBook)\n",
    "6. Valid Parentheses (Done in FaceBook)\n",
    "7. Merge Two Sorted Lists (Done in FaceBook)\n",
    "8. Validate Binary Search Tree (Done in FaceBook)\n",
    "9. Intersection of Two Linked Lists (Done in FaceBook 2)\n",
    "10. Kth Largest Element in an Array (Done in FaceBook)\n",
    "11. Binary Tree Level Order Traversal (Done in FaceBook)\n",
    "12. Longest Substring Without Repeating Characters (Done in Google)\n",
    "\n",
    "13. Rotate Image (Done in Amazon)\n",
    "14. Rotate Reverse Linked List (Done in Amazon)\n",
    "15. Palindrome Linked List\n",
    "\n",
    "16. Merge k Sorted Lists\n",
    "17. Longest Palindromic Substring\n",
    "18. String to Integer (atoi)\n",
    "19. Letter Combinations of a Phone Number\n",
    "\n",
    "20. Group Anagrams\n",
    "21. Gray Code\n",
    "22. Best Time to Buy and Sell Stock \n",
    "23. Word Ladder II\n",
    "24. Word Ladder\n",
    "25. Copy List with Random Pointer\n",
    "26. Word Break\n",
    "\n",
    "27. LRU Cache\n",
    "28. Min Stack\n",
    "\n",
    "29. Two Sum II – Input array is sorted\n",
    "30. Reverse Words in a String II\n",
    "31. Binary Tree Right Side View\n",
    "\n",
    "32. Count Primes\n",
    "\n",
    "33. Lowest Common Ancestor of a Binary Search Tree\n",
    "34. Lowest Common Ancestor of a Binary Tree\n",
    "35. Product of Array Except Self\n",
    "36. Sliding Window Maximum \n",
    "37. Search a 2D Matrix II\n",
    "38. Valid Anagram\n",
    "39. Serialize and Deserialize Binary Tree\n",
    "40. Trapping Rain Water"
   ]
  },
  {
   "cell_type": "markdown",
   "metadata": {},
   "source": [
    "### Rotate Image clockwise\n",
    "\n"
   ]
  },
  {
   "cell_type": "code",
   "execution_count": 30,
   "metadata": {},
   "outputs": [],
   "source": [
    "def rotate(image):\n",
    "    \"\"\"\n",
    "    Complexity (N^2)\n",
    "    \"\"\"\n",
    "    rows = len(image)\n",
    "    cols = len(image[0])\n",
    "    \n",
    "    if (rows != cols) or (rows==0) or (cols==0):\n",
    "        raise ValueError(\"Image is not square!\")\n",
    "    N = rows\n",
    "    \n",
    "    for layer in range(N//2):\n",
    "        # left_end_point and right_end_point of intervals\n",
    "        left = layer\n",
    "        right = N - 1 - layer\n",
    "        \n",
    "        for pointer in range(left, right):\n",
    "            off = pointer - left\n",
    "            top = image[left][pointer]\n",
    "            \n",
    "            # swap left to top\n",
    "            image[left][pointer] = image[right-off][left] \n",
    "            \n",
    "            # swap bottom to left\n",
    "            image[right-off][left] = image[right][right-off]\n",
    "            \n",
    "            # swap right to bottom\n",
    "            image[right][right-off] = image[pointer][right]\n",
    "            \n",
    "            # swap top to right\n",
    "            image[pointer][right] = top"
   ]
  },
  {
   "cell_type": "markdown",
   "metadata": {},
   "source": [
    "### Reverse Linked List"
   ]
  },
  {
   "cell_type": "code",
   "execution_count": 33,
   "metadata": {},
   "outputs": [],
   "source": [
    "class list_node(object):\n",
    "    def __init__(self, x):\n",
    "        self.val = x\n",
    "        self.next = None\n",
    "\n",
    "def reverse_linked_list(head):\n",
    "    # for empty input:\n",
    "    if type(head) != list_node:\n",
    "        raise ValueError(\"Input is not a linked list node!\")\n",
    "    \n",
    "    # for the case with one node:\n",
    "    if head.next == None:\n",
    "        return head\n",
    "    \n",
    "    # for the case with 2 nodes:\n",
    "    elif head.next.next == None:\n",
    "        head.next.next = head\n",
    "        head.next = None\n",
    "\n",
    "    # for linked list with length more than 2\n",
    "    prev = head\n",
    "    curr_node = head.next\n",
    "    next_node = head.next.next\n",
    "    prev.next = None\n",
    "    while next_node.next != None:\n",
    "        # go back one\n",
    "        curr_node.next = prev\n",
    "        \n",
    "        # shift to right\n",
    "        prev = curr_node\n",
    "        curr_node = next_node\n",
    "        next_node = curr_node.next\n",
    "    \n",
    "    # temp_node = list_node(next_node.val)\n",
    "    curr_node.next = prev\n",
    "    next_node.next = curr_node\n",
    "    \n",
    "    return next_node"
   ]
  },
  {
   "cell_type": "markdown",
   "metadata": {},
   "source": [
    "### Palindrome Linked List\n",
    "\n",
    "Given a singly linked list, determine if it is a palindrome.\n",
    "\n",
    "Follow up:\n",
    "Could you do it in ```O(n)``` time and ```O(1)``` space?\n",
    "\n",
    "-------\n",
    "**Input**: ```1->2```\n",
    "\n",
    "**Output**: ```false```\n",
    "\n",
    "-------\n",
    "**Input**: ```1->2->2->1```\n",
    "\n",
    "**Output**: ```true```"
   ]
  },
  {
   "cell_type": "markdown",
   "metadata": {},
   "source": [
    "We can do this by going throught the linked list, finding out about the length of the list,\n",
    "and then using ```O(1)``` space to reverse the first half of the linked list, and then compare the first half with the second half!\n",
    "\n",
    "Is there any smarter way?"
   ]
  },
  {
   "cell_type": "code",
   "execution_count": null,
   "metadata": {},
   "outputs": [],
   "source": [
    "def is_palindrome(head):\n",
    "    \"\"\"\n",
    "    Once go throught the whole list to\n",
    "    find out the number of nodes, i.e. length of the list.\n",
    "    O(n)\n",
    "    \n",
    "    Then go throught the list again\n",
    "    and refer the node next to median node as head(2).\n",
    "    O(n)\n",
    "\n",
    "    \"\"\"\n",
    "    if type(head) != list_node:\n",
    "        raise ValueError('The head is not a node!')\n",
    "        \n",
    "    current_node = head\n",
    "    list_len = 1\n",
    "    while current_node.next!= None:\n",
    "        list_len += 1\n",
    "        current_node = current_node.next\n",
    "        \n",
    "    if list_len %2 ==1:\n",
    "        head2_idx = 1 + list_len//2 "
   ]
  },
  {
   "cell_type": "code",
   "execution_count": 48,
   "metadata": {},
   "outputs": [
    {
     "data": {
      "text/plain": [
       "2"
      ]
     },
     "execution_count": 48,
     "metadata": {},
     "output_type": "execute_result"
    }
   ],
   "source": [
    "5//2 "
   ]
  },
  {
   "cell_type": "markdown",
   "metadata": {},
   "source": [
    "### Generate Data"
   ]
  },
  {
   "cell_type": "code",
   "execution_count": 50,
   "metadata": {},
   "outputs": [],
   "source": [
    "import pandas as pd\n",
    "import numpy as np"
   ]
  },
  {
   "cell_type": "code",
   "execution_count": null,
   "metadata": {},
   "outputs": [],
   "source": [
    "matrix = pd.read_csv(\"the_file.csv\")\n",
    "matrix.aggregate()"
   ]
  },
  {
   "cell_type": "code",
   "execution_count": 57,
   "metadata": {},
   "outputs": [
    {
     "name": "stdout",
     "output_type": "stream",
     "text": [
      "     A    B    C\n",
      "0  1.0  2.0  3.0\n",
      "1  4.0  5.0  6.0\n",
      "2  7.0  8.0  9.0\n",
      "3  NaN  NaN  NaN\n"
     ]
    },
    {
     "data": {
      "text/html": [
       "<div>\n",
       "<style scoped>\n",
       "    .dataframe tbody tr th:only-of-type {\n",
       "        vertical-align: middle;\n",
       "    }\n",
       "\n",
       "    .dataframe tbody tr th {\n",
       "        vertical-align: top;\n",
       "    }\n",
       "\n",
       "    .dataframe thead th {\n",
       "        text-align: right;\n",
       "    }\n",
       "</style>\n",
       "<table border=\"1\" class=\"dataframe\">\n",
       "  <thead>\n",
       "    <tr style=\"text-align: right;\">\n",
       "      <th></th>\n",
       "      <th>A</th>\n",
       "      <th>B</th>\n",
       "      <th>C</th>\n",
       "    </tr>\n",
       "  </thead>\n",
       "  <tbody>\n",
       "    <tr>\n",
       "      <th>sum</th>\n",
       "      <td>12.0</td>\n",
       "      <td>15.0</td>\n",
       "      <td>18.0</td>\n",
       "    </tr>\n",
       "    <tr>\n",
       "      <th>min</th>\n",
       "      <td>1.0</td>\n",
       "      <td>2.0</td>\n",
       "      <td>3.0</td>\n",
       "    </tr>\n",
       "  </tbody>\n",
       "</table>\n",
       "</div>"
      ],
      "text/plain": [
       "        A     B     C\n",
       "sum  12.0  15.0  18.0\n",
       "min   1.0   2.0   3.0"
      ]
     },
     "execution_count": 57,
     "metadata": {},
     "output_type": "execute_result"
    }
   ],
   "source": [
    "df = pd.DataFrame([[1, 2, 3],\n",
    "                    [4, 5, 6],\n",
    "                    [7, 8, 9],\n",
    "                    [np.nan, np.nan, np.nan]],\n",
    "                   columns=['A', 'B', 'C'])\n",
    "print (df)\n",
    "df.aggregate(['sum', 'min'])\n",
    "# df.agg(['sum', 'min'])"
   ]
  },
  {
   "cell_type": "code",
   "execution_count": 61,
   "metadata": {},
   "outputs": [
    {
     "data": {
      "text/plain": [
       "0    2.0\n",
       "1    5.0\n",
       "2    8.0\n",
       "3    NaN\n",
       "dtype: float64"
      ]
     },
     "execution_count": 61,
     "metadata": {},
     "output_type": "execute_result"
    }
   ],
   "source": [
    "# Different aggregations per column.\n",
    "df.agg({'A' : ['sum', 'min'], 'B' : ['min', 'max']})\n",
    "\n",
    "# Aggregate over the columns.\n",
    "df.agg(\"mean\", axis=\"columns\")"
   ]
  }
 ],
 "metadata": {
  "kernelspec": {
   "display_name": "Python 3",
   "language": "python",
   "name": "python3"
  },
  "language_info": {
   "codemirror_mode": {
    "name": "ipython",
    "version": 3
   },
   "file_extension": ".py",
   "mimetype": "text/x-python",
   "name": "python",
   "nbconvert_exporter": "python",
   "pygments_lexer": "ipython3",
   "version": "3.6.5"
  }
 },
 "nbformat": 4,
 "nbformat_minor": 2
}
