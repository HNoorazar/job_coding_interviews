{
 "cells": [
  {
   "cell_type": "markdown",
   "metadata": {},
   "source": [
    "# Cracking the coding interview"
   ]
  },
  {
   "cell_type": "markdown",
   "metadata": {},
   "source": [
    "### List of problems in this notebook"
   ]
  },
  {
   "cell_type": "markdown",
   "metadata": {},
   "source": [
    "- **1.7**\n",
    "rotate N-by-N matrix of an image, rotate it by 90 degrees (Done in Amazon)"
   ]
  },
  {
   "cell_type": "markdown",
   "metadata": {},
   "source": [
    "- **1.8 Zero Matrix** Write an algorithm such that an element of a $M \\times N$ matrix is zero, its entire row and column is set to zero.\n"
   ]
  },
  {
   "cell_type": "code",
   "execution_count": 20,
   "metadata": {},
   "outputs": [],
   "source": [
    "def zero_matrix(matrix):\n",
    "    rows, cols = find_locations(matrix)\n",
    "    make_rows_zero(matrix, rows)\n",
    "    make_cols_zero(matrix, cols)\n",
    "\n",
    "def make_rows_zero(matrix, rows):\n",
    "    for row in rows:\n",
    "        for jj in range(len(matrix[0])):\n",
    "            matrix[row][jj] = 0\n",
    "            \n",
    "    \n",
    "def make_cols_zero(matrix, cols):\n",
    "    for col in cols:\n",
    "        for ii in range(len(matrix)):\n",
    "            matrix[ii][col] = 0\n",
    "\n",
    "def find_locations(matrix):\n",
    "    m = len(matrix)\n",
    "    n = len(matrix[0])\n",
    "    rows = []\n",
    "    cols = []\n",
    "    \n",
    "    for ii in range(m):\n",
    "        for jj in range(n):\n",
    "            if matrix[ii][jj] == 0:\n",
    "                rows.append(ii)\n",
    "                cols.append(jj)\n",
    "    return rows, cols"
   ]
  },
  {
   "cell_type": "markdown",
   "metadata": {},
   "source": [
    "**1.9 String Rotation**\n",
    "Assume you have a method ```is_substring```, which checks if one word is substring of another. Given two strings ```s1``` and ```s2```, write a code to check if ```s2``` is a rotation of ```s1``` using only one call to ```is_substring```. (e.g. ```waterbottle``` is a rotation of ```erbottlewat```)"
   ]
  },
  {
   "cell_type": "code",
   "execution_count": null,
   "metadata": {},
   "outputs": [],
   "source": [
    "def string_rotation(s1, s2):\n",
    "    if (len(s1)== len(s2) ) and (len(s1)>0):\n",
    "        s1s1 = s1+s1\n",
    "        return (s2 in s1s1)\n",
    "    else:\n",
    "        return False\n"
   ]
  },
  {
   "cell_type": "code",
   "execution_count": 3,
   "metadata": {},
   "outputs": [
    {
     "data": {
      "text/plain": [
       "True"
      ]
     },
     "execution_count": 3,
     "metadata": {},
     "output_type": "execute_result"
    }
   ],
   "source": [
    "\"hello\" in \"lohellohel\""
   ]
  },
  {
   "cell_type": "markdown",
   "metadata": {},
   "source": [
    "# Linked List\n",
    "(Chapter 2)\n",
    "\n",
    "- Think about runner technique\n",
    "- Think about recurssion."
   ]
  },
  {
   "cell_type": "code",
   "execution_count": 7,
   "metadata": {},
   "outputs": [],
   "source": [
    "class linked_list_node:\n",
    "    def __init__(self, x):\n",
    "        self.val = x\n",
    "        self.next = None"
   ]
  },
  {
   "cell_type": "markdown",
   "metadata": {},
   "source": [
    "#### Remove duplicates\n",
    "Write code to remove duplicates from an unsorted linked list.\n",
    "\n",
    "** follow up **\n",
    "\n",
    "How would you solve this problem if a temporary buffer is not allowed"
   ]
  },
  {
   "cell_type": "code",
   "execution_count": 3,
   "metadata": {},
   "outputs": [],
   "source": [
    "def remove_duplicates_linked_list(head):\n",
    "    \"\"\"\n",
    "    double pointer - runner technique. O(N^2) time, O(1) space\n",
    "    \"\"\"\n",
    "    current = head\n",
    "    while current.next != None:\n",
    "        runner = current\n",
    "        while runner.next != None:\n",
    "            if runner.next.val == current.val:\n",
    "                runner.next = runner.next.next\n",
    "            else:\n",
    "                runner = runner.next\n",
    "        current = current.next"
   ]
  },
  {
   "cell_type": "code",
   "execution_count": 30,
   "metadata": {},
   "outputs": [],
   "source": [
    "def remove_duplicates_linked_list_1(head):\n",
    "    \"\"\"\n",
    "    use a hash table O(N) time\n",
    "    but needs extra space.\n",
    "    \"\"\"\n",
    "    hash_tab = {}\n",
    "    prev_node = linked_list_node('null')\n",
    "    current = head\n",
    "    while current.next != None:\n",
    "        if str(current.val) in hash_tab:\n",
    "            prev_node.next = current.next\n",
    "            current = current.next\n",
    "        else:\n",
    "            hash_tab[str(current.val)] = current.val\n",
    "            prev_node = current\n",
    "            current = current.next\n",
    "    \n",
    "    # the above code does not check the last node\n",
    "    # because for the last node we have current.next == None\n",
    "    # prev is always one behind current.\n",
    "    # check it below:\n",
    "    if str(current.val) in hash_tab:\n",
    "        prev_node.next = None"
   ]
  },
  {
   "cell_type": "code",
   "execution_count": 49,
   "metadata": {
    "scrolled": true
   },
   "outputs": [],
   "source": [
    "l1 = linked_list_node(10)\n",
    "l2 = linked_list_node(10)\n",
    "l3 = linked_list_node(1)\n",
    "l4 = linked_list_node(2)\n",
    "l5 = linked_list_node(3)\n",
    "l6 = linked_list_node(2)\n",
    "l7 = linked_list_node(17)\n",
    "\n",
    "l1.next = l2\n",
    "l2.next = l3\n",
    "l3.next = l4\n",
    "l4.next = l5\n",
    "l5.next = l6\n",
    "l6.next = l7\n",
    "remove_duplicates_linked_list(l1)"
   ]
  },
  {
   "cell_type": "code",
   "execution_count": 51,
   "metadata": {},
   "outputs": [],
   "source": [
    "def return_k_th_to_last(head, k):\n",
    "    pointer_1 = head\n",
    "    pointer_2 = head\n",
    "    \n",
    "    for count in range(1, k):\n",
    "        if pointer_1.next == None:\n",
    "            raise ValueError(\"Out of bound\")\n",
    "        else:\n",
    "            pointer_1 = pointer_1.next\n",
    "    \n",
    "    while pointer_1.next != None:\n",
    "        pointer_1 = pointer_1.next\n",
    "        pointer_2 = pointer_2.next\n",
    "    return pointer_2\n",
    "            "
   ]
  },
  {
   "cell_type": "code",
   "execution_count": 59,
   "metadata": {},
   "outputs": [
    {
     "data": {
      "text/plain": [
       "10"
      ]
     },
     "execution_count": 59,
     "metadata": {},
     "output_type": "execute_result"
    }
   ],
   "source": [
    "l1 = linked_list_node(10)\n",
    "l2 = linked_list_node(10)\n",
    "l3 = linked_list_node(1)\n",
    "l4 = linked_list_node(2)\n",
    "l5 = linked_list_node(3)\n",
    "l6 = linked_list_node(2)\n",
    "l7 = linked_list_node(17)\n",
    "\n",
    "l1.next = l2\n",
    "l2.next = l3\n",
    "l3.next = l4\n",
    "l4.next = l5\n",
    "l5.next = l6\n",
    "l6.next = l7\n",
    "return_k_th_to_last(l1, 7).val"
   ]
  },
  {
   "cell_type": "code",
   "execution_count": 2,
   "metadata": {},
   "outputs": [],
   "source": [
    "\"\"\"\n",
    "delete middle node on page 94\n",
    "Hint #72 on page 660:\n",
    "Solution on page 211:\n",
    "\n",
    "\n",
    "a-> b -> c -> d\n",
    "Input is \"c\". remove it from the linked list\n",
    "\"\"\"\n",
    "def delete_middle_node(given_node):\n",
    "    given_node.val = given_node.next.val\n",
    "    given_node.next = given_node.next.next"
   ]
  },
  {
   "cell_type": "markdown",
   "metadata": {},
   "source": [
    "**Input:**\n",
    "  - First List: ```5->6->3```  // represents number 365\n",
    "  - Second List: ```8->4->2``` //  represents number 248\n",
    "\n",
    "**Output**\n",
    "  - Resultant list: ```3->1->6```  // represents number 613\n",
    "\n",
    "\n",
    "Follow up:\n",
    "\n",
    "**Input**:\n",
    "   - First List:  ```5->6->3```  // represents number 563\n",
    "   - Second List: ```8->4->2``` //  represents number 842\n",
    "\n",
    "**Output:**\n",
    "  - Resultant list: ```1->4->0->5```  // represents number 1405"
   ]
  },
  {
   "cell_type": "code",
   "execution_count": 72,
   "metadata": {},
   "outputs": [],
   "source": [
    "def sum_linked_list(head1, head2):\n",
    "    \"\"\"\n",
    "    here I am assuming they both are non empty. \n",
    "    i.e. they have at least one digit in them,\n",
    "    i.e. head1 != None and head2.val != None\n",
    "    \"\"\"\n",
    "    sum_result = linked_list_node(0)\n",
    "    sum_head = sum_result\n",
    "\n",
    "    flag = True\n",
    "    first_over = False\n",
    "    second_over = False\n",
    "    carry = 0\n",
    "   \n",
    "    while flag:\n",
    "        if first_over:\n",
    "            first = 0\n",
    "        else:\n",
    "            first = head1.val\n",
    "            \n",
    "        if second_over:\n",
    "            second = 0\n",
    "        else:\n",
    "            second = head2.val\n",
    "            \n",
    "        curr_sum = first + second + carry\n",
    "        if curr_sum >=10:\n",
    "            carry = 1\n",
    "        else:\n",
    "            carry = 0\n",
    "            \n",
    "        sum_result.val = curr_sum % 10\n",
    "        \n",
    "        if head1.next == None:\n",
    "            first_over = True\n",
    "        else:\n",
    "            head1 = head1.next\n",
    "        \n",
    "        if head2.next == None:\n",
    "            second_over = True\n",
    "        else:\n",
    "            head2 = head2.next\n",
    "            \n",
    "        if first_over and second_over:\n",
    "            flag = False\n",
    "        else:\n",
    "            sum_result.next = linked_list_node(0)\n",
    "            sum_result = sum_result.next\n",
    "        \n",
    "    return sum_head        "
   ]
  },
  {
   "cell_type": "code",
   "execution_count": 81,
   "metadata": {},
   "outputs": [],
   "source": [
    "head1 = linked_list_node(5)\n",
    "head2 = linked_list_node(6)\n",
    "b = linked_list_node(1)\n",
    "c = linked_list_node(1)\n",
    "d = linked_list_node(7)\n",
    "e = linked_list_node(7)"
   ]
  },
  {
   "cell_type": "code",
   "execution_count": null,
   "metadata": {},
   "outputs": [],
   "source": [
    "head1.next = b\n",
    "b.next = c\n",
    "head2.next = d\n",
    "d.next = e"
   ]
  },
  {
   "cell_type": "markdown",
   "metadata": {},
   "source": [
    "2.7 Intersection of two linked list.\n",
    "    - Done in FaceBook"
   ]
  },
  {
   "cell_type": "markdown",
   "metadata": {},
   "source": [
    "#### Loop Detection\n",
    "page 95 of the book, 102 of PDF. \n",
    "  - **Hints** 50, 69, 83, 90. (Hints start at page 660 of PDF.)\n",
    "  - **Solution** on page 223 of the book.\n"
   ]
  },
  {
   "cell_type": "code",
   "execution_count": null,
   "metadata": {},
   "outputs": [],
   "source": []
  },
  {
   "cell_type": "markdown",
   "metadata": {},
   "source": [
    "# Stacks and Queues\n",
    "page 103 of the PDF (96 of the book)."
   ]
  },
  {
   "cell_type": "markdown",
   "metadata": {},
   "source": [
    "One place that stacks are often useful is in certain recursive algorithms. sometimes you need to push temp. data onto a stack as you recurse, but then remove them as you backtrack (for e.g. because the recursive check failed.)\n",
    "\n",
    "A stack can be used to implement a recursive alg. iteratively. \n",
    "\n",
    "\n",
    "One place to use queues are often in BFS or implementing a cache. In BFS, for e.g., we used a queue to store a list of the nodes that we need to process. Each time we process a node, we add its asjacent nodes to the back of the queue. This allows us to process nodes in the order in which they are viewed."
   ]
  },
  {
   "cell_type": "code",
   "execution_count": 29,
   "metadata": {},
   "outputs": [],
   "source": [
    "class Stack:\n",
    "     def __init__(self):\n",
    "            self.items = []\n",
    "\n",
    "    def is_empty(self):\n",
    "         return self.items == []\n",
    "\n",
    "    def push(self, item):\n",
    "         self.items.append(item)\n",
    "\n",
    "    def pop(self):\n",
    "         return self.items.pop()\n",
    "\n",
    "    def peek(self):\n",
    "         return self.items[len(self.items)-1]\n",
    "\n",
    "    def size(self):\n",
    "         return len(self.items)\n"
   ]
  },
  {
   "cell_type": "code",
   "execution_count": 41,
   "metadata": {},
   "outputs": [],
   "source": [
    "class Queue:\n",
    "    def __init__(self):\n",
    "        self.items = []\n",
    "\n",
    "    def is_empty(self):\n",
    "        return self.items == []\n",
    "\n",
    "    def enqueue(self, item):\n",
    "        self.items.insert(0,item)\n",
    "\n",
    "    def dequeue(self):\n",
    "        return self.items.pop()\n",
    "\n",
    "    def size(self):\n",
    "        return len(self.items)"
   ]
  },
  {
   "cell_type": "markdown",
   "metadata": {},
   "source": [
    "### Three in one\n",
    "Describe how you can use a single array to implement three stacks.\n",
    "  - **Hints** (2, 12, 38, 58)\n",
    "  - **Solution** 227"
   ]
  },
  {
   "cell_type": "code",
   "execution_count": null,
   "metadata": {},
   "outputs": [],
   "source": []
  },
  {
   "cell_type": "markdown",
   "metadata": {},
   "source": [
    "### Stack min\n",
    "How would you implement a stack which has a function min which returns minimum element? Push, pop and min all should operate in O(1) time.\n",
    "\n",
    "  - Hints (27, 59, 78)\n",
    "  - Solution: 232."
   ]
  },
  {
   "cell_type": "code",
   "execution_count": null,
   "metadata": {},
   "outputs": [],
   "source": []
  },
  {
   "cell_type": "code",
   "execution_count": null,
   "metadata": {},
   "outputs": [],
   "source": []
  }
 ],
 "metadata": {
  "kernelspec": {
   "display_name": "Python 3",
   "language": "python",
   "name": "python3"
  },
  "language_info": {
   "codemirror_mode": {
    "name": "ipython",
    "version": 3
   },
   "file_extension": ".py",
   "mimetype": "text/x-python",
   "name": "python",
   "nbconvert_exporter": "python",
   "pygments_lexer": "ipython3",
   "version": "3.6.5"
  }
 },
 "nbformat": 4,
 "nbformat_minor": 2
}
