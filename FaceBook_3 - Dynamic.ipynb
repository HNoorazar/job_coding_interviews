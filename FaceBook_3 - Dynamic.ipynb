{
 "cells": [
  {
   "cell_type": "markdown",
   "metadata": {},
   "source": [
    "# Dynamic Programing"
   ]
  },
  {
   "cell_type": "code",
   "execution_count": 13,
   "metadata": {},
   "outputs": [],
   "source": [
    "import collections"
   ]
  },
  {
   "cell_type": "markdown",
   "metadata": {},
   "source": [
    "### Decode Ways\n",
    "\n",
    "A message containing letters from ```A-Z``` \n",
    "is being encoded to numbers using the \n",
    "following mapping:\n",
    "```\n",
    "   'A' -> 1\n",
    "   'B' -> 2\n",
    "   ...\n",
    "   'Z' -> 26\n",
    "```\n",
    "\n",
    "Given a non-empty string containing only digits, determine the total number of ways to decode it.\n",
    "\n",
    "**Example 1:**\n",
    "\n",
    "```Input: \"12\"```\n",
    "\n",
    "```Output: 2```\n",
    "\n",
    "Explanation: It could be decoded as ```AB``` (1 2) or ```L``` (12)."
   ]
  },
  {
   "cell_type": "code",
   "execution_count": 1,
   "metadata": {},
   "outputs": [],
   "source": [
    "def decode(num_str):\n",
    "    assert (validate_all_chars(num_str))\n",
    "    \n",
    "    if len(num_str)==0:\n",
    "        return 0\n",
    "\n",
    "    if len(num_str)==1:\n",
    "        return 1\n",
    "    \n",
    "    decodes_count = 1\n",
    "    for idx in range(1, len(num_str)):\n",
    "        if (0<int(num_str[idx-1]+num_str[idx]) <27):\n",
    "            decodes_count += 1\n",
    "    return decodes_count\n",
    "\n",
    "def validate_all_chars(num_str):\n",
    "    if num_str[0]=='0':\n",
    "        return False\n",
    "    for idx, char in enumerate(num_str):\n",
    "        if (0 <= int(char) < 10):\n",
    "            pass\n",
    "        else:\n",
    "            message = 'The {}th character is not a digit'.format(idx)\n",
    "            raise ValueError (message)\n",
    "    return True\n",
    "\n",
    "def validate_all_chars_I(num_str):\n",
    "    if num_str[0] == '0':\n",
    "        return False\n",
    "    \n",
    "    digits = ['0', '1', '2', '3', '4', '5', '6', '7', '8', '9']\n",
    "    status = True\n",
    "    for char in num_str:\n",
    "        if not (char in digits):\n",
    "            return False"
   ]
  },
  {
   "cell_type": "code",
   "execution_count": 2,
   "metadata": {},
   "outputs": [
    {
     "data": {
      "text/plain": [
       "4"
      ]
     },
     "execution_count": 2,
     "metadata": {},
     "output_type": "execute_result"
    }
   ],
   "source": [
    "decode('1121')"
   ]
  },
  {
   "cell_type": "code",
   "execution_count": 3,
   "metadata": {},
   "outputs": [],
   "source": [
    "def num_decodings(string):\n",
    "    if string == \"\": \n",
    "        return 0\n",
    "    dp = [0] * (len(string)+1)\n",
    "    dp[0] = 1\n",
    "    for i in range(1, len(string)+1):\n",
    "        if string[i-1] != \"0\":\n",
    "            dp[i] += dp[i-1]\n",
    "        if i != 1 and \"09\" < string[i-2:i] < \"27\":\n",
    "            dp[i] += dp[i-2]\n",
    "    return dp"
   ]
  },
  {
   "cell_type": "code",
   "execution_count": 5,
   "metadata": {},
   "outputs": [
    {
     "data": {
      "text/plain": [
       "[1, 1, 2, 3, 2]"
      ]
     },
     "execution_count": 5,
     "metadata": {},
     "output_type": "execute_result"
    }
   ],
   "source": [
    "s = '1210'\n",
    "num_decodings(s)"
   ]
  },
  {
   "cell_type": "markdown",
   "metadata": {},
   "source": [
    "### Minimum window subsequence\n",
    "\n",
    "Minimum Window Substring\n",
    "\n",
    "Given a string ```S``` and a string ```T```, find the minimum window in ```S``` which will contain all the characters in ```T``` in complexity ```O(n)```.\n",
    "\n",
    "   1. **Input**: ```S = \"ADOBECODEBANC\"```, ```T = \"ABC\"```\n",
    "   2. **Output**: ```\"BANC\"```"
   ]
  },
  {
   "cell_type": "code",
   "execution_count": 14,
   "metadata": {},
   "outputs": [],
   "source": [
    "def min_window(string, template):\n",
    "    if len(template)>len(string):\n",
    "        print (\"Template is longer than string.\")\n",
    "        return 0\n",
    "    \n",
    "    temp_hash = {}\n",
    "    for char in template:\n",
    "        if char in temp_hash:\n",
    "            temp_hash[char] += 1\n",
    "        else:\n",
    "            temp_hash[char] = 1\n",
    "\n",
    "    temp_hash = collections.Counter(template) \n",
    "    no_needs = len(template)\n",
    "\n",
    "    left = 0\n",
    "    best_left = 0\n",
    "    best_right = 0\n",
    "\n",
    "    for right, char in enumerate(string, 1):\n",
    "        if temp_hash[char]>0:\n",
    "            no_needs -= temp_hash[char]\n",
    "        temp_hash[char] -= 1\n",
    "\n",
    "        if no_needs==0:\n",
    "            while left < right and temp_hash[string[left]] < 0:\n",
    "                temp_hash[string[left]] += 1\n",
    "                left += 1\n",
    "\n",
    "            if not best_right or right - left <= best_right - best_left:\n",
    "                best_left, best_right = left, right\n",
    "\n",
    "    return string[best_left : best_right]"
   ]
  },
  {
   "cell_type": "code",
   "execution_count": 15,
   "metadata": {},
   "outputs": [
    {
     "data": {
      "text/plain": [
       "'BANC'"
      ]
     },
     "execution_count": 15,
     "metadata": {},
     "output_type": "execute_result"
    }
   ],
   "source": [
    "string = 'ADOBECODEBANC'\n",
    "template = 'ABC'\n",
    "min_window(string, template)"
   ]
  },
  {
   "cell_type": "markdown",
   "metadata": {},
   "source": [
    "### Others"
   ]
  },
  {
   "cell_type": "markdown",
   "metadata": {},
   "source": [
    "#### Unique Paths\n",
    "\n",
    "A robot is located at the top-left corner of a m x n grid (marked 'Start' in the diagram below).\n",
    "\n",
    "The robot can only move either down or right at any point in time. The robot is trying to reach the bottom-right corner of the grid (marked 'Finish' in the diagram below).\n",
    "\n",
    "How many possible unique paths are there?\n",
    "\n",
    "\n",
    "   1. **Input**: m = 3, n = 2\n",
    "   2. **Output**: 3\n",
    "\n",
    "**Explanation**:\n",
    "From the top-left corner, there are a total of 3 ways to reach the bottom-right corner:\n",
    "1. ```Right -> Right -> Down```\n",
    "2. ```Right -> Down -> Right```\n",
    "3. ```Down -> Right -> Right```\n",
    "\n",
    "Easy, remember the pascal triangle and combinatorics solution of $3 \\times 7$ matrix needs 2 ```D```'s and 6 ```R```'s.\n"
   ]
  },
  {
   "cell_type": "code",
   "execution_count": 18,
   "metadata": {},
   "outputs": [],
   "source": [
    "num1 = '1010101010'\n",
    "num2 = '11'"
   ]
  },
  {
   "cell_type": "code",
   "execution_count": 19,
   "metadata": {},
   "outputs": [
    {
     "data": {
      "text/plain": [
       "'1010101010'"
      ]
     },
     "execution_count": 19,
     "metadata": {},
     "output_type": "execute_result"
    }
   ],
   "source": [
    "temp = num1\n",
    "num1 = num2\n",
    "num2 = temp\n",
    "temp"
   ]
  },
  {
   "cell_type": "code",
   "execution_count": 20,
   "metadata": {},
   "outputs": [],
   "source": [
    "## add binary\n",
    "\n",
    "def add_binary(num1, num2):\n",
    "    \"\"\"\n",
    "    This is kind of brute force.\n",
    "    I did not take advantage of adding chars stuff.\n",
    "    \"\"\"\n",
    "    l2 = len(num2)\n",
    "    l1 = len(num1)\n",
    "    \n",
    "    if l1==0:\n",
    "        return num2\n",
    "    if l2==0:\n",
    "        return num1\n",
    "    # if num2 is longer swap them, \n",
    "    # so we know for sure that num1 is longer than num2.\n",
    "    if l2>l1:\n",
    "        temp = num1   # .copy()\n",
    "        num1 = num2   # .copy()\n",
    "        num2 = temp   # .copy()\n",
    "        l2 = len(num2)\n",
    "        l1 = len(num1)\n",
    "\n",
    "    carry = 0\n",
    "    bin_sum = [0]*l1\n",
    "    # print (num1, num2)\n",
    "    # print (l1, l2)\n",
    "    for pointer in reversed(range(l1)):\n",
    "        if pointer>=(l1-l2):\n",
    "            curr = int(num1[pointer]) + int(num2[pointer-l1+l2]) + carry\n",
    "        else:\n",
    "            curr = int(num1[pointer]) + carry\n",
    "        \n",
    "        if curr <= 1:\n",
    "            bin_sum[pointer] = curr\n",
    "            carry = 0\n",
    "        elif curr==2:\n",
    "            bin_sum[pointer] = 0\n",
    "            carry = 1\n",
    "        elif curr==3:\n",
    "            bin_sum[pointer] = 1\n",
    "            carry = 1\n",
    "            \n",
    "    if carry == 1:\n",
    "        bin_sum.insert(0,1)\n",
    "    return ''.join(str(e) for e in bin_sum)"
   ]
  },
  {
   "cell_type": "code",
   "execution_count": 21,
   "metadata": {},
   "outputs": [
    {
     "data": {
      "text/plain": [
       "'10101'"
      ]
     },
     "execution_count": 21,
     "metadata": {},
     "output_type": "execute_result"
    }
   ],
   "source": [
    "add_binary('1010','1011')"
   ]
  },
  {
   "cell_type": "markdown",
   "metadata": {},
   "source": [
    "### find kth largest element in unsorted array"
   ]
  },
  {
   "cell_type": "code",
   "execution_count": 23,
   "metadata": {},
   "outputs": [],
   "source": [
    "def find_kth_largest(arr, k):\n",
    "    correct_idx = len(arr) - k\n",
    "    left = 0\n",
    "    right = len(arr) - 1\n",
    "    while (left <= right):\n",
    "        curr_left = left\n",
    "\n",
    "        for j in range(left + 1, right+1):\n",
    "            if (arr[j] < arr[left]):\n",
    "                curr_left+=1\n",
    "                swap(arr, j, curr_left)\n",
    "        swap(arr, left, curr_left)\n",
    "\n",
    "        if (correct_idx < curr_left):\n",
    "            right = curr_left - 1\n",
    "        elif (correct_idx > curr_left):\n",
    "            left = curr_left + 1\n",
    "        else:\n",
    "            return arr[curr_left]\n",
    "    return -1\n",
    "\n",
    "def swap(arr, i, j):\n",
    "    arr[i], arr[j] = arr[j], arr[i]"
   ]
  },
  {
   "cell_type": "code",
   "execution_count": 24,
   "metadata": {},
   "outputs": [
    {
     "data": {
      "text/plain": [
       "4"
      ]
     },
     "execution_count": 24,
     "metadata": {},
     "output_type": "execute_result"
    }
   ],
   "source": [
    "arr = [3,2,3,1,2,4,5,5,6]\n",
    "k = 4\n",
    "find_kth_largest(arr, k)"
   ]
  },
  {
   "cell_type": "markdown",
   "metadata": {},
   "source": [
    "### divide two integers\n",
    "\n",
    "\n",
    "Given two integers ```dividend``` and ```divisor```, divide two integers without using multiplication, division and mod operator.\n",
    "\n",
    "Return the quotient after dividing ```dividend``` by ```divisor```.\n",
    "\n",
    "The integer division should truncate toward zero.\n",
    "\n",
    "---------\n",
    "Example 1:\n",
    "\n",
    "**Input**: dividend = 10, divisor = 3\n",
    "\n",
    "**Output**: 3\n",
    "\n",
    "-----------\n",
    "**Input**: dividend = 7, divisor = -3\n",
    "\n",
    "**Output**: -2"
   ]
  },
  {
   "cell_type": "code",
   "execution_count": 29,
   "metadata": {},
   "outputs": [],
   "source": [
    "def divide(dividend, divisor):\n",
    "    if abs(dividend) < abs(divisor):\n",
    "        return 0\n",
    "    \n",
    "    if divisor==1:\n",
    "        return dividend\n",
    "    \n",
    "    if divisor==-1:\n",
    "        return -dividend\n",
    "    \n",
    "    curr_sum = 0\n",
    "    k = 0\n",
    "    \n",
    "    dividend = abs(dividend)\n",
    "    divisor = abs(divisor)\n",
    "    \n",
    "    sign = (dividend>0) * (divisor>0)\n",
    "\n",
    "    while curr_sum <= dividend:\n",
    "        curr_sum += divisor\n",
    "        k += 1\n",
    "        \n",
    "    if sign == 1:\n",
    "        return (k-1)\n",
    "    else:\n",
    "        return -(k-1)\n",
    "    \n",
    "def divide(dividend, divisor):\n",
    "    positive = (dividend > 0) * (divisor > 0)\n",
    "    dividend = abs(dividend)\n",
    "    divisor = abs(divisor)\n",
    "    count = 0\n",
    "    while dividend >= divisor:\n",
    "        temp = divisor\n",
    "        ii = 1\n",
    "        while dividend >= temp:\n",
    "            dividend -= temp\n",
    "            count += ii\n",
    "            ii <<= 1\n",
    "            temp <<= 1\n",
    "    if positive==0:\n",
    "        count = -count\n",
    "    return min(max(-2147483648, count), 2147483647)"
   ]
  },
  {
   "cell_type": "code",
   "execution_count": 30,
   "metadata": {},
   "outputs": [
    {
     "data": {
      "text/plain": [
       "3"
      ]
     },
     "execution_count": 30,
     "metadata": {},
     "output_type": "execute_result"
    }
   ],
   "source": [
    "divide(10, 3)"
   ]
  },
  {
   "cell_type": "markdown",
   "metadata": {},
   "source": [
    "# Design\n",
    "\n",
    "### Add and Search Word - Data structure\n",
    "add and search word data structure\n",
    "\n",
    "Design a data structure that supports the following two operations:\n",
    "\n",
    "```java\n",
    "void addWord(word)\n",
    "bool search(word)\n",
    "```\n",
    "\n",
    "\n",
    "search(word) can search a literal word or a regular expression string containing only letters ```a-z``` or `.`. A `.` means it can represent any one letter.\n",
    "\n",
    "**Example**:\n",
    "\n",
    "```python\n",
    "addWord(\"bad\")\n",
    "addWord(\"dad\")\n",
    "addWord(\"mad\")\n",
    "search(\"pad\") -> false\n",
    "search(\"bad\") -> true\n",
    "search(\".ad\") -> true\n",
    "search(\"b..\") -> true\n",
    "```"
   ]
  },
  {
   "cell_type": "code",
   "execution_count": 32,
   "metadata": {},
   "outputs": [],
   "source": [
    "class Node():\n",
    "    def __init__(self):\n",
    "        # mapping from character ==> Node\n",
    "        self.children = {}\n",
    "        self.value = None\n",
    "        \n",
    "def find(node, key):\n",
    "    for char in key:\n",
    "        if char in node.children:\n",
    "            node = node.children[char]\n",
    "        else:\n",
    "            return None\n",
    "    return node.value\n",
    "\n",
    "def insert(root, string, value):\n",
    "    \"\"\"\n",
    "    First walk the trie, and then append\n",
    "    the letters that are not there at the end.\n",
    "    \"\"\"\n",
    "    node = root\n",
    "    idx_last_char = None\n",
    "    \n",
    "    # first walk the trie\n",
    "    for idx_char, char in enumerate(string):\n",
    "        if char in node.children:\n",
    "            node = node.children[char]\n",
    "        else:\n",
    "            idx_last_char = idx_char\n",
    "            break\n",
    "\n",
    "    # append new nodes for the remaining characters, if any\n",
    "    if idx_last_char is not None: \n",
    "        for char in string[idx_last_char:]:\n",
    "            node.children[char] = Node()\n",
    "            node = node.children[char]\n",
    "\n",
    "    # store value in the terminal node\n",
    "    node.value = value"
   ]
  },
  {
   "cell_type": "code",
   "execution_count": null,
   "metadata": {},
   "outputs": [],
   "source": [
    "root = Node()\n",
    "insert(root, 'to')\n",
    "root.children['t'].children"
   ]
  },
  {
   "cell_type": "markdown",
   "metadata": {},
   "source": [
    "### LRU Cache"
   ]
  },
  {
   "cell_type": "code",
   "execution_count": null,
   "metadata": {},
   "outputs": [],
   "source": [
    "a = [1, 2, 10, 30, -10, 0]\n",
    "a[::-1]"
   ]
  },
  {
   "cell_type": "markdown",
   "metadata": {},
   "source": [
    "### Sparse Vector dot product.\n",
    "\n",
    "I do not know on a low level, how python or MATLAB handles sparse matrices. I know they do not save the whole matrix, and rather they save the location $(i,j)$ and the non-zero value $A_ij$.\n",
    "\n",
    "The question I was asked was:\n",
    "    \n",
    "    1. What data structure you would use to save such vectors.\n",
    "    2. How would you implement dot product of two sparse vectors.\n",
    "    \n",
    "Perhaps linked list could be an option, however, during the interview I was a deer in headlight! I suggested list of lists such as \n",
    "\n",
    "$$ \\textbf{v} = [[1, v_1], [5, v_2] , \\cdots, [i, v_i], \\cdots, [n, v_n]]$$\n",
    "\n",
    "A follow up question was why not list of tuples:\n",
    "\n",
    "$$ \\textbf{v} = [(1, v_1), (5, v_2) , \\cdots, (i, v_i), \\cdots, (n, v_n)]$$\n",
    "\n",
    "\n",
    "**Question**: Implement sparse dot product.\n",
    "\n",
    "**Follow up**: \n",
    "    1. what is the time complexity?\n",
    "    2. How to optimize the dot product if we know the first vector is always shorter than the second one.\n",
    "    \n",
    "My answer to the second part at the moment was do a binary search to find the largest index that is smaller than the first element in $\\textbf{w}$ and another binary search to find the least index that is larger than the index of last element in $\\textbf{w}$. So, in the following example we find ```12``` which is the third entry of $\\textbf{v}$ and ```5``` which is second entry of \\textbf{v} and do the math just in that window!\n",
    "\n",
    " \n",
    "$$v = [ \\: [1, 10],  \\:[5, 3] , \\:[12, 120] ,\\:  [22, 10.2] ,\\:  [100, 30] \\:] $$\n",
    "\n",
    "$$w = [ \\:[5, 11] , \\: [6, 4], \\: [11, 7] \\: ]$$\n",
    "\n",
    "\n",
    "However, perhaps we can do a binary search on both of them to find the range of indecies where they have some indices in common to do the multiplication, and this does not take advantage of the fact that we know first input is longer than the second! ```hummmm ...```"
   ]
  },
  {
   "cell_type": "code",
   "execution_count": 33,
   "metadata": {},
   "outputs": [
    {
     "data": {
      "text/plain": [
       "110"
      ]
     },
     "execution_count": 33,
     "metadata": {},
     "output_type": "execute_result"
    }
   ],
   "source": [
    "def dot_product(v, w):\n",
    "    \n",
    "    len_v = len(v)\n",
    "    len_w = len(w)\n",
    "    \n",
    "    pointer_v = 0\n",
    "    pointer_w = 0\n",
    "    result = 0\n",
    "    \n",
    "    while (pointer_v < len_v) and (pointer_w < len_w):\n",
    "        if v[pointer_v][0] == w[pointer_w][0]:\n",
    "            result += (v[pointer_v][1] * w[pointer_w][1])\n",
    "            pointer_v += 1\n",
    "            pointer_w += 1\n",
    "        elif v[pointer_v][0] < w[pointer_w][0]:\n",
    "            pointer_v += 1\n",
    "        elif v[pointer_v][0] > w[pointer_w][0]:\n",
    "            pointer_w += 1 \n",
    "    return result\n",
    "\n",
    "v = [[1, 10],[5, 3],[12, 120], [22, 22], [100, 30]]\n",
    "w = [[1, 11],[6, 4],[11, 7]]\n",
    "dot_product(v, w)"
   ]
  },
  {
   "cell_type": "markdown",
   "metadata": {},
   "source": [
    "### Sparse Matrix"
   ]
  },
  {
   "cell_type": "code",
   "execution_count": 37,
   "metadata": {},
   "outputs": [],
   "source": [
    "def multiply_sparse_matrix(A, B):\n",
    "    \"\"\" \n",
    "      Here I assume A and B are two dimensional lists.\n",
    "    \"\"\"\n",
    "    rows_A = len(A)\n",
    "    cols_A = len(A[0])\n",
    "    \n",
    "    rows_B = len(B)\n",
    "    cols_B = len(B[0])\n",
    "    \n",
    "    if A == None or B == None:\n",
    "        raise ValueError(\"One of the matrices is of None type\")\n",
    "        \n",
    "    if cols_A != rows_B:\n",
    "        raise ValueError(\"Dimensions of A and B are not a match!\")\n",
    "    \n",
    "    cols_prod = cols_B\n",
    "    rows_prod = rows_A\n",
    "    product = [x[:] for x in [[0] * (cols_prod)] * (rows_prod)]\n",
    "    for j in range(cols_B):\n",
    "        for i in range(rows_B):\n",
    "            if B[i][j]!=0:\n",
    "                for curr in range(rows_prod):\n",
    "                    product[curr][j] += B[i][j]*A[curr][i]\n",
    "    return product"
   ]
  },
  {
   "cell_type": "code",
   "execution_count": null,
   "metadata": {},
   "outputs": [],
   "source": [
    "A = [[0, 2, 0], [0, 0, 5]]\n",
    "B = [[1, 2], [0, 0], [5, 0]]\n",
    "multiply_sparse_matrix(A, B)"
   ]
  },
  {
   "cell_type": "markdown",
   "metadata": {},
   "source": [
    "### Matrix diagonal traverse"
   ]
  },
  {
   "cell_type": "code",
   "execution_count": 35,
   "metadata": {},
   "outputs": [],
   "source": [
    "# matrix diagonal traverse\n",
    "def findDiagonalOrder(matrix):\n",
    "    m = len(matrix)\n",
    "    n = len(matrix[0])\n",
    "    \n",
    "    if (m == 0):\n",
    "        return [0]\n",
    "    row = 0\n",
    "    col = 0\n",
    "        \n",
    "    arr = [0] * (m * n)\n",
    "\n",
    "    for ii in range(len(arr)):\n",
    "        arr[ii] = matrix[row][col]\n",
    "        # move up\n",
    "        if ((row + col) % 2 == 0):\n",
    "            if  (col == n - 1):\n",
    "                row += 1\n",
    "            elif (row == 0):\n",
    "                col += 1\n",
    "            else:\n",
    "                row -= 1\n",
    "                col +=1\n",
    "        # move down\n",
    "        else:\n",
    "            if (row == m - 1):\n",
    "                col += 1\n",
    "            elif (col == 0):\n",
    "                row += 1\n",
    "            else:\n",
    "                row += 1\n",
    "                col -= 1\n",
    "    return arr"
   ]
  },
  {
   "cell_type": "code",
   "execution_count": null,
   "metadata": {},
   "outputs": [],
   "source": [
    "public int[] findDiagonalOrder(int[][] matrix) {\n",
    "    if (matrix.length == 0) return new int[0];\n",
    "    int r = 0, c = 0, m = matrix.length, n = matrix[0].length, arr[] = new int[m * n];\n",
    "    for (int i = 0; i < arr.length; i++) {\n",
    "        arr[i] = matrix[r][c];\n",
    "        if ((r + c) % 2 == 0) { // moving up\n",
    "            if      (c == n - 1) { r++; }\n",
    "            else if (r == 0)     { c++; }\n",
    "            else            { r--; c++; }\n",
    "        } else {                // moving down\n",
    "            if      (r == m - 1) { c++; }\n",
    "            else if (c == 0)     { r++; }\n",
    "            else            { r++; c--; }\n",
    "        }   \n",
    "    }   \n",
    "    return arr;\n",
    "}\n"
   ]
  },
  {
   "cell_type": "code",
   "execution_count": null,
   "metadata": {},
   "outputs": [],
   "source": [
    "class Solution(object):\n",
    "    def spiral_order(self, matrix):\n",
    "        def spiral_coords(r1, c1, r2, c2):\n",
    "            for c in range(c1, c2 + 1):\n",
    "                yield r1, c\n",
    "            for r in range(r1 + 1, r2 + 1):\n",
    "                yield r, c2\n",
    "            if r1 < r2 and c1 < c2:\n",
    "                for c in range(c2 - 1, c1, -1):\n",
    "                    yield r2, c\n",
    "                for r in range(r2, r1, -1):\n",
    "                    yield r, c1\n",
    "\n",
    "        if not matrix: return []\n",
    "        ans = []\n",
    "        r1, r2 = 0, len(matrix) - 1\n",
    "        c1, c2 = 0, len(matrix[0]) - 1\n",
    "        while r1 <= r2 and c1 <= c2:\n",
    "            for r, c in spiral_coords(r1, c1, r2, c2):\n",
    "                ans.append(matrix[r][c])\n",
    "            r1 += 1; r2 -= 1\n",
    "            c1 += 1; c2 -= 1\n",
    "        return ans"
   ]
  },
  {
   "cell_type": "code",
   "execution_count": null,
   "metadata": {},
   "outputs": [],
   "source": [
    "# pascal Triangle\n",
    "class Solution:\n",
    "    def generate(self, num_rows):\n",
    "        triangle = []\n",
    "\n",
    "        for row_num in range(num_rows):\n",
    "            # The first and last row elements are always 1.\n",
    "            row = [None for _ in range(row_num+1)]\n",
    "            row[0], row[-1] = 1, 1\n",
    "\n",
    "            # Each triangle element is equal to the sum of the elements\n",
    "            # above-and-to-the-left and above-and-to-the-right.\n",
    "            for j in range(1, len(row)-1):\n",
    "                row[j] = triangle[row_num-1][j-1] + triangle[row_num-1][j]\n",
    "\n",
    "            triangle.append(row)\n",
    "\n",
    "        return triangle"
   ]
  },
  {
   "cell_type": "code",
   "execution_count": null,
   "metadata": {},
   "outputs": [],
   "source": []
  }
 ],
 "metadata": {
  "kernelspec": {
   "display_name": "Python 3",
   "language": "python",
   "name": "python3"
  },
  "language_info": {
   "codemirror_mode": {
    "name": "ipython",
    "version": 3
   },
   "file_extension": ".py",
   "mimetype": "text/x-python",
   "name": "python",
   "nbconvert_exporter": "python",
   "pygments_lexer": "ipython3",
   "version": "3.6.5"
  }
 },
 "nbformat": 4,
 "nbformat_minor": 2
}
