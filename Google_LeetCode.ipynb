{
 "cells": [
  {
   "cell_type": "markdown",
   "metadata": {},
   "source": [
    "# Google Questions From LeetCode\n",
    "\n",
    "\n",
    "Google Leetcode:\n",
    "\n",
    "    1. Repeated String Match (---Done---)\n",
    "    2. Next closest time (---Done---)\n",
    "    3. K empty slots\n",
    "    4. Longest univalue path\n",
    "    5. License key formatting (---Done---)\n",
    "\n",
    "\n",
    "#### Arrays and Strings\n",
    "    1. Spiral Matrix (---Done---)\n",
    "    2. Plus one (---Done---)\n",
    "    3. Max consecutive ones (---Done---)\n",
    "    4. First missing positive (---Done---)\n",
    "    5. Remove duplicates from sorted array (---Done---)\n",
    "    6. Add bold tag in string\n",
    "    7. One edit distance (---Done---)\n",
    "    8. Image smoother (---Done---)\n",
    "    9. First Unique character in string (---Done---)\n",
    "    10. Longest substring with at most K Distinct characters (---Done---)\n",
    "    11. Game of life\n",
    "\n",
    "#### Trees and graphs\n",
    "    1. Evaluate division (---Done--- but not with trees!)\n",
    "    2. Redundant connection II\n",
    "    3. Validate binary search tree (---Done in FaceBook---)\n",
    "    4. In-order successor in BST\n",
    "    5. Course Schedule\n",
    "    6. Closest binary search value (---Done---)\n",
    "\n",
    "#### Recursion\n",
    "    1. Word Squares\n",
    "    2. Word Search II\n",
    "    3. Android unlock patterns\n",
    "    4. Strobogrammatic Number II\n",
    "\n",
    "#### Sorting and searching\n",
    "    1. Shortest distance from all buildings\n",
    "    2. Find k pairs with smallest sums\n",
    "    3. sqrt(x)\n",
    "    4. Sort transformed array\n",
    "    5. Next greater element I\n",
    "    6. Evaluate reverse Polish Nation\n",
    "    7. Find kth smallest pair distance\n",
    "    8. Range module\n",
    "    9. Insert interval\n",
    "    10. Merge intervals (---Done in FaceBook---)\n",
    "    11. Diagonal traverse\n",
    "    12. Pacific Atlantic water flow\n",
    "\n",
    "#### Dynamic Programming\n",
    "    1. Decode Ways (---Done in FaceBook---)\n",
    "    2. Sentence screen fitting\n",
    "    3. Edit distance\n",
    "    4. House robber II\n",
    "    5. Word break\n",
    "    6. Maximum vacation days\n",
    "    7. Minimum path sum\n",
    "\n",
    "#### Design\n",
    "    1. Moving arrays from data stream\n",
    "    2. Binary search tree iterator\n",
    "    3. Design tic tac toe\n",
    "    4. Peeking iterator\n",
    "    5. Zigzag iterator\n",
    "    6. Range sum query 2D module\n"
   ]
  },
  {
   "cell_type": "markdown",
   "metadata": {},
   "source": [
    "## Arrays and Strings"
   ]
  },
  {
   "cell_type": "markdown",
   "metadata": {},
   "source": [
    "### Spiral Matrix\n",
    "Given a matrix of m x n elements (m rows, n columns), \n",
    "return all elements of the matrix in spiral order.\n",
    "\n",
    "**Input**:\n",
    "```python\n",
    "[\n",
    " [ 1, 2, 3 ],\n",
    " [ 4, 5, 6 ],\n",
    " [ 7, 8, 9 ]\n",
    "]\n",
    "```\n",
    "**Output**: ```[1,2,3,6,9,8,7,4,5]```"
   ]
  },
  {
   "cell_type": "code",
   "execution_count": 2,
   "metadata": {},
   "outputs": [],
   "source": [
    "def spiral_order(matrix):\n",
    "    \"\"\"\n",
    "    input: matrix, a 2D array, i.e. list of lists.\n",
    "    output: spiral_order : a 1D list of elements of matrix in spiral fashion\n",
    "    \"\"\"\n",
    "    rows = len(matrix)\n",
    "    cols = len(matrix[0])\n",
    "    if rows==0:\n",
    "        return []\n",
    "    \n",
    "    spiral_order = [0] * (rows*cols)\n",
    "    curr_start_row = 0\n",
    "    curr_end_row = rows-1\n",
    "\n",
    "    curr_start_col = 0\n",
    "    curr_end_col = cols-1\n",
    "    \n",
    "    counter = 0\n",
    "    \"\"\"\n",
    "    direction tells us what direction to go.\n",
    "    left-to-right: 0\n",
    "    top-to-bottom: 1\n",
    "    right-to-left: 2\n",
    "    bottom-to-up:  3\n",
    "    \"\"\"\n",
    "    direction = 0\n",
    "\n",
    "    \n",
    "    while counter<(rows*cols):\n",
    "        if direction==0: # left-to-right\n",
    "            for j in range(curr_start_col, curr_end_col+1):\n",
    "                spiral_order[counter] = matrix[curr_start_row][j]\n",
    "                counter += 1\n",
    "            direction = 1\n",
    "            curr_start_row = curr_start_row+1\n",
    "        \n",
    "        elif direction==1: # top-to-bottom\n",
    "            for i in range(curr_start_row, curr_end_row+1):\n",
    "                spiral_order[counter] = matrix[i][curr_end_col]\n",
    "                counter += 1\n",
    "            direction = 2\n",
    "            curr_end_col -= 1\n",
    "        \n",
    "        elif direction==2:  # right-to-left\n",
    "            for j in reversed(range(curr_start_col, curr_end_col+1)):\n",
    "                spiral_order[counter] = matrix[curr_end_row][j]\n",
    "                counter += 1\n",
    "            direction = 3\n",
    "            curr_end_row -= 1\n",
    "        \n",
    "        elif direction==3:\n",
    "            for i in reversed(range(curr_start_row, curr_end_row+1)):\n",
    "                spiral_order[counter] = matrix[i][curr_start_col]\n",
    "                counter += 1\n",
    "            direction = 0\n",
    "            curr_start_col += 1\n",
    "    return spiral_order"
   ]
  },
  {
   "cell_type": "code",
   "execution_count": 7,
   "metadata": {},
   "outputs": [
    {
     "data": {
      "text/plain": [
       "[[0, 1, 2, 3],\n",
       " [13, 14, 15, 4],\n",
       " [12, 19, 16, 5],\n",
       " [11, 18, 17, 6],\n",
       " [10, 9, 8, 7]]"
      ]
     },
     "execution_count": 7,
     "metadata": {},
     "output_type": "execute_result"
    }
   ],
   "source": [
    "A = [[0, 1, 2, 3],[13, 14, 15, 4],[12, 19, 16, 5],[11, 18, 17, 6],[10, 9, 8, 7]]\n",
    "A"
   ]
  },
  {
   "cell_type": "code",
   "execution_count": 6,
   "metadata": {},
   "outputs": [
    {
     "data": {
      "text/plain": [
       "[0, 1, 2, 3, 4, 5, 6, 7, 8, 9, 10, 11, 12, 13, 14, 15, 16, 17, 18, 19]"
      ]
     },
     "execution_count": 6,
     "metadata": {},
     "output_type": "execute_result"
    }
   ],
   "source": [
    "spiral_order(A)"
   ]
  },
  {
   "cell_type": "markdown",
   "metadata": {},
   "source": [
    "### Plus One\n",
    "Given a non-empty array of digits representing a non-negative integer, plus one to the integer.\n",
    "\n",
    "The digits are stored such that the most significant digit is at the head of the list, and each element in the array contain a single digit.\n",
    "\n",
    "You may assume the integer does not contain any leading zero, except the number 0 itself.\n",
    "\n",
    "--------\n",
    "\n",
    "**Input**: ```[1,2,3]```\n",
    "   \n",
    "**Output**: ```[1,2,4]```\n",
    "\n",
    "Explanation: The array represents the integer 123.\n",
    "\n",
    "--------\n",
    "**Input**: ```[4,3,2,1]```\n",
    "\n",
    "**Output**: ```[4,3,2,2]```\n",
    "\n",
    "\n",
    "Explanation: The array represents the integer 4321."
   ]
  },
  {
   "cell_type": "code",
   "execution_count": 125,
   "metadata": {},
   "outputs": [],
   "source": [
    "def plus_one(num_list):\n",
    "    for i in reversed(range(len(num_list))):\n",
    "        if num_list[i] == 9:\n",
    "            num_list[i] = 0\n",
    "        else:\n",
    "            num_list[i] += 1\n",
    "            return num_list\n",
    "    num_list[0] = 1\n",
    "    num_list.append(0)\n",
    "    return num_list"
   ]
  },
  {
   "cell_type": "code",
   "execution_count": 127,
   "metadata": {},
   "outputs": [
    {
     "data": {
      "text/plain": [
       "[1, 0]"
      ]
     },
     "execution_count": 127,
     "metadata": {},
     "output_type": "execute_result"
    }
   ],
   "source": [
    "plus_one([9])"
   ]
  },
  {
   "cell_type": "markdown",
   "metadata": {},
   "source": [
    "### Max consecutive ones\n",
    "\n",
    "Given a binary array, find the maximum number of consecutive 1s in this array.\n",
    "\n",
    "**Input**: ```[1,1,0,1,1,1]```\n",
    "\n",
    "**Output**: ```3```\n",
    "\n",
    "Explanation: The first two digits or the last three digits are consecutive ```1```'s.\n",
    "The maximum number of consecutive ```1```'s is ```3```.\n",
    "    \n",
    "**Note**:\n",
    "\n",
    "The input array will only contain ```0``` and ```1```.\n",
    "The length of input array is a positive integer and will not exceed 10,000\n"
   ]
  },
  {
   "cell_type": "code",
   "execution_count": 154,
   "metadata": {},
   "outputs": [],
   "source": [
    "def max_consecutive_ones(alist):\n",
    "    list_len = len(alist)\n",
    "    if list_len==0:\n",
    "        return 0\n",
    "    \n",
    "    max_len = 0\n",
    "    current_len = 0\n",
    "    current_pointer = 0\n",
    "    \n",
    "    while current_pointer<list_len:\n",
    "        if alist[current_pointer]==1:\n",
    "            current_len += 1\n",
    "            current_pointer += 1\n",
    "            max_len = max(max_len, current_len)\n",
    "        elif alist[current_pointer]==0:\n",
    "            max_len = max(max_len, current_len)\n",
    "            current_pointer += 1\n",
    "            current_len=0\n",
    "    \n",
    "    return max_len"
   ]
  },
  {
   "cell_type": "code",
   "execution_count": 155,
   "metadata": {},
   "outputs": [
    {
     "data": {
      "text/plain": [
       "3"
      ]
     },
     "execution_count": 155,
     "metadata": {},
     "output_type": "execute_result"
    }
   ],
   "source": [
    "max_consecutive_ones([ 1, 1, 1])"
   ]
  },
  {
   "cell_type": "markdown",
   "metadata": {},
   "source": [
    "### First Missing Positive\n",
    "\n",
    "Given an unsorted integer array, find the smallest missing positive integer.\n",
    "\n",
    "\n",
    "-------\n",
    "**Input:** ```[1,2,0]```\n",
    "\n",
    "**Output:** ```3```\n",
    "\n",
    "-------\n",
    "**Input:** ```[3,4,-1,1]```\n",
    "\n",
    "**Output:** ```2```\n",
    "\n",
    "---------\n",
    "**Input:** ```[7,8,9,11,12]```\n",
    "\n",
    "**Output:** ```1```\n",
    "\n",
    "----------\n",
    "**Note:** Your algorithm should run in O(n) time and uses constant extra space.\n",
    "\n"
   ]
  },
  {
   "cell_type": "code",
   "execution_count": 201,
   "metadata": {},
   "outputs": [],
   "source": [
    "def find_missing_positive(alist):\n",
    "    list_len = len(alist)\n",
    "    \n",
    "    if list_len==0:\n",
    "        return 1\n",
    "    \n",
    "    if list_len==1:\n",
    "        if alist[0] != 1:\n",
    "            return 1\n",
    "        else:\n",
    "            return min(2, alist[0])\n",
    "    \n",
    "    pointer = 0\n",
    "    while pointer<list_len:\n",
    "        if (alist[pointer]==pointer+1) or (alist[pointer]>list_len) or (alist[pointer]<=0):\n",
    "            pointer += 1\n",
    "        elif alist[alist[pointer]-1] != alist[pointer]:\n",
    "            alist[alist[pointer]-1], alist[pointer] = alist[pointer], alist[alist[pointer]-1]\n",
    "        else:\n",
    "            pointer += 1\n",
    "            \n",
    "    pointer = 0\n",
    "    while (pointer<list_len and alist[pointer]==pointer+1):\n",
    "        pointer += 1\n",
    "    return (pointer + 1)  "
   ]
  },
  {
   "cell_type": "code",
   "execution_count": 202,
   "metadata": {},
   "outputs": [
    {
     "data": {
      "text/plain": [
       "4"
      ]
     },
     "execution_count": 202,
     "metadata": {},
     "output_type": "execute_result"
    }
   ],
   "source": [
    "find_missing_positive([-10, 2, 1, 10, 3])"
   ]
  },
  {
   "cell_type": "markdown",
   "metadata": {},
   "source": [
    "#### Remove Duplicates from Sorted Array\n",
    "Given a sorted array nums, remove the duplicates \n",
    "in-place such that each element appear only \n",
    "once and return the new length.\n",
    "\n",
    "Do not allocate extra space for another array, \n",
    "you must do this by modifying the input array \n",
    "in-place with O(1) extra memory.\n",
    "\n",
    "--------\n",
    "Given ```nums = [1,1,2]```,\n",
    "\n",
    "Your function should return ```length = 2```, \n",
    "with the first two elements of ```nums``` \n",
    "being ```1``` and ```2``` respectively.\n",
    "\n",
    "It doesn't matter what you leave beyond the returned length.\n",
    "\n",
    "-------\n",
    "Given ```nums = [0,0,1,1,1,2,2,3,3,4]```,\n",
    "\n",
    "Your function should return ```length = 5```, \n",
    "with the first five elements of nums being \n",
    "modified to ```0```, ```1```, ```2```,\n",
    "```3```, and ```4``` respectively.\n",
    "\n",
    "It doesn't matter what values are set beyond the returned length."
   ]
  },
  {
   "cell_type": "code",
   "execution_count": 215,
   "metadata": {},
   "outputs": [],
   "source": [
    "def remove_duplicates(arr):\n",
    "    first_idx = find_first_duplicate(arr)\n",
    "    if first_idx==-1:\n",
    "        return len(arr)\n",
    "    else:\n",
    "        for right_pointer in range(first_idx+1, len(arr)):\n",
    "            if arr[right_pointer] > arr[first_idx-1]:\n",
    "                arr[first_idx] = arr[right_pointer]\n",
    "                first_idx += 1\n",
    "    return (first_idx)\n",
    "\n",
    "def find_first_duplicate(arr):\n",
    "    for ii in range(1, len(arr)):\n",
    "        if arr[ii]==arr[ii-1]:\n",
    "            return ii\n",
    "    return -1"
   ]
  },
  {
   "cell_type": "code",
   "execution_count": 217,
   "metadata": {},
   "outputs": [],
   "source": [
    "# less flop counts!\n",
    "def remove_duplicates(arr):\n",
    "    first_idx = find_first_duplicate(arr)\n",
    "    \n",
    "    if first_idx==-1:\n",
    "        return len(arr)\n",
    "    else:\n",
    "        right_pointer = first_idx+1\n",
    "        while right_pointer<len(arr)-1:\n",
    "            if arr[right_pointer] == arr[right_pointer+1]:\n",
    "                right_pointer += 1\n",
    "            else:\n",
    "                if arr[right_pointer] > arr[first_idx-1]:\n",
    "                    arr[first_idx] = arr[right_pointer]\n",
    "                    first_idx += 1\n",
    "                    right_pointer += 1\n",
    "                else:\n",
    "                    right_pointer += 1\n",
    "\n",
    "\n",
    "        if arr[-1]>arr[first_idx-1]:\n",
    "            arr[first_idx] = arr[right_pointer]\n",
    "            first_idx += 1\n",
    "    return (first_idx)"
   ]
  },
  {
   "cell_type": "markdown",
   "metadata": {},
   "source": [
    "### One Edit Away (one away)\n",
    "### One edit distance\n",
    "\n",
    "    remove == insert\n",
    "    replace\n",
    "\n",
    "this can be done by sorting both words, and then going one by one!\n",
    "    "
   ]
  },
  {
   "cell_type": "code",
   "execution_count": 256,
   "metadata": {},
   "outputs": [],
   "source": [
    "def one_edit_away(word1, word2):\n",
    "    len1 = len(word1)\n",
    "    len2 = len(word2)\n",
    "    if abs(len2 - len1) >= 2:\n",
    "        return 0\n",
    "    \n",
    "    diff_count = 0\n",
    "    \n",
    "    p1 = 0\n",
    "    p2 = 0\n",
    "    while (p1<len1) and (p2<len2):\n",
    "        if word1[p1] != word2[p2]:\n",
    "            diff_count += 1\n",
    "            if diff_count >=2:\n",
    "                return 0\n",
    "            \n",
    "            if len1>len2:\n",
    "                p1+=1\n",
    "            elif len2>len1:\n",
    "                p2+=1\n",
    "            else:\n",
    "                p1+=1\n",
    "                p2+=1\n",
    "        else:\n",
    "            p1 += 1\n",
    "            p2 += 1\n",
    "        \n",
    "#    if diff_count==1 and abs(len1-len2)==0:\n",
    "#        return 1\n",
    "#    if diff_count==0 and abs(len1-len2)<=1:\n",
    "#        return 1\n",
    "    if diff_count<=1:\n",
    "        return 1\n",
    "    else:\n",
    "        return 0"
   ]
  },
  {
   "cell_type": "code",
   "execution_count": 258,
   "metadata": {},
   "outputs": [
    {
     "data": {
      "text/plain": [
       "1"
      ]
     },
     "execution_count": 258,
     "metadata": {},
     "output_type": "execute_result"
    }
   ],
   "source": [
    "one_edit_away('bake', 'bale')"
   ]
  },
  {
   "cell_type": "markdown",
   "metadata": {},
   "source": [
    "### Image Smoother (Convolution)\n",
    "\n",
    "Given a 2D integer matrix M representing the gray scale of an image, you need to design a smoother to make the gray scale of each cell becomes the average gray scale (rounding down) of all the 8 surrounding cells and itself. If a cell has less than 8 surrounding cells, then use as many as you can.\n",
    "\n",
    "--------\n",
    "**Example:**\n",
    "**Input:**\n",
    "\n",
    "```python\n",
    "[[1,1,1],\n",
    " [1,0,1],\n",
    " [1,1,1]]\n",
    "``` \n",
    "**Output:**\n",
    "```python\n",
    "[[0, 0, 0],\n",
    " [0, 0, 0],\n",
    " [0, 0, 0]]\n",
    "```\n",
    "\n",
    "**Explanation:**\n",
    "\n",
    "For the point ```(0,0), (0,2), (2,0), (2,2): floor(3/4) = floor(0.75) = 0 ```\n",
    "\n",
    "For the point ```(0,1), (1,0), (1,2), (2,1): floor(5/6) = floor(0.83333333) = 0```\n",
    "\n",
    "For the point ```(1,1): floor(8/9) = floor(0.88888889) = 0```\n"
   ]
  },
  {
   "cell_type": "code",
   "execution_count": 11,
   "metadata": {},
   "outputs": [],
   "source": [
    "def image_smoother(M):\n",
    "    rows = len(M)\n",
    "    cols = len(M[0])\n",
    "    smoothened = [x[:] for x in [[0] * cols] * rows]\n",
    "\n",
    "    for curr_r in range(rows):\n",
    "        for curr_c in range(cols):\n",
    "            count_neighbors = 0\n",
    "            for neighbor_row in (curr_r-1, curr_r, curr_r+1):\n",
    "                for neighbor_col in (curr_c-1, curr_c, curr_c+1):\n",
    "                    if 0 <= neighbor_row < rows and 0 <= neighbor_col < cols:\n",
    "                        smoothened[curr_r][curr_c] += M[neighbor_row][neighbor_col]\n",
    "                        count_neighbors += 1\n",
    "            smoothened[curr_r][curr_c] //= count_neighbors\n",
    "            \n",
    "    return smoothened"
   ]
  },
  {
   "cell_type": "code",
   "execution_count": 12,
   "metadata": {},
   "outputs": [
    {
     "data": {
      "text/plain": [
       "[[0, 0, 0], [0, 0, 0], [0, 0, 0]]"
      ]
     },
     "execution_count": 12,
     "metadata": {},
     "output_type": "execute_result"
    }
   ],
   "source": [
    "M = [[1,1,1],\n",
    " [1,0,1],\n",
    " [1,1,1]]\n",
    "\n",
    "image_smoother(M)"
   ]
  },
  {
   "cell_type": "markdown",
   "metadata": {},
   "source": [
    "### Edit Distance\n",
    "\n",
    "Given two words ```word1``` and ```word2```, find the minimum number of operations required to convert ```word1``` to ```word2```.\n",
    "\n",
    "You have the following 3 operations permitted on a word:\n",
    "\n",
    "   1. Insert a character\n",
    "   2. Delete a character\n",
    "   3. Replace a character\n",
    "\n",
    "--------\n",
    "Example:\n",
    "\n",
    "**Input**: ```word1 = horse```, ```word2 = ros```\n",
    "\n",
    "**Output**: ```3```\n",
    "\n",
    "**Explanation**: \n",
    "\n",
    "  ```horse -> rorse``` (replace 'h' with 'r')\n",
    "  \n",
    "  ```rorse -> rose``` (remove 'r')\n",
    "  \n",
    "  ```rose -> ros``` (remove 'e')\n",
    "\n",
    "----------\n",
    "**Input**: \n",
    "\n",
    "  ```word1 = intention```, \n",
    "\n",
    " ```word2 = execution```\n",
    "\n",
    "**Output**: ```5```\n",
    "\n",
    "**Explanation**:\n",
    "   \n",
    "  ```intention -> inention``` (remove 't')\n",
    "  \n",
    "  ```inention -> enention``` (replace 'i' with 'e')\n",
    "  \n",
    "  ```enention -> exention``` (replace 'n' with 'x')\n",
    "  \n",
    "  ```exention -> exection``` (replace 'n' with 'c')\n",
    "  \n",
    "  ```exection -> execution``` (insert 'u')"
   ]
  },
  {
   "cell_type": "code",
   "execution_count": null,
   "metadata": {},
   "outputs": [],
   "source": [
    "def edit_distance(word1, word2):\n",
    "    "
   ]
  },
  {
   "cell_type": "markdown",
   "metadata": {},
   "source": [
    "### First Unique Character in a String\n",
    "\n",
    "Given a string, find the first non-repeating character in it and return it's index. If it doesn't exist, return -1.\n",
    "\n",
    "-------\n",
    "```s = leetcode```\n",
    "\n",
    "return ```0```\n",
    "\n",
    "-------\n",
    "```s = loveleetcode```\n",
    "\n",
    "return ```2```"
   ]
  },
  {
   "cell_type": "code",
   "execution_count": 1,
   "metadata": {},
   "outputs": [],
   "source": [
    "def first_uniqe_char(string):\n",
    "    \"\"\"\n",
    "    First create a hash table of count of letters,\n",
    "    then go back to the string and see which one has\n",
    "    count 1.\n",
    "    \"\"\"\n",
    "    string_len = len(string)\n",
    "    \n",
    "    if string_len==0:\n",
    "        return -1\n",
    "    \n",
    "    char_count = {}\n",
    "    for char in string:\n",
    "        if char in char_count:\n",
    "            char_count[char] += 1\n",
    "        else:\n",
    "            char_count[char] = 1\n",
    "            \n",
    "    for idx, char in enumerate(string):\n",
    "        if char_count[char]==1:\n",
    "            return idx\n",
    "    return -1"
   ]
  },
  {
   "cell_type": "code",
   "execution_count": 17,
   "metadata": {},
   "outputs": [
    {
     "data": {
      "text/plain": [
       "2"
      ]
     },
     "execution_count": 17,
     "metadata": {},
     "output_type": "execute_result"
    }
   ],
   "source": [
    "first_uniqe_char('loveleetcode')"
   ]
  },
  {
   "cell_type": "markdown",
   "metadata": {},
   "source": [
    "### Longest substring with at most K Distinct Characters\n",
    "\n",
    "Given a string, find the length of the longest substring ```T``` that contains at most ```k``` distinct characters.\n",
    "\n",
    "For example, Given ```s = \"eceba\"``` and ```k = 2```, ```T = \"ece\"``` which its length is ```3```."
   ]
  },
  {
   "cell_type": "code",
   "execution_count": 52,
   "metadata": {},
   "outputs": [],
   "source": [
    "def longest_substring(string):\n",
    "    \n",
    "    if len(string)<k:\n",
    "        return 0\n",
    "    \n",
    "    \"\"\"\n",
    "    There are 26 letters, we place count of each letter in \n",
    "    its proper place in a vector of size 26.\n",
    "    a maps to 0, ..., z maps to 25\n",
    "    \"\"\"\n",
    "    left_pointer = 0\n",
    "    max_len = 0\n",
    "    while left_pointer<len(string):\n",
    "        letter_to_numb = [0]*26\n",
    "        letter_to_numb[ord(string[left_pointer])-97] = 1\n",
    "        substring_length = 1\n",
    "        distinct_count = 1\n",
    "        right_pointer = left_pointer+1\n",
    "        while right_pointer<len(string):\n",
    "            if letter_to_numb[ord(string[right_pointer])-97] == 1:\n",
    "                substring_length += 1\n",
    "                right_pointer += 1\n",
    "            else:\n",
    "                if distinct_count==k:\n",
    "                    break\n",
    "                else:\n",
    "                    letter_to_numb[ord(string[right_pointer])-97] = 1\n",
    "                    distinct_count += 1\n",
    "                    substring_length += 1\n",
    "                    right_pointer += 1\n",
    "        max_len = max(substring_length, max_len)\n",
    "        left_pointer += 1\n",
    "    \n",
    "    return max_len"
   ]
  },
  {
   "cell_type": "code",
   "execution_count": 53,
   "metadata": {},
   "outputs": [
    {
     "data": {
      "text/plain": [
       "3"
      ]
     },
     "execution_count": 53,
     "metadata": {},
     "output_type": "execute_result"
    }
   ],
   "source": [
    "longest_substring('ece', 2)"
   ]
  },
  {
   "cell_type": "markdown",
   "metadata": {},
   "source": [
    "### Longest Substring Without Repeating Characters\n",
    "\n",
    "Given a string, find the length of the longest substring without repeating characters.\n",
    "\n",
    "Examples:\n",
    "\n",
    "Given ```abcabcbb```, the answer is ```abc```, which the length is ```3```.\n",
    "\n",
    "Given ```bbbbb```, the answer is ```b```, with the length of ```1```.\n",
    "\n",
    "Given ```pwwkew```, the answer is ```wke```, with the length of ```3```. Note that the answer must be a substring, ```pwke``` is a subsequence and not a substring.\n",
    "\n"
   ]
  },
  {
   "cell_type": "code",
   "execution_count": 60,
   "metadata": {},
   "outputs": [],
   "source": [
    "def longest_unique_substring(string):\n",
    "    \"\"\"\n",
    "    This function assumes all characters from a-z, lower case!!!\n",
    "    Do a general version, a-z, A-Z, special characters, etc.\n",
    "    \"\"\"\n",
    "    str_len = len(string)\n",
    "    if str_len==0:\n",
    "        return 0\n",
    "    \n",
    "    left_pointer = 0\n",
    "    max_len = 1\n",
    "    \n",
    "    while left_pointer<str_len:\n",
    "        char_to_num = [0]*26\n",
    "        char_to_num[ord(string[left_pointer]) - 97] = 1\n",
    "        current_length = 1\n",
    "        right_pointer = left_pointer + 1\n",
    "        \n",
    "        while right_pointer<str_len:\n",
    "            if char_to_num[ord(string[right_pointer]) - 97] == 1:\n",
    "                break\n",
    "            else:\n",
    "                char_to_num[ord(string[right_pointer]) - 97] = 1\n",
    "                right_pointer += 1\n",
    "                current_length += 1\n",
    "        max_len = max(max_len, current_length)\n",
    "        left_pointer += 1\n",
    "    \n",
    "    return max_len"
   ]
  },
  {
   "cell_type": "code",
   "execution_count": 63,
   "metadata": {},
   "outputs": [
    {
     "data": {
      "text/plain": [
       "3"
      ]
     },
     "execution_count": 63,
     "metadata": {},
     "output_type": "execute_result"
    }
   ],
   "source": [
    "longest_unique_substring('abcabcbb')"
   ]
  },
  {
   "cell_type": "code",
   "execution_count": 80,
   "metadata": {},
   "outputs": [],
   "source": [
    "def longest_unique_substring_general(string):\n",
    "    if len(string) ==0:\n",
    "        return 0\n",
    "    left_pointer = 0\n",
    "    max_len = 1\n",
    "    while left_pointer<len(string):\n",
    "        A = {}\n",
    "        A[string[left_pointer]] = 1\n",
    "        right_pointer = left_pointer+1\n",
    "        \n",
    "        while right_pointer<len(string):\n",
    "            if string[right_pointer] in A:\n",
    "                break\n",
    "            else:\n",
    "                A[string[right_pointer]] = 1\n",
    "                right_pointer += 1\n",
    "        max_len = max(max_len, len(A))\n",
    "        left_pointer += 1\n",
    "\n",
    "    return max_len"
   ]
  },
  {
   "cell_type": "code",
   "execution_count": 81,
   "metadata": {},
   "outputs": [
    {
     "data": {
      "text/plain": [
       "3"
      ]
     },
     "execution_count": 81,
     "metadata": {},
     "output_type": "execute_result"
    }
   ],
   "source": [
    "longest_unique_substring_general('abcabcbb')"
   ]
  },
  {
   "cell_type": "markdown",
   "metadata": {},
   "source": [
    "## Trees and Graphs"
   ]
  },
  {
   "cell_type": "markdown",
   "metadata": {},
   "source": [
    "### Evaluate division\n",
    "\n",
    "Equations are given in the format ```A / B = k```, where ```A``` and ```B``` are variables represented as strings, and ```k``` is a real number (floating point number). Given some queries, return the answers. If the answer does not exist, return ```-1.0```.\n",
    "\n",
    "**Example**:\n",
    "\n",
    "**Given** ```a / b = 2.0, b / c = 3.0. ```\n",
    "\n",
    "**queries are**: ```a / c = ?, b / a = ?, a / e = ?, a / a = ?, x / x = ?```\n",
    "\n",
    "**return** ```[6.0, 0.5, -1.0, 1.0, -1.0 ]```.\n",
    "\n",
    "The input is: ```vector<pair<string, string>> equations, vector<double>& values, vector<pair<string, string>> queries``` , where ```equations.size() == values.size()```, and the values are positive. This represents the equations. Return ```vector<double>```.\n",
    "\n",
    "According to the example above:\n",
    "\n",
    "```equations = [ [\"a\", \"b\"], [\"b\", \"c\"] ]```,\n",
    "\n",
    "```values = [2.0, 3.0]```,\n",
    "\n",
    "```queries = [ [\"a\", \"c\"], [\"b\", \"a\"], [\"a\", \"e\"], [\"a\", \"a\"], [\"x\", \"x\"] ]```"
   ]
  },
  {
   "cell_type": "code",
   "execution_count": 29,
   "metadata": {},
   "outputs": [],
   "source": [
    "def calc_equation(equations, values, queries):\n",
    "    \"\"\"\n",
    "    :type equations: List[List[str]]\n",
    "    :type values: List[float]\n",
    "    :type queries: List[List[str]]\n",
    "    :rtype: List[float]\n",
    "    \n",
    "    Create a hash table and assing numbers to\n",
    "    variables and then compute the queries.\n",
    "    \"\"\"\n",
    "    no_eq = len(equations)\n",
    "    no_vals = len(values)\n",
    "    no_solution = len(queries)\n",
    "    \n",
    "    solution = [None] * no_solution\n",
    "    numbers = {}\n",
    "    \n",
    "    if no_eq != no_vals:\n",
    "        raise ValueError(\"Number of equations is not the same as number of values!\")\n",
    "    \n",
    "    for fraction, val in zip(equations, values):\n",
    "        # check the equation\n",
    "        check_single_equation(fraction, val)\n",
    "        \n",
    "        # update the numbers\n",
    "        check_add_equation_table(fraction, val, numbers)\n",
    "    \n",
    "    # Compute queries\n",
    "    for count in range(no_solution):\n",
    "        if (queries[count][0] in numbers) and (queries[count][1] in numbers):\n",
    "            if numbers[queries[count][1]]==0:\n",
    "                solution[count] = -1.0\n",
    "            else:\n",
    "                solution[count] = numbers[queries[count][0]] / numbers[queries[count][1]]\n",
    "        else:\n",
    "            solution[count] = -1.0\n",
    "            \n",
    "    return solution\n",
    "    \n",
    "def check_single_equation(eq, val):\n",
    "    \"\"\"\n",
    "    Check whether the equation is a valid one or not.\n",
    "    \"\"\"\n",
    "    if eq[0]==eq[1] and val!=1:\n",
    "        raise ValueError('Wring Equation: Fraction should equal 1, but it does not')\n",
    "        return False    \n",
    "    return True\n",
    "\n",
    "def check_add_equation_table(single_equation, single_value, hash_table):\n",
    "    \"\"\"\n",
    "    check a single equation with present values in the\n",
    "    hash_table. If they are not there, add them.\n",
    "    \"\"\"\n",
    "    if (single_equation[0] in hash_table) and (single_equation[1] in hash_table):\n",
    "        if hash_table[single_equation[1]] == 0:\n",
    "            raise ValueError('Division by zero!')\n",
    "            \n",
    "        if (hash_table[single_equation[0]] / hash_table[single_equation[1]]) != single_value:\n",
    "            raise ValueError('Wrong Equation detected!')\n",
    "            \n",
    "            \n",
    "    # equation is not added to table\n",
    "    elif not(single_equation[0] in hash_table) and not(single_equation[1] in hash_table):\n",
    "        hash_table[single_equation[0]] = single_value\n",
    "        hash_table[single_equation[1]] = 1\n",
    "        \n",
    "    # numerator is in the table but not denominator\n",
    "    elif (single_equation[0] in hash_table) and not(single_equation[1] in hash_table):\n",
    "        if hash_table[single_equation[0]]==0 and single_value==0:\n",
    "            pass\n",
    "        elif hash_table[single_equation[0]]!=0 and single_value==0:\n",
    "            raise ValueError('Wrong Equation.')\n",
    "            \n",
    "        elif hash_table[single_equation[0]]!=0 and single_value!=0:\n",
    "            hash_table[single_equation[1]] = hash_table[single_equation[0]] / single_value\n",
    "        \n",
    "    \n",
    "    # numerator is not in the table but denominator is\n",
    "    elif not(single_equation[0] in hash_table) and (single_equation[1] in hash_table):\n",
    "        if hash_table[single_equation[1]]==0:\n",
    "            raise ValueError('Wrong Equation, division by zero!')\n",
    "        else:\n",
    "            hash_table[single_equation[0]] = hash_table[single_equation[1]] * single_value"
   ]
  },
  {
   "cell_type": "code",
   "execution_count": 30,
   "metadata": {},
   "outputs": [
    {
     "data": {
      "text/plain": [
       "[6.0, 0.5, -1.0, 1.0, -1.0]"
      ]
     },
     "execution_count": 30,
     "metadata": {},
     "output_type": "execute_result"
    }
   ],
   "source": [
    "equations = [ [\"a\", \"b\"], [\"b\", \"c\"] ]\n",
    "values = [2.0, 3.0]\n",
    "queries = [ [\"a\", \"c\"], [\"b\", \"a\"], [\"a\", \"e\"], [\"a\", \"a\"], [\"x\", \"x\"] ]\n",
    "\n",
    "calc_equation(equations, values, queries)"
   ]
  },
  {
   "cell_type": "markdown",
   "metadata": {},
   "source": [
    "### Redundant Connection II\n",
    "\n",
    "In this problem, a rooted tree is a directed graph such that, there is exactly one node (the root) for which all other nodes are descendants of this node, plus every node has exactly one parent, except for the root node which has no parents.\n",
    "\n",
    "The given input is a directed graph that started as a rooted tree with ```N``` nodes (with distinct values ```1, 2, ..., N``` ), with one additional directed edge added. The added edge has two different vertices chosen from ```1``` to ```N```, and was not an edge that already existed.\n",
    "\n",
    "The resulting graph is given as a 2D-array of edges. Each element of edges is a pair ```[u, v]``` that represents a directed edge connecting nodes ```u``` and ```v```, where ```u``` is a parent of child ```v```.\n",
    "\n",
    "Return an edge that can be removed so that the resulting graph is a rooted tree of ```N``` nodes. If there are multiple answers, return the answer that occurs last in the given 2D-array.\n",
    "\n",
    "--------------------\n",
    "**Input**: ```[[1,2], [1,3], [2,3]]```\n",
    "\n",
    "**Output**: ```[2,3]```\n",
    "\n",
    "**Explanation**: The given directed graph will be like this:\n",
    "\n",
    "       1\n",
    "      / \\\n",
    "     v   v\n",
    "     2-->3\n",
    "\n",
    "--------------------\n",
    "\n",
    "**Input**: ```[[1,2], [2,3], [3,4], [4,1], [1,5]]```\n",
    "\n",
    "**Output**: ```[4,1]```\n",
    "\n",
    "**Explanation**: The given directed graph will be like this:\n",
    "\n",
    "    5 <- 1 -> 2\n",
    "         ^    |\n",
    "         |    v\n",
    "         4 <- 3"
   ]
  },
  {
   "cell_type": "code",
   "execution_count": null,
   "metadata": {},
   "outputs": [],
   "source": []
  },
  {
   "cell_type": "markdown",
   "metadata": {},
   "source": [
    "#### Closest binary search value\n",
    "Given a non-empty binary search tree and a target value, find the value in the BST that is closest to the target.\n"
   ]
  },
  {
   "cell_type": "code",
   "execution_count": null,
   "metadata": {},
   "outputs": [],
   "source": [
    "class tree_node:\n",
    "    def __init__(self, key):\n",
    "        self.left = None\n",
    "        self.right = None\n",
    "        self.value = key"
   ]
  },
  {
   "cell_type": "code",
   "execution_count": 66,
   "metadata": {},
   "outputs": [],
   "source": [
    "def closest_binary_tree(root, target):\n",
    "    diff = abs(root.value - target)\n",
    "    current_closest = root\n",
    "    current_node = root\n",
    "    \n",
    "    while (current_node.left != None) or (current_node.right != None):\n",
    "        if target > current_node.value:\n",
    "            current_node = current_node.right\n",
    "            if abs(current_node.value - target) < diff:\n",
    "                current_closest = current_node\n",
    "        elif target < current_node.value:\n",
    "            current_node = current_node.left\n",
    "            if abs(current_node.value - target)< diff:\n",
    "                current_closest = current_node\n",
    "        else:\n",
    "            return current_node\n",
    "    return current_closest"
   ]
  },
  {
   "cell_type": "markdown",
   "metadata": {},
   "source": [
    "The following example is the tree:\n",
    " \n",
    "           8\n",
    "          / \\\n",
    "         3   10\n",
    "        / \\    \\ \n",
    "       1   6    14\n",
    "          / \\   /\n",
    "         4  7  13"
   ]
  },
  {
   "cell_type": "code",
   "execution_count": 68,
   "metadata": {},
   "outputs": [],
   "source": [
    "root = tree_node(8)\n",
    "a1 = tree_node(3)\n",
    "a2 = tree_node(10)\n",
    "a3 = tree_node(1)\n",
    "a4 = tree_node(6)\n",
    "a5 = tree_node(14)\n",
    "a6 = tree_node(4)\n",
    "a7 = tree_node(7)\n",
    "a8 = tree_node(13)"
   ]
  },
  {
   "cell_type": "code",
   "execution_count": 78,
   "metadata": {},
   "outputs": [],
   "source": [
    "root.left = a1\n",
    "root.right = a2\n",
    "a1.left = a3\n",
    "a1.right = a4\n",
    "a2.right = a5\n",
    "a4.left = a6\n",
    "a4.right = a7\n",
    "a5.left = a8"
   ]
  },
  {
   "cell_type": "code",
   "execution_count": 79,
   "metadata": {},
   "outputs": [],
   "source": [
    "ans = closest_binary_tree(root, 2)"
   ]
  },
  {
   "cell_type": "code",
   "execution_count": 80,
   "metadata": {},
   "outputs": [
    {
     "data": {
      "text/plain": [
       "1"
      ]
     },
     "execution_count": 80,
     "metadata": {},
     "output_type": "execute_result"
    }
   ],
   "source": [
    "ans.value"
   ]
  },
  {
   "cell_type": "markdown",
   "metadata": {},
   "source": [
    "#### Course Schedule\n",
    "\n",
    "There are a total of ```n``` courses you have to take, labeled from ```0``` to ```n-1```.\n",
    "\n",
    "Some courses may have prerequisites, for example to take course ```0``` you have to first take course ```1```, which is expressed as a pair: ```[0,1]```\n",
    "\n",
    "Given the total number of courses and a list of prerequisite pairs, is it possible for you to finish all courses?\n",
    "\n",
    "--------------\n",
    "\n",
    "**Input**: 2, ```[[1,0]]```\n",
    "\n",
    "**Output**: ```true```\n",
    "\n",
    "**Explanation**: There are a total of 2 courses to take. \n",
    "             To take course 1 you should have finished course 0. So it is possible.\n",
    "             \n",
    "----------------\n",
    "**Input**: 2, ```[[1,0],[0,1]]```\n",
    "\n",
    "**Output**: ```false```\n",
    "\n",
    "**Explanation**: There are a total of 2 courses to take. \n",
    "             To take course 1 you should have finished course 0, and to take course 0 you should\n",
    "             also have finished course 1. So it is impossible.\n",
    "             \n",
    "**Note**:\n",
    "\n",
    "    1. The input prerequisites is a graph represented by a list of edges, not adjacency matrices. \n",
    "    Read more about how a graph is represented.\n",
    "    2. You may assume that there are no duplicate edges in the input prerequisites."
   ]
  },
  {
   "cell_type": "code",
   "execution_count": null,
   "metadata": {},
   "outputs": [],
   "source": []
  },
  {
   "cell_type": "markdown",
   "metadata": {},
   "source": [
    "### Repeated String Match\n",
    "\n",
    "Given two strings ```A``` and ```B```, find the minimum number of times ```A``` has to be repeated such that ```B``` is a substring of it. If no such solution, return -1.\n",
    "\n",
    "For example, with ```A = abcd``` and ```B = cdabcdab```.\n",
    "\n",
    "Return ```3```, because by repeating ```A``` three times (```abcdabcdabcd```), ```B``` is a substring of it; and ```B``` is not a substring of ```A``` repeated two times (```abcdabcd```)."
   ]
  },
  {
   "cell_type": "code",
   "execution_count": 203,
   "metadata": {},
   "outputs": [],
   "source": [
    "def repeated_string_match(str1, str2):\n",
    "    \"\"\"\n",
    "    Question: is str2 a substring of repetition of str1?\n",
    "    output: 1 for yes\n",
    "            0 for no.\n",
    "    \"\"\"\n",
    "    len_str1 = len(str1)\n",
    "    len_str2 = len(str2)\n",
    "    dict1 = {}\n",
    "    for char in str1:\n",
    "        if char in dict1:\n",
    "            pass\n",
    "        else:\n",
    "            dict1[char] = 1\n",
    "            \n",
    "    dict2 = {}\n",
    "    for char in str2:\n",
    "        if char in dict2:\n",
    "            pass\n",
    "        else:\n",
    "            dict2[char] = 1\n",
    "    \n",
    "    if dict1 != dict2:\n",
    "        return -1\n",
    "    \n",
    "    \"\"\"\n",
    "     max_repetition does not include str1 itself.\n",
    "     So, if str2 is substring of str1 + str1 + str1\n",
    "     then max_repetition, computed below, is 2.\n",
    "    \"\"\"\n",
    "    \n",
    "    min_repetition = len_str2 // len_str1\n",
    "    if (min_repetition*len_str1) < len_str2:\n",
    "        min_repetition += 1\n",
    "\n",
    "    for ii in range(min_repetition-1):\n",
    "        str1 += str1\n",
    "        \n",
    "    if check_substr(str1, str2)==1:\n",
    "        return min_repetition\n",
    "    else:\n",
    "        str1 += str1\n",
    "        if check_substr(str1, str2)==1:\n",
    "            return min_repetition+1\n",
    "    return -1\n",
    "\n",
    "def check_substr(string, pattern):\n",
    "    \"\"\" \n",
    "    input: `string` and `pattern` are strings.\n",
    "            This function checks whether \n",
    "            pattern is a substring of string or not.\n",
    "    output: 1 if pattern is substring of string\n",
    "            0 otherwise.\n",
    "    \"\"\"\n",
    "    idx = find_first_letter(string, pattern)\n",
    "    if idx == -1:\n",
    "        return -1\n",
    "    else:\n",
    "        if string[idx:idx+len(pattern)]==pattern:\n",
    "            return 1\n",
    "        else:\n",
    "            return -1\n",
    "\n",
    "def find_first_letter(string, pattern):\n",
    "    for idx, char in enumerate(string):\n",
    "        if char==pattern[0]:\n",
    "            return idx\n",
    "    return -1"
   ]
  },
  {
   "cell_type": "markdown",
   "metadata": {},
   "source": [
    "### Next Closest time\n",
    "Given a time represented in the format ```HH:MM```, form the next closest time by reusing the current digits. There is no limit on how many times a digit can be reused.\n",
    "\n",
    "You may assume the given input string is always valid. For example, ```01:34```, ```12:09``` are all valid. ```1:34```, ```12:9``` are all invalid.\n",
    "\n",
    "-------\n",
    "Example 1:\n",
    "\n",
    "**Input**: ```19:34```\n",
    "\n",
    "**Output**: ```19:39```\n",
    "\n",
    "**Explanation**: The next closest time choosing \n",
    "from digits 1, 9, 3, 4, is ```19:39```, which occurs \n",
    "5 minutes later.  It is not ```19:33```, because \n",
    "this occurs 23 hours and 59 minutes later.\n",
    " \n",
    "-------\n",
    "Example 2:\n",
    "\n",
    "**Input**: ```23:59```\n",
    "\n",
    "**Output**: ```22:22```\n",
    "\n",
    "**Explanation**: The next closest time \n",
    "choosing from digits 2, 3, 5, 9, is ```22:22```. \n",
    "It may be assumed that the returned time \n",
    "is next day's time since it is smaller \n",
    "than the input time numerically."
   ]
  },
  {
   "cell_type": "code",
   "execution_count": 59,
   "metadata": {},
   "outputs": [],
   "source": [
    "def next_closest_time(time):        \n",
    "    input_set = set(time)\n",
    "    hour = int(time[:2])\n",
    "    minute = int(time[3:])\n",
    "    while True:\n",
    "        minute += 1\n",
    "        if minute == 60:\n",
    "            minute = 0\n",
    "            if hour == 23:\n",
    "                hour = 0  \n",
    "            else:\n",
    "                hour += 1\n",
    "        \n",
    "        # convert the format to 4 digits\n",
    "        curr_time = \"%02d:%02d\" % (hour, minute)\n",
    "        \n",
    "        # check to see all the digits of current time\n",
    "        # are in the input_set\n",
    "        if set(curr_time) <= input_set:\n",
    "            return curr_time\n",
    "    return time"
   ]
  },
  {
   "cell_type": "code",
   "execution_count": 60,
   "metadata": {},
   "outputs": [
    {
     "data": {
      "text/plain": [
       "'00:11'"
      ]
     },
     "execution_count": 60,
     "metadata": {},
     "output_type": "execute_result"
    }
   ],
   "source": [
    "next_closest_time('00:10')"
   ]
  },
  {
   "cell_type": "markdown",
   "metadata": {},
   "source": [
    "### K empty slots\n",
    "\n",
    "There is a garden with ```N``` slots. In each slot, there is a flower. The N flowers will bloom one by one in ```N``` days. In each day, there will be exactly one flower blooming and it will be in the status of blooming since then.\n",
    "\n",
    "Given an array flowers consists of number from 1 to N. Each number in the array represents the place where the flower will open in that day.\n",
    "\n",
    "For example, ```flowers[i] = x``` means that the unique flower that blooms at day ```i``` will be at position ```x```, where ```i``` and ```x``` will be in the range from ```1``` to ```N```.\n",
    "\n",
    "Also given an integer k, you need to output in which day there exists two flowers in the status of blooming, and also the number of flowers between them is ```k``` and these flowers are not blooming.\n",
    "\n",
    "If there isn't such day, output ```-1```.\n",
    "\n",
    "---------\n",
    "Example 1:\n",
    "\n",
    "**Input**: ```flowers: [1,3,2]```\n",
    "k: ```1```\n",
    "\n",
    "**Output**: ```2```\n",
    "\n",
    "**Explanation**: In the second day, the first and the third flower have become blooming.\n",
    " \n",
    "---------\n",
    "Example 2:\n",
    "\n",
    "   **Input**: ```flowers: [1,2,3]```, **k**: ```1``` \n",
    "\n",
    "   **Output**: ```-1```"
   ]
  },
  {
   "cell_type": "code",
   "execution_count": null,
   "metadata": {},
   "outputs": [],
   "source": [
    "def k_empty_slots(flower, k):\n",
    "    \n",
    "    slot_count = len(flower)\n",
    "    \n",
    "    if (slot_count == 0) or (k >= slot_count):\n",
    "        return -1\n",
    "    \n",
    "    if slot_count==2 and k == 0:\n",
    "        return 2\n",
    "    \n",
    "    "
   ]
  },
  {
   "cell_type": "markdown",
   "metadata": {},
   "source": [
    "### longest univalue path\n",
    "\n",
    "Given a binary tree, find the length of the longest path where each node in the path has the same value. This path may or may not pass through the root.\n",
    "\n",
    "Note: The length of path between two nodes is represented by the number of edges between them.\n",
    "\n",
    "Example 1:\n",
    "\n",
    "Input:\n",
    "\n",
    "              5\n",
    "             / \\\n",
    "            4   5\n",
    "           / \\   \\\n",
    "          1   1   5\n",
    "output: 2\n",
    "\n",
    "--------------\n",
    "              1\n",
    "             / \\\n",
    "            4   5\n",
    "           / \\   \\\n",
    "          4   4   5\n",
    "          \n",
    "output: 2"
   ]
  },
  {
   "cell_type": "code",
   "execution_count": null,
   "metadata": {},
   "outputs": [],
   "source": [
    "def longest_univalue_path(root):\n",
    "    "
   ]
  },
  {
   "cell_type": "code",
   "execution_count": null,
   "metadata": {},
   "outputs": [],
   "source": []
  },
  {
   "cell_type": "markdown",
   "metadata": {},
   "source": [
    "### License Key Formatting\n",
    "\n",
    "You are given a license key represented as a string ```S``` which consists only alphanumeric character and dashes. The string is separated into ```N+1``` groups by ```N``` dashes.\n",
    "\n",
    "Given a number ```K```, we would want to reformat the strings such that each group contains exactly ```K``` characters, except for the first group which could be shorter than ```K```, but still must contain at least one character. Furthermore, there must be a dash inserted between two groups and all lowercase letters should be converted to uppercase.\n",
    "\n",
    "Given a non-empty string ```S``` and a number ```K```, format the string according to the rules described above.\n",
    "\n",
    "**Input**: ```S = 5F3Z-2e-9-w, K = 4```\n",
    "\n",
    "**Output**: ```5F3Z-2E9W```\n",
    "\n",
    "**Explanation**: The string ```S``` has been split into two parts, each part has 4 characters.\n",
    "Note that the two extra dashes are not needed and can be removed.\n",
    "\n",
    "---------\n",
    "**Input**: ```S = 2-5g-3-J, K = 2```\n",
    "\n",
    "**Output**: ```2-5G-3J```\n",
    "\n",
    "**Explanation**: The string ```S``` has been split into three parts, each part has 2 characters except the first part as it could be shorter as mentioned above."
   ]
  },
  {
   "cell_type": "code",
   "execution_count": 197,
   "metadata": {},
   "outputs": [],
   "source": [
    "def license_key_formatting(S, K):\n",
    "    \n",
    "    str_len = len(S)\n",
    "    dash_count = find_no_dashes(S)\n",
    "    total_char_count = str_len - dash_count\n",
    "\n",
    "    \"\"\"\n",
    "    There are two cases:\n",
    "       either the first part has K characters in it.\n",
    "       or it has less\n",
    "    \"\"\"\n",
    "    first_seg_count = total_char_count % K\n",
    "    if first_seg_count==0:\n",
    "        first_seg_count = K\n",
    "    \n",
    "    # This is number of segmentations with K charachters in them\n",
    "    # it is also the number of new dashes we need\n",
    "    if first_seg_count==K:\n",
    "        segment_cout = total_char_count // K - 1\n",
    "    else:\n",
    "        segment_cout = total_char_count // K\n",
    "\n",
    "    new_licence = [None] * (total_char_count + segment_cout)\n",
    "    pointer = 0\n",
    "    new_idx = 0\n",
    "    subseg_count = 0\n",
    "    \n",
    "    while new_idx<len(new_licence):\n",
    "        if S[pointer] == '-':\n",
    "            pointer += 1\n",
    "\n",
    "        if new_idx==first_seg_count:\n",
    "            new_licence[new_idx] = '-'\n",
    "            new_idx += 1\n",
    "            \n",
    "        elif new_idx<first_seg_count and S[pointer]!='-' :\n",
    "            new_licence[new_idx] = S[pointer].upper()\n",
    "            new_idx += 1\n",
    "            pointer += 1\n",
    "        \n",
    "        elif new_idx>first_seg_count and S[pointer]!='-' :\n",
    "            if subseg_count==K:\n",
    "                new_licence[new_idx] = '-'\n",
    "                new_idx += 1\n",
    "                subseg_count = 0\n",
    "            else:\n",
    "                new_licence[new_idx] = S[pointer].upper()\n",
    "                new_idx += 1\n",
    "                pointer += 1\n",
    "                subseg_count += 1\n",
    "    return ''.join(new_licence)\n",
    "\n",
    "def find_no_dashes(S):\n",
    "    dash_count = 0\n",
    "    for char in S:\n",
    "        if char == '-':\n",
    "            dash_count += 1\n",
    "    return dash_count\n"
   ]
  },
  {
   "cell_type": "code",
   "execution_count": null,
   "metadata": {},
   "outputs": [],
   "source": []
  },
  {
   "cell_type": "markdown",
   "metadata": {},
   "source": [
    "### Remove Duplicates from Sorted Array\n",
    "\n",
    "Given a sorted array nums, remove the duplicates in-place such that each element appear only once and return the new length.\n",
    "\n",
    "Do not allocate extra space for another array, you must do this by modifying the input array in-place with O(1) extra memory.\n",
    "\n",
    "---------------\n",
    "\n",
    "Given ```nums = [1,1,2]```,\n",
    "\n",
    "Your function should return ```length = 2```, with the first two elements of nums being 1 and 2 respectively.\n",
    "\n",
    "It doesn't matter what you leave beyond the returned length.\n",
    "\n",
    "--------------\n",
    "Given ```nums = [0,0,1,1,1,2,2,3,3,4]```,\n",
    "\n",
    "Your function should return ```length = 5```, with the first five elements of nums being modified to 0, 1, 2, 3, and 4 respectively.\n",
    "\n",
    "It doesn't matter what values are set beyond the returned length.\n",
    "\n",
    "---------------\n",
    "**Clarification**:\n",
    "\n",
    "Confused why the returned value is an integer but your answer is an array?\n",
    "\n",
    "Note that the input array is passed in by reference, which means modification to the input array will be known to the caller as well.\n",
    "\n",
    "Internally you can think of this:\n",
    "\n",
    "```python\n",
    "# nums is passed in by reference. (i.e., without making a copy)\n",
    "int len = removeDuplicates(nums);\n",
    "\n",
    "# any modification to nums in your function would be known by the caller.\n",
    "# using the length returned by your function, it prints the first len elements.\n",
    "for (int i = 0; i < len; i++) {\n",
    "    print(nums[i]);\n",
    "}\n",
    "```"
   ]
  },
  {
   "cell_type": "code",
   "execution_count": 203,
   "metadata": {},
   "outputs": [],
   "source": [
    "def remove_duplicates(nums):\n",
    "        \"\"\"\n",
    "        :type nums: List[int]\n",
    "        :rtype: int\n",
    "        \"\"\"\n",
    "        left_pointer = 0\n",
    "        right_pointer = 1\n",
    "        if len(nums)==0:\n",
    "            return 0\n",
    "        if len(nums)==1:\n",
    "            return 1\n",
    "        \n",
    "        while right_pointer<len(nums):\n",
    "            if nums[right_pointer] == nums[left_pointer]:\n",
    "                right_pointer += 1\n",
    "            else:\n",
    "                nums[left_pointer+1] = nums[right_pointer]\n",
    "                left_pointer += 1\n",
    "                right_pointer+=1\n",
    "        return left_pointer+1"
   ]
  },
  {
   "cell_type": "code",
   "execution_count": 207,
   "metadata": {},
   "outputs": [
    {
     "data": {
      "text/plain": [
       "5"
      ]
     },
     "execution_count": 207,
     "metadata": {},
     "output_type": "execute_result"
    }
   ],
   "source": [
    "nums = [0,0,1,1,1,2,2,3,3,4]\n",
    "remove_duplicates(nums)"
   ]
  }
 ],
 "metadata": {
  "kernelspec": {
   "display_name": "Python 3",
   "language": "python",
   "name": "python3"
  },
  "language_info": {
   "codemirror_mode": {
    "name": "ipython",
    "version": 3
   },
   "file_extension": ".py",
   "mimetype": "text/x-python",
   "name": "python",
   "nbconvert_exporter": "python",
   "pygments_lexer": "ipython3",
   "version": "3.6.5"
  }
 },
 "nbformat": 4,
 "nbformat_minor": 2
}
